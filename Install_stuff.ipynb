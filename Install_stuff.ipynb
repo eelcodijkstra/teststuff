{
 "metadata": {
  "name": "",
  "signature": "sha256:64ae339369c12ff1c9df08d1d19fb9364bc668dbbd969e3cce8c7d45c6703fad"
 },
 "nbformat": 3,
 "nbformat_minor": 0,
 "worksheets": [
  {
   "cells": [
    {
     "cell_type": "markdown",
     "metadata": {},
     "source": [
      "#Table of Contents\n",
      "* [Calico Document Tools](#Calico-Document-Tools)\n",
      "\t* [Install document & cell tools on this computer](#Install-document-&-cell-tools-on-this-computer)\n",
      "\t* [Add document tools to this notebook](#Add-document-tools-to-this-notebook)\n",
      "\t* [Information about document tools](#Information-about-document-tools)\n",
      "* [IPython Notebook Extensions from ipython-contrib](#IPython-Notebook-Extensions-from-ipython-contrib)\n"
     ]
    },
    {
     "cell_type": "heading",
     "level": 1,
     "metadata": {},
     "source": [
      "Calico Document Tools"
     ]
    },
    {
     "cell_type": "heading",
     "level": 2,
     "metadata": {},
     "source": [
      "Install document & cell tools on this computer"
     ]
    },
    {
     "cell_type": "code",
     "collapsed": false,
     "input": [
      "#!ipython install-nbextension https://bitbucket.org/ipre/calico/downloads/calico-document-tools-1.0.zip"
     ],
     "language": "python",
     "metadata": {},
     "outputs": [
      {
       "output_type": "stream",
       "stream": "stdout",
       "text": [
        "downloading https://bitbucket.org/ipre/calico/downloads/calico-document-tools-1.0.zip to /var/folders/1b/ym6hvzjx11vdq2h6c44v9_kr0000gp/T/tmplKpBag/calico-document-tools-1.0.zip\r\n"
       ]
      },
      {
       "output_type": "stream",
       "stream": "stdout",
       "text": [
        "extracting /var/folders/1b/ym6hvzjx11vdq2h6c44v9_kr0000gp/T/tmplKpBag/calico-document-tools-1.0.zip to /Users/nordin/.ipython/nbextensions\r\n"
       ]
      }
     ],
     "prompt_number": 8
    },
    {
     "cell_type": "code",
     "collapsed": false,
     "input": [
      "# !ipython install-nbextension https://bitbucket.org/ipre/calico/downloads/calico-cell-tools-1.0.zip"
     ],
     "language": "python",
     "metadata": {},
     "outputs": [
      {
       "output_type": "stream",
       "stream": "stdout",
       "text": [
        "downloading https://bitbucket.org/ipre/calico/downloads/calico-cell-tools-1.0.zip to /var/folders/1b/ym6hvzjx11vdq2h6c44v9_kr0000gp/T/tmp0W0VzU/calico-cell-tools-1.0.zip\r\n"
       ]
      },
      {
       "output_type": "stream",
       "stream": "stdout",
       "text": [
        "extracting /var/folders/1b/ym6hvzjx11vdq2h6c44v9_kr0000gp/T/tmp0W0VzU/calico-cell-tools-1.0.zip to /Users/nordin/.ipython/nbextensions\r\n"
       ]
      }
     ],
     "prompt_number": 1
    },
    {
     "cell_type": "heading",
     "level": 2,
     "metadata": {},
     "source": [
      "Add document tools to this notebook"
     ]
    },
    {
     "cell_type": "code",
     "collapsed": false,
     "input": [
      "%%javascript\n",
      "IPython.load_extensions('calico-document-tools');"
     ],
     "language": "python",
     "metadata": {},
     "outputs": [
      {
       "javascript": [
        "IPython.load_extensions('calico-document-tools');"
       ],
       "metadata": {},
       "output_type": "display_data",
       "text": [
        "<IPython.core.display.Javascript at 0x105aa9f50>"
       ]
      }
     ],
     "prompt_number": 13
    },
    {
     "cell_type": "heading",
     "level": 2,
     "metadata": {},
     "source": [
      "Information about document tools"
     ]
    },
    {
     "cell_type": "markdown",
     "metadata": {},
     "source": [
      "[iCalico info & installation](http://calicoproject.org/ICalico)"
     ]
    },
    {
     "cell_type": "code",
     "collapsed": false,
     "input": [
      "from IPython.display import YouTubeVideo\n",
      "# Notebook extensions demo\n",
      "YouTubeVideo('YbM8rrj-Bms')"
     ],
     "language": "python",
     "metadata": {},
     "outputs": [
      {
       "html": [
        "\n",
        "        <iframe\n",
        "            width=\"400\"\n",
        "            height=300\"\n",
        "            src=\"https://www.youtube.com/embed/YbM8rrj-Bms\"\n",
        "            frameborder=\"0\"\n",
        "            allowfullscreen\n",
        "        ></iframe>\n",
        "        "
       ],
       "metadata": {},
       "output_type": "pyout",
       "prompt_number": 2,
       "text": [
        "<IPython.lib.display.YouTubeVideo at 0x105ac7dd0>"
       ]
      }
     ],
     "prompt_number": 2
    },
    {
     "cell_type": "heading",
     "level": 1,
     "metadata": {},
     "source": [
      "IPython Notebook Extensions from ipython-contrib"
     ]
    },
    {
     "cell_type": "markdown",
     "metadata": {},
     "source": [
      "https://github.com/ipython-contrib/IPython-notebook-extensions/wiki"
     ]
    },
    {
     "cell_type": "code",
     "collapsed": false,
     "input": [
      "import IPython"
     ],
     "language": "python",
     "metadata": {},
     "outputs": [],
     "prompt_number": 1
    },
    {
     "cell_type": "code",
     "collapsed": false,
     "input": [
      "IPython.html.nbextensions.install_nbextension('https://github.com/ipython-contrib/IPython-notebook-extensions/blob/master/usability/linenumbers.js')\n",
      "IPython.html.nbextensions.check_nbextension('linenumbers.js')"
     ],
     "language": "python",
     "metadata": {},
     "outputs": [
      {
       "output_type": "stream",
       "stream": "stdout",
       "text": [
        "downloading https://github.com/ipython-contrib/IPython-notebook-extensions/blob/master/usability/linenumbers.js to /var/folders/1b/ym6hvzjx11vdq2h6c44v9_kr0000gp/T/tmpUFeDSw/linenumbers.js\n",
        "copying /var/folders/1b/ym6hvzjx11vdq2h6c44v9_kr0000gp/T/tmpUFeDSw/linenumbers.js -> /Users/nordin/.ipython/nbextensions/linenumbers.js"
       ]
      },
      {
       "output_type": "stream",
       "stream": "stdout",
       "text": [
        "\n"
       ]
      },
      {
       "metadata": {},
       "output_type": "pyout",
       "prompt_number": 2,
       "text": [
        "True"
       ]
      }
     ],
     "prompt_number": 2
    },
    {
     "cell_type": "code",
     "collapsed": false,
     "input": [
      "%%javascript\n",
      "IPython.load_extensions('linenumbers');"
     ],
     "language": "python",
     "metadata": {},
     "outputs": [
      {
       "javascript": [
        "IPython.load_extensions('linenumbers');"
       ],
       "metadata": {},
       "output_type": "display_data",
       "text": [
        "<IPython.core.display.Javascript at 0x1052c7dd0>"
       ]
      }
     ],
     "prompt_number": 3
    },
    {
     "cell_type": "code",
     "collapsed": false,
     "input": [
      "a = 3+4\n",
      "b = 5+6\n",
      "c = a+b\n",
      "print a,b,c"
     ],
     "language": "python",
     "metadata": {},
     "outputs": [
      {
       "output_type": "stream",
       "stream": "stdout",
       "text": [
        "7 11 18\n"
       ]
      }
     ],
     "prompt_number": 5
    },
    {
     "cell_type": "code",
     "collapsed": false,
     "input": [
      "ip=IPython.get_ipython()\n",
      "ip.config.ProfileDir "
     ],
     "language": "python",
     "metadata": {},
     "outputs": [
      {
       "metadata": {},
       "output_type": "pyout",
       "prompt_number": 6,
       "text": [
        "{'location': u'/Users/nordin/.ipython/profile_default'}"
       ]
      }
     ],
     "prompt_number": 6
    },
    {
     "cell_type": "code",
     "collapsed": false,
     "input": [],
     "language": "python",
     "metadata": {},
     "outputs": []
    },
    {
     "cell_type": "code",
     "collapsed": false,
     "input": [],
     "language": "python",
     "metadata": {},
     "outputs": []
    }
   ],
   "metadata": {}
  }
 ]
}