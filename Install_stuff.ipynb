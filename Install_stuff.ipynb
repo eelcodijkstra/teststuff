{
 "cells": [
  {
   "cell_type": "markdown",
   "metadata": {},
   "source": [
    "#Table of Contents\n",
    "* [Watermark](#Watermark)\n",
    "\t* [Installation](#Installation)\n",
    "\t* [Usage](#Usage)\n",
    "\t\t* [Help](#Help)\n",
    "\t\t* [Examples](#Examples)\n",
    "* [TikZ magics - TikZ drawing package](#TikZ-magics---TikZ-drawing-package)\n",
    "\t* [Installation](#Installation)\n",
    "\t* [Examples](#Examples)\n",
    "* [Calico Document Tools](#Calico-Document-Tools)\n",
    "\t* [Install document & cell tools on this computer](#Install-document-&-cell-tools-on-this-computer)\n",
    "\t* [Add document tools to this notebook](#Add-document-tools-to-this-notebook)\n",
    "\t* [Information about document tools](#Information-about-document-tools)\n",
    "* [IPython Notebook Extensions from ipython-contrib](#IPython-Notebook-Extensions-from-ipython-contrib)\n"
   ]
  },
  {
   "cell_type": "markdown",
   "metadata": {},
   "source": [
    "# Watermark"
   ]
  },
  {
   "cell_type": "markdown",
   "metadata": {},
   "source": [
    "## Installation"
   ]
  },
  {
   "cell_type": "code",
   "execution_count": 1,
   "metadata": {
    "collapsed": false
   },
   "outputs": [
    {
     "name": "stdout",
     "output_type": "stream",
     "text": [
      "Installed watermark.py. To use it, type:\n",
      "  %load_ext watermark\n"
     ]
    }
   ],
   "source": [
    "%install_ext https://raw.githubusercontent.com/rasbt/watermark/master/watermark.py"
   ]
  },
  {
   "cell_type": "markdown",
   "metadata": {},
   "source": [
    "## Usage"
   ]
  },
  {
   "cell_type": "code",
   "execution_count": 2,
   "metadata": {
    "collapsed": true
   },
   "outputs": [],
   "source": [
    "%load_ext watermark"
   ]
  },
  {
   "cell_type": "markdown",
   "metadata": {},
   "source": [
    "### Help"
   ]
  },
  {
   "cell_type": "code",
   "execution_count": 3,
   "metadata": {
    "collapsed": true
   },
   "outputs": [],
   "source": [
    "%watermark?"
   ]
  },
  {
   "cell_type": "markdown",
   "metadata": {},
   "source": [
    "### Examples"
   ]
  },
  {
   "cell_type": "code",
   "execution_count": 4,
   "metadata": {
    "collapsed": false
   },
   "outputs": [
    {
     "name": "stdout",
     "output_type": "stream",
     "text": [
      "31/03/2015 08:58:41\n",
      "\n",
      "CPython 2.7.9\n",
      "IPython 3.0.0\n",
      "\n",
      "compiler   : GCC 4.2.1 (Apple Inc. build 5577)\n",
      "system     : Darwin\n",
      "release    : 13.3.0\n",
      "machine    : x86_64\n",
      "processor  : i386\n",
      "CPU cores  : 8\n",
      "interpreter: 64bit\n"
     ]
    }
   ],
   "source": [
    "%watermark"
   ]
  },
  {
   "cell_type": "code",
   "execution_count": 5,
   "metadata": {
    "collapsed": false
   },
   "outputs": [
    {
     "name": "stdout",
     "output_type": "stream",
     "text": [
      "CPython 2.7.9\n",
      "IPython 3.0.0\n",
      "\n",
      "matplotlib 1.4.2\n",
      "numpy 1.9.2\n",
      "scipy 0.15.1\n",
      "\n",
      "compiler   : GCC 4.2.1 (Apple Inc. build 5577)\n",
      "system     : Darwin\n",
      "release    : 13.3.0\n",
      "machine    : x86_64\n",
      "processor  : i386\n",
      "CPU cores  : 8\n",
      "interpreter: 64bit\n",
      "Git hash   : 7b647ba296f89ccc5446660253a14e61dc6014e1\n"
     ]
    }
   ],
   "source": [
    "%watermark -v -m -p matplotlib,numpy,scipy -g"
   ]
  },
  {
   "cell_type": "markdown",
   "metadata": {},
   "source": [
    "# TikZ magics - TikZ drawing package"
   ]
  },
  {
   "cell_type": "markdown",
   "metadata": {},
   "source": [
    "##Installation "
   ]
  },
  {
   "cell_type": "code",
   "execution_count": 4,
   "metadata": {
    "collapsed": false
   },
   "outputs": [
    {
     "name": "stdout",
     "output_type": "stream",
     "text": [
      "Installed tikzmagic.py. To use it, type:\n",
      "  %load_ext tikzmagic\n"
     ]
    }
   ],
   "source": [
    "%install_ext https://github.com/mkrphys/ipython-tikzmagic/blob/master/tikzmagic.py"
   ]
  },
  {
   "cell_type": "code",
   "execution_count": 6,
   "metadata": {
    "collapsed": false
   },
   "outputs": [],
   "source": [
    "%load_ext tikzmagic"
   ]
  },
  {
   "cell_type": "markdown",
   "metadata": {},
   "source": [
    "##Examples"
   ]
  },
  {
   "cell_type": "markdown",
   "metadata": {},
   "source": [
    "See http://nbviewer.ipython.org/github/mkrphys/ipython-tikzmagic/blob/master/tikzmagic_test.ipynb for some examples"
   ]
  },
  {
   "cell_type": "code",
   "execution_count": 7,
   "metadata": {
    "collapsed": false
   },
   "outputs": [
    {
     "data": {
      "image/png": "[encoded data removed]"
     },
     "metadata": {},
     "output_type": "display_data"
    }
   ],
   "source": [
    "%tikz \\draw (0,0) rectangle (1,1);"
   ]
  },
  {
   "cell_type": "code",
   "execution_count": 8,
   "metadata": {
    "collapsed": false
   },
   "outputs": [
    {
     "data": {
      "image/jpeg": "[encoded data removed]"
     },
     "metadata": {},
     "output_type": "display_data"
    }
   ],
   "source": [
    "%%tikz --scale 2 --size 300,300 -f jpg\n",
    "\\draw (0,0) rectangle (1,1);\n",
    "\\filldraw (0.5,0.5) circle (.1);"
   ]
  },
  {
   "cell_type": "code",
   "execution_count": 15,
   "metadata": {
    "collapsed": false
   },
   "outputs": [
    {
     "name": "stderr",
     "output_type": "stream",
     "text": [
      "pdf2svg terminated with signal -127\n",
      "No image generated.\n"
     ]
    }
   ],
   "source": [
    "%%tikz -l arrows,matrix -f svg\n",
    "\\matrix (m) [matrix of math nodes, row sep=3em, column sep=4em] {\n",
    "A & B \\\\\n",
    "C & D \\\\\n",
    "};\n",
    "\\path[-stealth, line width=.4mm]\n",
    "(m-1-1) edge node [left ] {$ac$} (m-2-1)\n",
    "(m-1-1) edge node [above] {$ab$} (m-1-2)\n",
    "(m-1-2) edge node [right] {$bd$} (m-2-2)\n",
    "(m-2-1) edge node [below] {$cd$} (m-2-2);"
   ]
  },
  {
   "cell_type": "code",
   "execution_count": 16,
   "metadata": {
    "collapsed": false
   },
   "outputs": [
    {
     "data": {
      "image/png": "[encoded data removed]"
     },
     "metadata": {},
     "output_type": "display_data"
    }
   ],
   "source": [
    "%%tikz -s 400,400 -sc 1.2 -f png\n",
    "\\draw [style=help lines, step=2]\t\t\t\t(-1,-1)\tgrid\t\t(+7,+7);\n",
    "\\draw [line width=0.5mm, fill=blue!40!white]\t(+2,+2)\trectangle\t(+4,+4);\n",
    " \n",
    "\\draw [blue!60!white] (  2,  2) node[anchor=north east] {$(i  ,j  )$};\n",
    "\\draw [blue!60!white] (  4,  2) node[anchor=north west] {$(i+1,j  )$};\n",
    "\\draw [blue!60!white] (  4,  4) node[anchor=south west] {$(i+1,j+1)$};\n",
    "\\draw [blue!60!white] (  2,  4) node[anchor=south east] {$(i  ,j+1)$};\n",
    "\n",
    "\\filldraw [color=gray]\t(0,0) circle (.1);\n",
    "\\filldraw [color=gray]\t(0,2) circle (.1);\n",
    "\\filldraw [color=gray]\t(0,4) circle (.1);\n",
    "\\filldraw [color=gray]\t(0,6) circle (.1);\n",
    "\\filldraw [color=gray]\t(2,0) circle (.1);\n",
    "\\filldraw [color=black]\t(2,2) circle (.1);\n",
    "\\filldraw [color=black]\t(2,4) circle (.1);\n",
    "\\filldraw [color=gray]\t(2,6) circle (.1);\n",
    "\\filldraw [color=gray]\t(4,0) circle (.1);\n",
    "\\filldraw [color=black]\t(4,2) circle (.1);\n",
    "\\filldraw [color=black]\t(4,4) circle (.1);\n",
    "\\filldraw [color=gray]\t(4,6) circle (.1);\n",
    "\\filldraw [color=gray]\t(6,0) circle (.1);\n",
    "\\filldraw [color=gray]\t(6,2) circle (.1);\n",
    "\\filldraw [color=gray]\t(6,4) circle (.1);\n",
    "\\filldraw [color=gray]\t(6,6) circle (.1);"
   ]
  },
  {
   "cell_type": "markdown",
   "metadata": {},
   "source": [
    "# Calico Document Tools"
   ]
  },
  {
   "cell_type": "markdown",
   "metadata": {},
   "source": [
    "## Install document & cell tools on this computer"
   ]
  },
  {
   "cell_type": "code",
   "execution_count": 8,
   "metadata": {
    "collapsed": false
   },
   "outputs": [
    {
     "name": "stdout",
     "output_type": "stream",
     "text": [
      "downloading https://bitbucket.org/ipre/calico/downloads/calico-document-tools-1.0.zip to /var/folders/1b/ym6hvzjx11vdq2h6c44v9_kr0000gp/T/tmplKpBag/calico-document-tools-1.0.zip\n",
      "extracting /var/folders/1b/ym6hvzjx11vdq2h6c44v9_kr0000gp/T/tmplKpBag/calico-document-tools-1.0.zip to /Users/nordin/.ipython/nbextensions\n"
     ]
    }
   ],
   "source": [
    "#!ipython install-nbextension https://bitbucket.org/ipre/calico/downloads/calico-document-tools-1.0.zip"
   ]
  },
  {
   "cell_type": "code",
   "execution_count": 1,
   "metadata": {
    "collapsed": false
   },
   "outputs": [
    {
     "name": "stdout",
     "output_type": "stream",
     "text": [
      "downloading https://bitbucket.org/ipre/calico/downloads/calico-cell-tools-1.0.zip to /var/folders/1b/ym6hvzjx11vdq2h6c44v9_kr0000gp/T/tmp0W0VzU/calico-cell-tools-1.0.zip\n",
      "extracting /var/folders/1b/ym6hvzjx11vdq2h6c44v9_kr0000gp/T/tmp0W0VzU/calico-cell-tools-1.0.zip to /Users/nordin/.ipython/nbextensions\n"
     ]
    }
   ],
   "source": [
    "# !ipython install-nbextension https://bitbucket.org/ipre/calico/downloads/calico-cell-tools-1.0.zip"
   ]
  },
  {
   "cell_type": "markdown",
   "metadata": {},
   "source": [
    "## Add document tools to this notebook"
   ]
  },
  {
   "cell_type": "code",
   "execution_count": 1,
   "metadata": {
    "collapsed": false
   },
   "outputs": [
    {
     "data": {
      "application/javascript": [
       "IPython.load_extensions('calico-document-tools');"
      ],
      "text/plain": [
       "<IPython.core.display.Javascript object>"
      ]
     },
     "metadata": {},
     "output_type": "display_data"
    }
   ],
   "source": [
    "%%javascript\n",
    "IPython.load_extensions('calico-document-tools');"
   ]
  },
  {
   "cell_type": "markdown",
   "metadata": {},
   "source": [
    "## Information about document tools"
   ]
  },
  {
   "cell_type": "markdown",
   "metadata": {},
   "source": [
    "[iCalico info & installation](http://calicoproject.org/ICalico)"
   ]
  },
  {
   "cell_type": "code",
   "execution_count": 2,
   "metadata": {
    "collapsed": false
   },
   "outputs": [
    {
     "data": {
      "text/html": [
       "\n",
       "        <iframe\n",
       "            width=\"400\"\n",
       "            height=300\"\n",
       "            src=\"https://www.youtube.com/embed/YbM8rrj-Bms\"\n",
       "            frameborder=\"0\"\n",
       "            allowfullscreen\n",
       "        ></iframe>\n",
       "        "
      ],
      "text/plain": [
       "<IPython.lib.display.YouTubeVideo at 0x105ac7dd0>"
      ]
     },
     "execution_count": 2,
     "metadata": {},
     "output_type": "execute_result"
    }
   ],
   "source": [
    "from IPython.display import YouTubeVideo\n",
    "# Notebook extensions demo\n",
    "YouTubeVideo('YbM8rrj-Bms')"
   ]
  },
  {
   "cell_type": "markdown",
   "metadata": {},
   "source": [
    "# IPython Notebook Extensions from ipython-contrib"
   ]
  },
  {
   "cell_type": "markdown",
   "metadata": {},
   "source": [
    "https://github.com/ipython-contrib/IPython-notebook-extensions/wiki"
   ]
  },
  {
   "cell_type": "code",
   "execution_count": 1,
   "metadata": {
    "collapsed": false
   },
   "outputs": [],
   "source": [
    "import IPython"
   ]
  },
  {
   "cell_type": "code",
   "execution_count": 2,
   "metadata": {
    "collapsed": false
   },
   "outputs": [
    {
     "name": "stdout",
     "output_type": "stream",
     "text": [
      "downloading https://github.com/ipython-contrib/IPython-notebook-extensions/blob/master/usability/linenumbers.js to /var/folders/1b/ym6hvzjx11vdq2h6c44v9_kr0000gp/T/tmpUFeDSw/linenumbers.js\n",
      "copying /var/folders/1b/ym6hvzjx11vdq2h6c44v9_kr0000gp/T/tmpUFeDSw/linenumbers.js -> /Users/nordin/.ipython/nbextensions/linenumbers.js\n"
     ]
    },
    {
     "data": {
      "text/plain": [
       "True"
      ]
     },
     "execution_count": 2,
     "metadata": {},
     "output_type": "execute_result"
    }
   ],
   "source": [
    "IPython.html.nbextensions.install_nbextension('https://github.com/ipython-contrib/IPython-notebook-extensions/blob/master/usability/linenumbers.js')\n",
    "IPython.html.nbextensions.check_nbextension('linenumbers.js')"
   ]
  },
  {
   "cell_type": "code",
   "execution_count": 11,
   "metadata": {
    "collapsed": false
   },
   "outputs": [
    {
     "data": {
      "application/javascript": [
       "IPython.load_extensions('linenumbers');"
      ],
      "text/plain": [
       "<IPython.core.display.Javascript object>"
      ]
     },
     "metadata": {},
     "output_type": "display_data"
    }
   ],
   "source": [
    "%%javascript\n",
    "IPython.load_extensions('linenumbers');"
   ]
  },
  {
   "cell_type": "code",
   "execution_count": 5,
   "metadata": {
    "collapsed": false
   },
   "outputs": [
    {
     "name": "stdout",
     "output_type": "stream",
     "text": [
      "7 11 18\n"
     ]
    }
   ],
   "source": [
    "a = 3+4\n",
    "b = 5+6\n",
    "c = a+b\n",
    "print a,b,c"
   ]
  },
  {
   "cell_type": "code",
   "execution_count": 6,
   "metadata": {
    "collapsed": false
   },
   "outputs": [
    {
     "data": {
      "text/plain": [
       "{'location': u'/Users/nordin/.ipython/profile_default'}"
      ]
     },
     "execution_count": 6,
     "metadata": {},
     "output_type": "execute_result"
    }
   ],
   "source": [
    "ip=IPython.get_ipython()\n",
    "ip.config.ProfileDir "
   ]
  },
  {
   "cell_type": "code",
   "execution_count": null,
   "metadata": {
    "collapsed": false
   },
   "outputs": [],
   "source": []
  },
  {
   "cell_type": "code",
   "execution_count": null,
   "metadata": {
    "collapsed": false
   },
   "outputs": [],
   "source": []
  }
 ],
 "metadata": {
  "kernelspec": {
   "display_name": "Python 2",
   "language": "python",
   "name": "python2"
  },
  "language_info": {
   "codemirror_mode": {
    "name": "ipython",
    "version": 2
   },
   "file_extension": ".py",
   "mimetype": "text/x-python",
   "name": "python",
   "nbconvert_exporter": "python",
   "pygments_lexer": "ipython2",
   "version": "2.7.9"
  }
 },
 "nbformat": 4,
 "nbformat_minor": 0
}
