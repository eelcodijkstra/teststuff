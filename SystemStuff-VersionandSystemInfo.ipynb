{
 "cells": [
  {
   "cell_type": "markdown",
   "metadata": {},
   "source": [
    "# Python & IPython Versions"
   ]
  },
  {
   "cell_type": "code",
   "execution_count": 1,
   "metadata": {
    "collapsed": false
   },
   "outputs": [
    {
     "data": {
      "text/plain": [
       "u'/Users/nordin/Documents/Python'"
      ]
     },
     "execution_count": 1,
     "metadata": {},
     "output_type": "execute_result"
    }
   ],
   "source": [
    "pwd"
   ]
  },
  {
   "cell_type": "code",
   "execution_count": 2,
   "metadata": {
    "collapsed": false
   },
   "outputs": [
    {
     "name": "stdout",
     "output_type": "stream",
     "text": [
      "2.7.8 |Anaconda 2.1.0 (x86_64)| (default, Aug 21 2014, 15:21:46) \n",
      "[GCC 4.2.1 (Apple Inc. build 5577)]\n",
      "sys.version_info(major=2, minor=7, micro=8, releaselevel='final', serial=0)\n"
     ]
    }
   ],
   "source": [
    "import sys\n",
    "print sys.version\n",
    "print sys.version_info"
   ]
  },
  {
   "cell_type": "code",
   "execution_count": 3,
   "metadata": {
    "collapsed": false
   },
   "outputs": [
    {
     "name": "stdout",
     "output_type": "stream",
     "text": [
      "2.3.1\n"
     ]
    }
   ],
   "source": [
    "# check the IPython version\n",
    "import IPython\n",
    "print IPython.__version__"
   ]
  },
  {
   "cell_type": "markdown",
   "metadata": {},
   "source": [
    "# Use of dir() to see what functions, etc. are defined"
   ]
  },
  {
   "cell_type": "code",
   "execution_count": 4,
   "metadata": {
    "collapsed": false
   },
   "outputs": [
    {
     "data": {
      "text/plain": [
       "['__displayhook__',\n",
       " '__doc__',\n",
       " '__excepthook__',\n",
       " '__name__',\n",
       " '__package__',\n",
       " '__stderr__',\n",
       " '__stdin__',\n",
       " '__stdout__',\n",
       " '_clear_type_cache',\n",
       " '_current_frames',\n",
       " '_getframe',\n",
       " '_mercurial',\n",
       " 'api_version',\n",
       " 'argv',\n",
       " 'builtin_module_names',\n",
       " 'byteorder',\n",
       " 'call_tracing',\n",
       " 'callstats',\n",
       " 'copyright',\n",
       " 'displayhook',\n",
       " 'dont_write_bytecode',\n",
       " 'exc_clear',\n",
       " 'exc_info',\n",
       " 'exc_type',\n",
       " 'excepthook',\n",
       " 'exec_prefix',\n",
       " 'executable',\n",
       " 'exit',\n",
       " 'exitfunc',\n",
       " 'flags',\n",
       " 'float_info',\n",
       " 'float_repr_style',\n",
       " 'getcheckinterval',\n",
       " 'getdefaultencoding',\n",
       " 'getdlopenflags',\n",
       " 'getfilesystemencoding',\n",
       " 'getprofile',\n",
       " 'getrecursionlimit',\n",
       " 'getrefcount',\n",
       " 'getsizeof',\n",
       " 'gettrace',\n",
       " 'hexversion',\n",
       " 'long_info',\n",
       " 'maxint',\n",
       " 'maxsize',\n",
       " 'maxunicode',\n",
       " 'meta_path',\n",
       " 'modules',\n",
       " 'path',\n",
       " 'path_hooks',\n",
       " 'path_importer_cache',\n",
       " 'platform',\n",
       " 'prefix',\n",
       " 'ps1',\n",
       " 'ps2',\n",
       " 'ps3',\n",
       " 'py3kwarning',\n",
       " 'setcheckinterval',\n",
       " 'setdlopenflags',\n",
       " 'setprofile',\n",
       " 'setrecursionlimit',\n",
       " 'settrace',\n",
       " 'stderr',\n",
       " 'stdin',\n",
       " 'stdout',\n",
       " 'subversion',\n",
       " 'version',\n",
       " 'version_info',\n",
       " 'warnoptions']"
      ]
     },
     "execution_count": 4,
     "metadata": {},
     "output_type": "execute_result"
    }
   ],
   "source": [
    "dir(sys)"
   ]
  },
  {
   "cell_type": "markdown",
   "metadata": {},
   "source": [
    "# What OS are we running on?"
   ]
  },
  {
   "cell_type": "code",
   "execution_count": 5,
   "metadata": {
    "collapsed": false
   },
   "outputs": [
    {
     "name": "stdout",
     "output_type": "stream",
     "text": [
      "darwin\n"
     ]
    }
   ],
   "source": [
    "print sys.platform"
   ]
  },
  {
   "cell_type": "markdown",
   "metadata": {},
   "source": [
    "from http://stackoverflow.com/questions/1854/python-what-os-am-i-running-on"
   ]
  },
  {
   "cell_type": "code",
   "execution_count": 6,
   "metadata": {
    "collapsed": false
   },
   "outputs": [],
   "source": [
    "import platform"
   ]
  },
  {
   "cell_type": "code",
   "execution_count": 8,
   "metadata": {
    "collapsed": false
   },
   "outputs": [
    {
     "data": {
      "text/plain": [
       "'Darwin'"
      ]
     },
     "execution_count": 8,
     "metadata": {},
     "output_type": "execute_result"
    }
   ],
   "source": [
    "platform.system()\n",
    "#platform.release()"
   ]
  },
  {
   "cell_type": "code",
   "execution_count": 9,
   "metadata": {
    "collapsed": false
   },
   "outputs": [
    {
     "data": {
      "text/plain": [
       "'13.3.0'"
      ]
     },
     "execution_count": 9,
     "metadata": {},
     "output_type": "execute_result"
    }
   ],
   "source": [
    "platform.release()"
   ]
  },
  {
   "cell_type": "code",
   "execution_count": 12,
   "metadata": {
    "collapsed": false
   },
   "outputs": [
    {
     "name": "stdout",
     "output_type": "stream",
     "text": [
      "Python version: ['2.7.8 |Anaconda 2.1.0 (x86_64)| (default, Aug 21 2014, 15:21:46) ', '[GCC 4.2.1 (Apple Inc. build 5577)]']\n",
      "dist: ('', '', '')\n",
      "system: Darwin\n",
      "machine: x86_64\n",
      "platform: Darwin-13.3.0-x86_64-i386-64bit\n",
      "uname: ('Darwin', 'CB458-EE10356.local', '13.3.0', 'Darwin Kernel Version 13.3.0: Tue Jun  3 21:27:35 PDT 2014; root:xnu-2422.110.17~1/RELEASE_X86_64', 'x86_64', 'i386')\n",
      "version: Darwin Kernel Version 13.3.0: Tue Jun  3 21:27:35 PDT 2014; root:xnu-2422.110.17~1/RELEASE_X86_64\n",
      "mac_ver: ('10.9.4', ('', '', ''), 'x86_64')\n",
      "\n"
     ]
    }
   ],
   "source": [
    "print(\"\"\"Python version: %s\n",
    "dist: %s\n",
    "system: %s\n",
    "machine: %s\n",
    "platform: %s\n",
    "uname: %s\n",
    "version: %s\n",
    "mac_ver: %s\n",
    "\"\"\" % (\n",
    "sys.version.split('\\n'),\n",
    "str(platform.dist()),\n",
    "#linux_distribution(),\n",
    "platform.system(),\n",
    "platform.machine(),\n",
    "platform.platform(),\n",
    "platform.uname(),\n",
    "platform.version(),\n",
    "platform.mac_ver(),\n",
    "))"
   ]
  },
  {
   "cell_type": "markdown",
   "metadata": {},
   "source": [
    "# IPython Profiles"
   ]
  },
  {
   "cell_type": "markdown",
   "metadata": {},
   "source": [
    "Blog post: Using IPython Profiles, https://blog.safaribooksonline.com/2014/02/27/using-ipython-profiles/"
   ]
  },
  {
   "cell_type": "code",
   "execution_count": 13,
   "metadata": {
    "collapsed": false
   },
   "outputs": [
    {
     "name": "stdout",
     "output_type": "stream",
     "text": [
      "\r\n",
      "Available profiles in IPython:\r\n",
      "    cluster\r\n",
      "    math\r\n",
      "    pysh\r\n",
      "    sympy\r\n",
      "\r\n",
      "    The first request for a bundled profile will copy it\r\n",
      "    into your IPython directory (/Users/nordin/.ipython),\r\n",
      "    where you can customize it.\r\n",
      "\r\n",
      "Available profiles in /Users/nordin/.ipython:\r\n",
      "    default\r\n",
      "    euroscipy2014\r\n",
      "\r\n",
      "To use any of the above profiles, start IPython with:\r\n",
      "    ipython --profile=<name>\r\n",
      "\r\n"
     ]
    }
   ],
   "source": [
    " !ipython profile list"
   ]
  },
  {
   "cell_type": "markdown",
   "metadata": {},
   "source": [
    "# Conda"
   ]
  },
  {
   "cell_type": "markdown",
   "metadata": {},
   "source": [
    "See http://www.continuum.io/blog/conda"
   ]
  },
  {
   "cell_type": "code",
   "execution_count": 6,
   "metadata": {
    "collapsed": false
   },
   "outputs": [
    {
     "name": "stdout",
     "output_type": "stream",
     "text": [
      "# conda environments:\r\n",
      "#\r\n",
      "python3                  /Users/nordin/anaconda/envs/python3\r\n",
      "root                  *  /Users/nordin/anaconda\r\n",
      "\r\n"
     ]
    }
   ],
   "source": [
    "!conda info -e"
   ]
  },
  {
   "cell_type": "code",
   "execution_count": 8,
   "metadata": {
    "collapsed": false
   },
   "outputs": [
    {
     "name": "stdout",
     "output_type": "stream",
     "text": [
      "# packages in environment at /Users/nordin/anaconda/envs/python3:\n",
      "#\n",
      "Could not find platform independent libraries <prefix>\n",
      "Could not find platform dependent libraries <exec_prefix>\n",
      "Consider setting $PYTHONHOME to <prefix>[:<exec_prefix>]\n",
      "Fatal Python error: Py_Initialize: unable to load the file system codec\n",
      "ImportError: No module named 'encodings'\n",
      "# Warning: subprocess call to pip failed\n",
      "abstract-rendering        0.5.1                np19py33_0  \n",
      "anaconda                  2.1.0                np19py33_0  \n",
      "argcomplete               0.8.1                    py33_0  \n",
      "astropy                   0.4.2                np19py33_0  \n",
      "beautiful-soup            4.3.2                    py33_0  \n",
      "binstar                   0.7.1                    py33_0  \n",
      "bitarray                  0.8.1                    py33_0  \n",
      "blaze                     0.6.3                np19py33_0  \n",
      "blz                       0.6.2                np19py33_0  \n",
      "bokeh                     0.6.1                np19py33_0  \n",
      "boto                      2.32.1                   py33_0  \n",
      "cffi                      0.8.6                    py33_0  \n",
      "colorama                  0.3.1                    py33_0  \n",
      "configobj                 5.0.6                    py33_0  \n",
      "cryptography              0.5.4                    py33_0  \n",
      "curl                      7.38.0                        0  \n",
      "cython                    0.21                     py33_0  \n",
      "cytoolz                   0.7.0                    py33_0  \n",
      "datashape                 0.3.0                np19py33_1  \n",
      "dateutil                  2.1                      py33_2  \n",
      "decorator                 3.4.0                    py33_0  \n",
      "docutils                  0.12                     py33_0  \n",
      "dynd-python               0.6.5                np19py33_0  \n",
      "flask                     0.10.1                   py33_1  \n",
      "freetype                  2.4.10                        1  \n",
      "future                    0.13.1                   py33_0  \n",
      "greenlet                  0.4.4                    py33_0  \n",
      "h5py                      2.3.1                np19py33_0  \n",
      "hdf5                      1.8.13                        0  \n",
      "ipython                   2.2.0                    py33_1  \n",
      "ipython-notebook          2.2.0                    py33_0  \n",
      "ipython-qtconsole         2.2.0                    py33_0  \n",
      "itsdangerous              0.24                     py33_0  \n",
      "jdcal                     1.0                      py33_0  \n",
      "jinja2                    2.7.3                    py33_1  \n",
      "jpeg                      8d                            1  \n",
      "libdynd                   0.6.5                         0  \n",
      "libpng                    1.5.13                        1  \n",
      "libsodium                 0.4.5                         0  \n",
      "libtiff                   4.0.2                         1  \n",
      "libxml2                   2.9.0                         1  \n",
      "libxslt                   1.1.28                        2  \n",
      "llvm                      3.3                           0  \n",
      "llvmpy                    0.12.7                   py33_0  \n",
      "lxml                      3.4.0                    py33_0  \n",
      "markupsafe                0.23                     py33_0  \n",
      "matplotlib                1.4.0                np19py33_0  \n",
      "mock                      1.0.1                    py33_0  \n",
      "multipledispatch          0.4.7                    py33_0  \n",
      "networkx                  1.9.1                    py33_0  \n",
      "nltk                      3.0.0                np19py33_0  \n",
      "nose                      1.3.4                    py33_0  \n",
      "numba                     0.14.0               np19py33_0  \n",
      "numexpr                   2.3.1                np19py33_0  \n",
      "numpy                     1.9.0                    py33_0  \n",
      "openpyxl                  1.8.5                    py33_0  \n",
      "openssl                   1.0.1h                        1  \n",
      "pandas                    0.14.1               np19py33_0  \n",
      "patsy                     0.3.0                np19py33_0  \n",
      "pillow                    2.5.1                    py33_0  \n",
      "pip                       1.5.6                    py33_0  \n",
      "ply                       3.4                      py33_0  \n",
      "psutil                    2.1.1                    py33_0  \n",
      "py                        1.4.25                   py33_0  \n",
      "pycosat                   0.6.1                    py33_0  \n",
      "pycparser                 2.10                     py33_0  \n",
      "pycrypto                  2.6.1                    py33_0  \n",
      "pycurl                    7.19.5                   py33_1  \n",
      "pyflakes                  0.8.1                    py33_0  \n",
      "pygments                  1.6                      py33_0  \n",
      "pyopenssl                 0.14                     py33_0  \n",
      "pyparsing                 2.0.1                    py33_0  \n",
      "pyqt                      4.10.4                   py33_0  \n",
      "pytables                  3.1.1                np19py33_0  \n",
      "pytest                    2.6.3                    py33_0  \n",
      "python                    3.3.5                         3  \n",
      "python.app                1.2                      py33_3  \n",
      "pytz                      2014.7                   py33_0  \n",
      "pyyaml                    3.11                     py33_0  \n",
      "pyzmq                     14.3.1                   py33_0  \n",
      "qt                        4.8.5                         3  \n",
      "readline                  6.2                           2  \n",
      "redis                     2.6.9                         0  \n",
      "redis-py                  2.9.1                    py33_0  \n",
      "requests                  2.4.1                    py33_0  \n",
      "rope                      0.9.4                    py33_1  \n",
      "runipy                    0.1.1                    py33_0  \n",
      "scikit-image              0.10.1               np19py33_0  \n",
      "scikit-learn              0.15.2               np19py33_0  \n",
      "scipy                     0.14.0               np19py33_0  \n",
      "setuptools                5.8                      py33_0  \n",
      "sip                       4.15.5                   py33_0  \n",
      "six                       1.8.0                    py33_0  \n",
      "sockjs-tornado            1.0.1                    py33_0  \n",
      "sphinx                    1.2.3                    py33_0  \n",
      "sqlalchemy                0.9.7                    py33_0  \n",
      "sqlite                    3.8.4.1                       0  \n",
      "statsmodels               0.5.0                np19py33_2  \n",
      "sympy                     0.7.5                    py33_0  \n",
      "tk                        8.5.15                        0  \n",
      "toolz                     0.7.0                    py33_0  \n",
      "tornado                   4.0.2                    py33_0  \n",
      "ujson                     1.33                     py33_0  \n",
      "werkzeug                  0.9.6                    py33_1  \n",
      "xlrd                      0.9.3                    py33_0  \n",
      "xlsxwriter                0.5.7                    py33_0  \n",
      "xz                        5.0.5                         0  \n",
      "yaml                      0.1.4                         1  \n",
      "zeromq                    4.0.4                         0  \n",
      "zlib                      1.2.7                         1  \n"
     ]
    }
   ],
   "source": [
    "!conda list -n python3"
   ]
  },
  {
   "cell_type": "markdown",
   "metadata": {},
   "source": [
    "# Path"
   ]
  },
  {
   "cell_type": "markdown",
   "metadata": {},
   "source": [
    "Find what's in the PATH variable:"
   ]
  },
  {
   "cell_type": "code",
   "execution_count": 1,
   "metadata": {
    "collapsed": false
   },
   "outputs": [
    {
     "name": "stdout",
     "output_type": "stream",
     "text": [
      "/Users/nordin/anaconda/bin:/usr/bin:/bin:/usr/sbin:/sbin:/usr/local/bin:/opt/X11/bin:/usr/texbin:/Users/nordin/.rvm/bin\r\n"
     ]
    }
   ],
   "source": [
    "!echo $PATH"
   ]
  },
  {
   "cell_type": "markdown",
   "metadata": {},
   "source": [
    "To add a directory to the path use: export PATH=/path/to/directory/:${PATH}\n",
    "If you're in ipython, be sure to put ! in front of the command to tell ipython that you want to execute a system command. If you are in Terminal, just execute the command"
   ]
  },
  {
   "cell_type": "raw",
   "metadata": {},
   "source": [
    "To delete a directory from the path do the following:\n",
    "1. execute: echo $PATH\n",
    "  1. This will give something like: /Users/nordin/anaconda/bin:/usr/bin:/bin:/usr/sbin:/sbin:/usr/local/bin:/opt/X11/bin:/usr/texbin:/Users/nordin/.rvm/bin\n",
    "2. Copy the part of the path that doesn't include the directory you're trying to delete and execute the following:\n",
    "  1. export PATH=\"/usr/bin:/bin:/usr/sbin:/sbin:/usr/local/bin:/opt/X11/bin:/usr/texbin:/Users/nordin/.rvm/bin\"\n",
    "3. To make sure that PATH is what you intended, execute: echo $PATH"
   ]
  },
  {
   "cell_type": "markdown",
   "metadata": {},
   "source": [
    "# Current Date & Time"
   ]
  },
  {
   "cell_type": "code",
   "execution_count": 1,
   "metadata": {
    "collapsed": false
   },
   "outputs": [
    {
     "name": "stdout",
     "output_type": "stream",
     "text": [
      "Fri Dec  5 15:21:38 MST 2014\r\n"
     ]
    }
   ],
   "source": [
    "!date"
   ]
  },
  {
   "cell_type": "markdown",
   "metadata": {},
   "source": [
    "# Packages Installed in Anaconda"
   ]
  },
  {
   "cell_type": "markdown",
   "metadata": {},
   "source": [
    "See http://docs.continuum.io/anaconda/index.html#packages-included-in-anaconda"
   ]
  },
  {
   "cell_type": "markdown",
   "metadata": {},
   "source": [
    "# How to switch from Anaconda python to the default python on Mac OS X"
   ]
  },
  {
   "cell_type": "raw",
   "metadata": {},
   "source": [
    "1. Open Terminal\n",
    "2. execute: which python\n",
    "  1. you should get something like /Users/nordin/anaconda/bin/python\n",
    "3. execute echo $PATH\n",
    "4. Copy the part after the anaconda/bin directory and paste it in the following\n",
    "5. export PATH=\"the path string you want\"\n",
    "6. execute echo $PATH to verify you got what you wanted\n",
    "7. execute which python\n",
    "  1. you should get /usr/bin/python"
   ]
  },
  {
   "cell_type": "code",
   "execution_count": 1,
   "metadata": {
    "collapsed": false
   },
   "outputs": [
    {
     "name": "stdout",
     "output_type": "stream",
     "text": [
      "/Users/nordin/anaconda/bin/python\r\n"
     ]
    }
   ],
   "source": [
    "!which python"
   ]
  },
  {
   "cell_type": "code",
   "execution_count": 2,
   "metadata": {
    "collapsed": false
   },
   "outputs": [
    {
     "name": "stdout",
     "output_type": "stream",
     "text": [
      "/Users/nordin/anaconda/bin:/usr/bin:/bin:/usr/sbin:/sbin:/usr/local/bin:/opt/X11/bin:/usr/texbin:/Users/nordin/.rvm/bin\r\n"
     ]
    }
   ],
   "source": [
    "!echo $PATH"
   ]
  },
  {
   "cell_type": "markdown",
   "metadata": {},
   "source": [
    "# How to switch to the new python distribution I installed 12/17/14 on Mac OS X"
   ]
  },
  {
   "cell_type": "markdown",
   "metadata": {},
   "source": [
    "See https://nanomicro.byu.edu:3456/maingroup/11694 for full details"
   ]
  },
  {
   "cell_type": "code",
   "execution_count": 3,
   "metadata": {
    "collapsed": false
   },
   "outputs": [
    {
     "name": "stdout",
     "output_type": "stream",
     "text": [
      "/Users/nordin/anaconda/bin/python\n",
      "/Users/nordin/anaconda/bin/ipython\n"
     ]
    }
   ],
   "source": [
    "!which python\n",
    "!which ipython"
   ]
  },
  {
   "cell_type": "raw",
   "metadata": {},
   "source": [
    "####\n",
    "#### Note that changing the path apparently doesn't work from inside ipython. \n",
    "#### These commands need to be executed from the terminal\n",
    "####\n",
    "\n",
    "# Change PATH so new python distribution is found first\n",
    "!export PATH=\"/usr/local/bin:/usr/local/sbin:/usr/bin:/bin:/usr/sbin:/sbin:/opt/X11/bin:/usr/texbin:/Users/nordin/.rvm/bin\"\n",
    "# activate the appropriate virtualenv that I installed ipython into\n",
    "!source envipython/bin/activate\n",
    "# Check that we now access the correct python & ipython distributions\n",
    "!which python\n",
    "!which ipython\n",
    "# start ipython notebook\n",
    "!cd ~/Documents\n",
    "!ipython notebook"
   ]
  },
  {
   "cell_type": "code",
   "execution_count": 5,
   "metadata": {
    "collapsed": false
   },
   "outputs": [
    {
     "name": "stdout",
     "output_type": "stream",
     "text": [
      "/Users/nordin/anaconda/bin:/usr/bin:/bin:/usr/sbin:/sbin:/usr/local/bin:/opt/X11/bin:/usr/texbin:/Users/nordin/.rvm/bin\r\n"
     ]
    }
   ],
   "source": [
    "!export PATH=\"/usr/local/bin:/usr/local/sbin:/usr/bin:/bin:/usr/sbin:/sbin:/opt/X11/bin:/usr/texbin:/Users/nordin/.rvm/bin\"\n",
    "!echo $PATH"
   ]
  },
  {
   "cell_type": "code",
   "execution_count": null,
   "metadata": {
    "collapsed": false
   },
   "outputs": [],
   "source": []
  }
 ],
 "metadata": {
  "kernelspec": {
   "display_name": "Python 2",
   "language": "python",
   "name": "python2"
  },
  "language_info": {
   "codemirror_mode": {
    "name": "ipython",
    "version": 2
   },
   "file_extension": ".py",
   "mimetype": "text/x-python",
   "name": "python",
   "nbconvert_exporter": "python",
   "pygments_lexer": "ipython2",
   "version": "2.7.9"
  }
 },
 "nbformat": 4,
 "nbformat_minor": 0
}
