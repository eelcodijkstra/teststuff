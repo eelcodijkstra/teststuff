{
 "metadata": {
  "name": "",
  "signature": "sha256:a7f0f0638a1f16d387422b7c3f9b18cf66720cd8063c5d784675b00dae58fabc"
 },
 "nbformat": 3,
 "nbformat_minor": 0,
 "worksheets": [
  {
   "cells": [
    {
     "cell_type": "heading",
     "level": 1,
     "metadata": {},
     "source": [
      "Python & IPython Versions"
     ]
    },
    {
     "cell_type": "code",
     "collapsed": false,
     "input": [
      "pwd"
     ],
     "language": "python",
     "metadata": {},
     "outputs": [
      {
       "metadata": {},
       "output_type": "pyout",
       "prompt_number": 1,
       "text": [
        "u'/Users/nordin/Documents/Python'"
       ]
      }
     ],
     "prompt_number": 1
    },
    {
     "cell_type": "code",
     "collapsed": false,
     "input": [
      "import sys\n",
      "print sys.version\n",
      "print sys.version_info"
     ],
     "language": "python",
     "metadata": {},
     "outputs": [
      {
       "output_type": "stream",
       "stream": "stdout",
       "text": [
        "2.7.8 |Anaconda 2.1.0 (x86_64)| (default, Aug 21 2014, 15:21:46) \n",
        "[GCC 4.2.1 (Apple Inc. build 5577)]\n",
        "sys.version_info(major=2, minor=7, micro=8, releaselevel='final', serial=0)\n"
       ]
      }
     ],
     "prompt_number": 2
    },
    {
     "cell_type": "code",
     "collapsed": false,
     "input": [
      "# check the IPython version\n",
      "import IPython\n",
      "print IPython.__version__"
     ],
     "language": "python",
     "metadata": {},
     "outputs": [
      {
       "output_type": "stream",
       "stream": "stdout",
       "text": [
        "2.3.1\n"
       ]
      }
     ],
     "prompt_number": 3
    },
    {
     "cell_type": "heading",
     "level": 1,
     "metadata": {},
     "source": [
      "Use of dir() to see what functions, etc. are defined"
     ]
    },
    {
     "cell_type": "code",
     "collapsed": false,
     "input": [
      "dir(sys)"
     ],
     "language": "python",
     "metadata": {},
     "outputs": [
      {
       "metadata": {},
       "output_type": "pyout",
       "prompt_number": 4,
       "text": [
        "['__displayhook__',\n",
        " '__doc__',\n",
        " '__excepthook__',\n",
        " '__name__',\n",
        " '__package__',\n",
        " '__stderr__',\n",
        " '__stdin__',\n",
        " '__stdout__',\n",
        " '_clear_type_cache',\n",
        " '_current_frames',\n",
        " '_getframe',\n",
        " '_mercurial',\n",
        " 'api_version',\n",
        " 'argv',\n",
        " 'builtin_module_names',\n",
        " 'byteorder',\n",
        " 'call_tracing',\n",
        " 'callstats',\n",
        " 'copyright',\n",
        " 'displayhook',\n",
        " 'dont_write_bytecode',\n",
        " 'exc_clear',\n",
        " 'exc_info',\n",
        " 'exc_type',\n",
        " 'excepthook',\n",
        " 'exec_prefix',\n",
        " 'executable',\n",
        " 'exit',\n",
        " 'exitfunc',\n",
        " 'flags',\n",
        " 'float_info',\n",
        " 'float_repr_style',\n",
        " 'getcheckinterval',\n",
        " 'getdefaultencoding',\n",
        " 'getdlopenflags',\n",
        " 'getfilesystemencoding',\n",
        " 'getprofile',\n",
        " 'getrecursionlimit',\n",
        " 'getrefcount',\n",
        " 'getsizeof',\n",
        " 'gettrace',\n",
        " 'hexversion',\n",
        " 'long_info',\n",
        " 'maxint',\n",
        " 'maxsize',\n",
        " 'maxunicode',\n",
        " 'meta_path',\n",
        " 'modules',\n",
        " 'path',\n",
        " 'path_hooks',\n",
        " 'path_importer_cache',\n",
        " 'platform',\n",
        " 'prefix',\n",
        " 'ps1',\n",
        " 'ps2',\n",
        " 'ps3',\n",
        " 'py3kwarning',\n",
        " 'setcheckinterval',\n",
        " 'setdlopenflags',\n",
        " 'setprofile',\n",
        " 'setrecursionlimit',\n",
        " 'settrace',\n",
        " 'stderr',\n",
        " 'stdin',\n",
        " 'stdout',\n",
        " 'subversion',\n",
        " 'version',\n",
        " 'version_info',\n",
        " 'warnoptions']"
       ]
      }
     ],
     "prompt_number": 4
    },
    {
     "cell_type": "heading",
     "level": 1,
     "metadata": {},
     "source": [
      "What OS are we running on?"
     ]
    },
    {
     "cell_type": "code",
     "collapsed": false,
     "input": [
      "print sys.platform"
     ],
     "language": "python",
     "metadata": {},
     "outputs": [
      {
       "output_type": "stream",
       "stream": "stdout",
       "text": [
        "darwin\n"
       ]
      }
     ],
     "prompt_number": 5
    },
    {
     "cell_type": "markdown",
     "metadata": {},
     "source": [
      "from http://stackoverflow.com/questions/1854/python-what-os-am-i-running-on"
     ]
    },
    {
     "cell_type": "code",
     "collapsed": false,
     "input": [
      "import platform"
     ],
     "language": "python",
     "metadata": {},
     "outputs": [],
     "prompt_number": 6
    },
    {
     "cell_type": "code",
     "collapsed": false,
     "input": [
      "platform.system()\n",
      "#platform.release()"
     ],
     "language": "python",
     "metadata": {},
     "outputs": [
      {
       "metadata": {},
       "output_type": "pyout",
       "prompt_number": 8,
       "text": [
        "'Darwin'"
       ]
      }
     ],
     "prompt_number": 8
    },
    {
     "cell_type": "code",
     "collapsed": false,
     "input": [
      "platform.release()"
     ],
     "language": "python",
     "metadata": {},
     "outputs": [
      {
       "metadata": {},
       "output_type": "pyout",
       "prompt_number": 9,
       "text": [
        "'13.3.0'"
       ]
      }
     ],
     "prompt_number": 9
    },
    {
     "cell_type": "code",
     "collapsed": false,
     "input": [
      "print(\"\"\"Python version: %s\n",
      "dist: %s\n",
      "system: %s\n",
      "machine: %s\n",
      "platform: %s\n",
      "uname: %s\n",
      "version: %s\n",
      "mac_ver: %s\n",
      "\"\"\" % (\n",
      "sys.version.split('\\n'),\n",
      "str(platform.dist()),\n",
      "#linux_distribution(),\n",
      "platform.system(),\n",
      "platform.machine(),\n",
      "platform.platform(),\n",
      "platform.uname(),\n",
      "platform.version(),\n",
      "platform.mac_ver(),\n",
      "))"
     ],
     "language": "python",
     "metadata": {},
     "outputs": [
      {
       "output_type": "stream",
       "stream": "stdout",
       "text": [
        "Python version: ['2.7.8 |Anaconda 2.1.0 (x86_64)| (default, Aug 21 2014, 15:21:46) ', '[GCC 4.2.1 (Apple Inc. build 5577)]']\n",
        "dist: ('', '', '')\n",
        "system: Darwin\n",
        "machine: x86_64\n",
        "platform: Darwin-13.3.0-x86_64-i386-64bit\n",
        "uname: ('Darwin', 'CB458-EE10356.local', '13.3.0', 'Darwin Kernel Version 13.3.0: Tue Jun  3 21:27:35 PDT 2014; root:xnu-2422.110.17~1/RELEASE_X86_64', 'x86_64', 'i386')\n",
        "version: Darwin Kernel Version 13.3.0: Tue Jun  3 21:27:35 PDT 2014; root:xnu-2422.110.17~1/RELEASE_X86_64\n",
        "mac_ver: ('10.9.4', ('', '', ''), 'x86_64')\n",
        "\n"
       ]
      }
     ],
     "prompt_number": 12
    },
    {
     "cell_type": "heading",
     "level": 1,
     "metadata": {},
     "source": [
      "IPython Profiles"
     ]
    },
    {
     "cell_type": "markdown",
     "metadata": {},
     "source": [
      "Blog post: Using IPython Profiles, https://blog.safaribooksonline.com/2014/02/27/using-ipython-profiles/"
     ]
    },
    {
     "cell_type": "code",
     "collapsed": false,
     "input": [
      " !ipython profile list"
     ],
     "language": "python",
     "metadata": {},
     "outputs": [
      {
       "output_type": "stream",
       "stream": "stdout",
       "text": [
        "\r\n",
        "Available profiles in IPython:\r\n",
        "    cluster\r\n",
        "    math\r\n",
        "    pysh\r\n",
        "    sympy\r\n",
        "\r\n",
        "    The first request for a bundled profile will copy it\r\n",
        "    into your IPython directory (/Users/nordin/.ipython),\r\n",
        "    where you can customize it.\r\n",
        "\r\n",
        "Available profiles in /Users/nordin/.ipython:\r\n",
        "    default\r\n",
        "    euroscipy2014\r\n",
        "\r\n",
        "To use any of the above profiles, start IPython with:\r\n",
        "    ipython --profile=<name>\r\n",
        "\r\n"
       ]
      }
     ],
     "prompt_number": 13
    },
    {
     "cell_type": "heading",
     "level": 1,
     "metadata": {},
     "source": [
      "Conda"
     ]
    },
    {
     "cell_type": "markdown",
     "metadata": {},
     "source": [
      "See http://www.continuum.io/blog/conda"
     ]
    },
    {
     "cell_type": "code",
     "collapsed": false,
     "input": [
      "!conda info -e"
     ],
     "language": "python",
     "metadata": {},
     "outputs": [
      {
       "output_type": "stream",
       "stream": "stdout",
       "text": [
        "# conda environments:\r\n",
        "#\r\n",
        "python3                  /Users/nordin/anaconda/envs/python3\r\n",
        "root                  *  /Users/nordin/anaconda\r\n",
        "\r\n"
       ]
      }
     ],
     "prompt_number": 6
    },
    {
     "cell_type": "code",
     "collapsed": false,
     "input": [
      "!conda list -n python3"
     ],
     "language": "python",
     "metadata": {},
     "outputs": [
      {
       "output_type": "stream",
       "stream": "stdout",
       "text": [
        "# packages in environment at /Users/nordin/anaconda/envs/python3:\r\n",
        "#\r\n"
       ]
      },
      {
       "output_type": "stream",
       "stream": "stdout",
       "text": [
        "Could not find platform independent libraries <prefix>\r\n",
        "Could not find platform dependent libraries <exec_prefix>\r\n",
        "Consider setting $PYTHONHOME to <prefix>[:<exec_prefix>]\r\n",
        "Fatal Python error: Py_Initialize: unable to load the file system codec\r\n",
        "ImportError: No module named 'encodings'\r\n"
       ]
      },
      {
       "output_type": "stream",
       "stream": "stdout",
       "text": [
        "# Warning: subprocess call to pip failed\r\n"
       ]
      },
      {
       "output_type": "stream",
       "stream": "stdout",
       "text": [
        "abstract-rendering        0.5.1                np19py33_0  \r\n",
        "anaconda                  2.1.0                np19py33_0  \r\n",
        "argcomplete               0.8.1                    py33_0  \r\n",
        "astropy                   0.4.2                np19py33_0  \r\n",
        "beautiful-soup            4.3.2                    py33_0  \r\n",
        "binstar                   0.7.1                    py33_0  \r\n",
        "bitarray                  0.8.1                    py33_0  \r\n",
        "blaze                     0.6.3                np19py33_0  \r\n",
        "blz                       0.6.2                np19py33_0  \r\n",
        "bokeh                     0.6.1                np19py33_0  \r\n",
        "boto                      2.32.1                   py33_0  \r\n",
        "cffi                      0.8.6                    py33_0  \r\n",
        "colorama                  0.3.1                    py33_0  \r\n",
        "configobj                 5.0.6                    py33_0  \r\n",
        "cryptography              0.5.4                    py33_0  \r\n",
        "curl                      7.38.0                        0  \r\n",
        "cython                    0.21                     py33_0  \r\n",
        "cytoolz                   0.7.0                    py33_0  \r\n",
        "datashape                 0.3.0                np19py33_1  \r\n",
        "dateutil                  2.1                      py33_2  \r\n",
        "decorator                 3.4.0                    py33_0  \r\n",
        "docutils                  0.12                     py33_0  \r\n",
        "dynd-python               0.6.5                np19py33_0  \r\n",
        "flask                     0.10.1                   py33_1  \r\n",
        "freetype                  2.4.10                        1  \r\n",
        "future                    0.13.1                   py33_0  \r\n",
        "greenlet                  0.4.4                    py33_0  \r\n",
        "h5py                      2.3.1                np19py33_0  \r\n",
        "hdf5                      1.8.13                        0  \r\n",
        "ipython                   2.2.0                    py33_1  \r\n",
        "ipython-notebook          2.2.0                    py33_0  \r\n",
        "ipython-qtconsole         2.2.0                    py33_0  \r\n",
        "itsdangerous              0.24                     py33_0  \r\n",
        "jdcal                     1.0                      py33_0  \r\n",
        "jinja2                    2.7.3                    py33_1  \r\n",
        "jpeg                      8d                            1  \r\n",
        "libdynd                   0.6.5                         0  \r\n",
        "libpng                    1.5.13                        1  \r\n",
        "libsodium                 0.4.5                         0  \r\n",
        "libtiff                   4.0.2                         1  \r\n",
        "libxml2                   2.9.0                         1  \r\n",
        "libxslt                   1.1.28                        2  \r\n",
        "llvm                      3.3                           0  \r\n",
        "llvmpy                    0.12.7                   py33_0  \r\n",
        "lxml                      3.4.0                    py33_0  \r\n",
        "markupsafe                0.23                     py33_0  \r\n",
        "matplotlib                1.4.0                np19py33_0  \r\n",
        "mock                      1.0.1                    py33_0  \r\n",
        "multipledispatch          0.4.7                    py33_0  \r\n",
        "networkx                  1.9.1                    py33_0  \r\n",
        "nltk                      3.0.0                np19py33_0  \r\n",
        "nose                      1.3.4                    py33_0  \r\n",
        "numba                     0.14.0               np19py33_0  \r\n",
        "numexpr                   2.3.1                np19py33_0  \r\n",
        "numpy                     1.9.0                    py33_0  \r\n",
        "openpyxl                  1.8.5                    py33_0  \r\n",
        "openssl                   1.0.1h                        1  \r\n",
        "pandas                    0.14.1               np19py33_0  \r\n",
        "patsy                     0.3.0                np19py33_0  \r\n",
        "pillow                    2.5.1                    py33_0  \r\n",
        "pip                       1.5.6                    py33_0  \r\n",
        "ply                       3.4                      py33_0  \r\n",
        "psutil                    2.1.1                    py33_0  \r\n",
        "py                        1.4.25                   py33_0  \r\n",
        "pycosat                   0.6.1                    py33_0  \r\n",
        "pycparser                 2.10                     py33_0  \r\n",
        "pycrypto                  2.6.1                    py33_0  \r\n",
        "pycurl                    7.19.5                   py33_1  \r\n",
        "pyflakes                  0.8.1                    py33_0  \r\n",
        "pygments                  1.6                      py33_0  \r\n",
        "pyopenssl                 0.14                     py33_0  \r\n",
        "pyparsing                 2.0.1                    py33_0  \r\n",
        "pyqt                      4.10.4                   py33_0  \r\n",
        "pytables                  3.1.1                np19py33_0  \r\n",
        "pytest                    2.6.3                    py33_0  \r\n",
        "python                    3.3.5                         3  \r\n",
        "python.app                1.2                      py33_3  \r\n",
        "pytz                      2014.7                   py33_0  \r\n",
        "pyyaml                    3.11                     py33_0  \r\n",
        "pyzmq                     14.3.1                   py33_0  \r\n",
        "qt                        4.8.5                         3  \r\n",
        "readline                  6.2                           2  \r\n",
        "redis                     2.6.9                         0  \r\n",
        "redis-py                  2.9.1                    py33_0  \r\n",
        "requests                  2.4.1                    py33_0  \r\n",
        "rope                      0.9.4                    py33_1  \r\n",
        "runipy                    0.1.1                    py33_0  \r\n",
        "scikit-image              0.10.1               np19py33_0  \r\n",
        "scikit-learn              0.15.2               np19py33_0  \r\n",
        "scipy                     0.14.0               np19py33_0  \r\n",
        "setuptools                5.8                      py33_0  \r\n",
        "sip                       4.15.5                   py33_0  \r\n",
        "six                       1.8.0                    py33_0  \r\n",
        "sockjs-tornado            1.0.1                    py33_0  \r\n",
        "sphinx                    1.2.3                    py33_0  \r\n",
        "sqlalchemy                0.9.7                    py33_0  \r\n",
        "sqlite                    3.8.4.1                       0  \r\n",
        "statsmodels               0.5.0                np19py33_2  \r\n",
        "sympy                     0.7.5                    py33_0  \r\n",
        "tk                        8.5.15                        0  \r\n",
        "toolz                     0.7.0                    py33_0  \r\n",
        "tornado                   4.0.2                    py33_0  \r\n",
        "ujson                     1.33                     py33_0  \r\n",
        "werkzeug                  0.9.6                    py33_1  \r\n",
        "xlrd                      0.9.3                    py33_0  \r\n",
        "xlsxwriter                0.5.7                    py33_0  \r\n",
        "xz                        5.0.5                         0  \r\n",
        "yaml                      0.1.4                         1  \r\n",
        "zeromq                    4.0.4                         0  \r\n",
        "zlib                      1.2.7                         1  \r\n"
       ]
      }
     ],
     "prompt_number": 8
    },
    {
     "cell_type": "heading",
     "level": 1,
     "metadata": {},
     "source": [
      "Path"
     ]
    },
    {
     "cell_type": "markdown",
     "metadata": {},
     "source": [
      "Find what's in the PATH variable:"
     ]
    },
    {
     "cell_type": "code",
     "collapsed": false,
     "input": [
      "!echo $PATH"
     ],
     "language": "python",
     "metadata": {},
     "outputs": [
      {
       "output_type": "stream",
       "stream": "stdout",
       "text": [
        "/Users/nordin/anaconda/bin:/usr/bin:/bin:/usr/sbin:/sbin:/usr/local/bin:/opt/X11/bin:/usr/texbin:/Users/nordin/.rvm/bin\r\n"
       ]
      }
     ],
     "prompt_number": 1
    },
    {
     "cell_type": "markdown",
     "metadata": {},
     "source": [
      "To add a directory to the path use: export PATH=/path/to/directory/:${PATH}\n",
      "If you're in ipython, be sure to put ! in front of the command to tell ipython that you want to execute a system command. If you are in Terminal, just execute the command"
     ]
    },
    {
     "cell_type": "raw",
     "metadata": {},
     "source": [
      "To delete a directory from the path do the following:\n",
      "1. execute: echo $PATH\n",
      "  1. This will give something like: /Users/nordin/anaconda/bin:/usr/bin:/bin:/usr/sbin:/sbin:/usr/local/bin:/opt/X11/bin:/usr/texbin:/Users/nordin/.rvm/bin\n",
      "2. Copy the part of the path that doesn't include the directory you're trying to delete and execute the following:\n",
      "  1. export PATH=\"/usr/bin:/bin:/usr/sbin:/sbin:/usr/local/bin:/opt/X11/bin:/usr/texbin:/Users/nordin/.rvm/bin\"\n",
      "3. To make sure that PATH is what you intended, execute: echo $PATH"
     ]
    },
    {
     "cell_type": "heading",
     "level": 1,
     "metadata": {},
     "source": [
      "Current Date & Time"
     ]
    },
    {
     "cell_type": "code",
     "collapsed": false,
     "input": [
      "!date"
     ],
     "language": "python",
     "metadata": {},
     "outputs": [
      {
       "output_type": "stream",
       "stream": "stdout",
       "text": [
        "Fri Dec  5 15:21:38 MST 2014\r\n"
       ]
      }
     ],
     "prompt_number": 1
    },
    {
     "cell_type": "heading",
     "level": 1,
     "metadata": {},
     "source": [
      "Packages Installed in Anaconda"
     ]
    },
    {
     "cell_type": "markdown",
     "metadata": {},
     "source": [
      "See http://docs.continuum.io/anaconda/index.html#packages-included-in-anaconda"
     ]
    },
    {
     "cell_type": "heading",
     "level": 1,
     "metadata": {},
     "source": [
      "How to switch from Anaconda python to the default python on Mac OS X"
     ]
    },
    {
     "cell_type": "raw",
     "metadata": {},
     "source": [
      "1. Open Terminal\n",
      "2. execute: which python\n",
      "  1. you should get something like /Users/nordin/anaconda/bin/python\n",
      "3. execute echo $PATH\n",
      "4. Copy the part after the anaconda/bin directory and paste it in the following\n",
      "5. export PATH=\"the path string you want\"\n",
      "6. execute echo $PATH to verify you got what you wanted\n",
      "7. execute which python\n",
      "  1. you should get /usr/bin/python"
     ]
    },
    {
     "cell_type": "code",
     "collapsed": false,
     "input": [
      "!which python"
     ],
     "language": "python",
     "metadata": {},
     "outputs": [
      {
       "output_type": "stream",
       "stream": "stdout",
       "text": [
        "/Users/nordin/anaconda/bin/python\r\n"
       ]
      }
     ],
     "prompt_number": 1
    },
    {
     "cell_type": "code",
     "collapsed": false,
     "input": [
      "!echo $PATH"
     ],
     "language": "python",
     "metadata": {},
     "outputs": [
      {
       "output_type": "stream",
       "stream": "stdout",
       "text": [
        "/Users/nordin/anaconda/bin:/usr/bin:/bin:/usr/sbin:/sbin:/usr/local/bin:/opt/X11/bin:/usr/texbin:/Users/nordin/.rvm/bin\r\n"
       ]
      }
     ],
     "prompt_number": 2
    },
    {
     "cell_type": "heading",
     "level": 1,
     "metadata": {},
     "source": [
      "How to switch to the new python distribution I installed 12/17/14 on Mac OS X"
     ]
    },
    {
     "cell_type": "markdown",
     "metadata": {},
     "source": [
      "See https://nanomicro.byu.edu:3456/maingroup/11694 for full details"
     ]
    },
    {
     "cell_type": "code",
     "collapsed": false,
     "input": [
      "!which python\n",
      "!which ipython"
     ],
     "language": "python",
     "metadata": {},
     "outputs": [
      {
       "output_type": "stream",
       "stream": "stdout",
       "text": [
        "/Users/nordin/anaconda/bin/python\r\n"
       ]
      },
      {
       "output_type": "stream",
       "stream": "stdout",
       "text": [
        "/Users/nordin/anaconda/bin/ipython\r\n"
       ]
      }
     ],
     "prompt_number": 3
    },
    {
     "cell_type": "raw",
     "metadata": {},
     "source": [
      "####\n",
      "#### Note that changing the path apparently doesn't work from inside ipython. \n",
      "#### These commands need to be executed from the terminal\n",
      "####\n",
      "\n",
      "# Change PATH so new python distribution is found first\n",
      "!export PATH=\"/usr/local/bin:/usr/local/sbin:/usr/bin:/bin:/usr/sbin:/sbin:/opt/X11/bin:/usr/texbin:/Users/nordin/.rvm/bin\"\n",
      "# activate the appropriate virtualenv that I installed ipython into\n",
      "!source envipython/bin/activate\n",
      "# Check that we now access the correct python & ipython distributions\n",
      "!which python\n",
      "!which ipython\n",
      "# start ipython notebook\n",
      "!cd ~/Documents\n",
      "!ipython notebook"
     ]
    },
    {
     "cell_type": "code",
     "collapsed": false,
     "input": [
      "!export PATH=\"/usr/local/bin:/usr/local/sbin:/usr/bin:/bin:/usr/sbin:/sbin:/opt/X11/bin:/usr/texbin:/Users/nordin/.rvm/bin\"\n",
      "!echo $PATH"
     ],
     "language": "python",
     "metadata": {},
     "outputs": [
      {
       "output_type": "stream",
       "stream": "stdout",
       "text": [
        "/Users/nordin/anaconda/bin:/usr/bin:/bin:/usr/sbin:/sbin:/usr/local/bin:/opt/X11/bin:/usr/texbin:/Users/nordin/.rvm/bin\r\n"
       ]
      }
     ],
     "prompt_number": 5
    },
    {
     "cell_type": "code",
     "collapsed": false,
     "input": [],
     "language": "python",
     "metadata": {},
     "outputs": []
    }
   ],
   "metadata": {}
  }
 ]
}