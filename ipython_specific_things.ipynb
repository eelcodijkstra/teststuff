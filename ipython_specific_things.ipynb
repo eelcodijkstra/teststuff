{
 "metadata": {
  "name": "",
  "signature": "sha256:111dfc3574ea1392671b2f635315abb8aceb1dec7186a15b63e695793d99b318"
 },
 "nbformat": 3,
 "nbformat_minor": 0,
 "worksheets": [
  {
   "cells": [
    {
     "cell_type": "markdown",
     "metadata": {},
     "source": [
      "#Table of Contents\n",
      "* [Keyboard shortcuts](#Keyboard-shortcuts)\n"
     ]
    },
    {
     "cell_type": "code",
     "collapsed": false,
     "input": [
      "%%javascript\n",
      "IPython.load_extensions('calico-document-tools');"
     ],
     "language": "python",
     "metadata": {},
     "outputs": [
      {
       "javascript": [
        "IPython.load_extensions('calico-document-tools');"
       ],
       "metadata": {},
       "output_type": "display_data",
       "text": [
        "<IPython.core.display.Javascript at 0x10680ea90>"
       ]
      }
     ],
     "prompt_number": 1
    },
    {
     "cell_type": "heading",
     "level": 1,
     "metadata": {},
     "source": [
      "Keyboard shortcuts"
     ]
    },
    {
     "cell_type": "markdown",
     "metadata": {},
     "source": [
      "Checkout keyboard shortcuts here: http://ipython.org/ipython-doc/1/interactive/notebook.html"
     ]
    },
    {
     "cell_type": "markdown",
     "metadata": {},
     "source": [
      "Use \"^m\" followed by \"h\" to bring up keyboard shortcuts help\n",
      "\n",
      "Some useful items:\n",
      "1. Green border around cell means it's ready for normal input\n",
      "2. Gray border around cell (what you get when you type \"^m\") it's ready for a keyboard shortcut\n",
      "3. To toggle code linenumbers on & off in a cell: \"^m\" followed by \"l\""
     ]
    },
    {
     "cell_type": "code",
     "collapsed": false,
     "input": [
      "a = 1\n",
      "b = 2\n",
      "c = a+b"
     ],
     "language": "python",
     "metadata": {},
     "outputs": [],
     "prompt_number": 3
    },
    {
     "cell_type": "code",
     "collapsed": false,
     "input": [
      "d = 4\n",
      "e = 5\n",
      "f = d+e"
     ],
     "language": "python",
     "metadata": {},
     "outputs": [],
     "prompt_number": 4
    },
    {
     "cell_type": "code",
     "collapsed": false,
     "input": [],
     "language": "python",
     "metadata": {},
     "outputs": []
    }
   ],
   "metadata": {}
  }
 ]
}