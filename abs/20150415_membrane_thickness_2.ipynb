{
 "cells": [
  {
   "cell_type": "markdown",
   "metadata": {},
   "source": [
    "#Table of Contents\n",
    "* [Import pixel data of the membrane thickness](#Import-pixel-data-of-the-membrane-thickness)\n",
    "* [Convert pixel to micro](#Convert-pixel-to-micro)\n",
    "* [Calculate average](#Calculate-average)\n",
    "* [Calculate standard deviation](#Calculate-standard-deviation)\n",
    "* [Create array for each resin](#Create-array-for-each-resin)\n",
    "* [Plot 1% Irgacure, 0.5% Avobenzone, 0.5% Octocrylene](#Plot-1%-Irgacure,-0.5%-Avobenzone,-0.5%-Octocrylene)\n",
    "* [Plot of 1% Irgacure, 0.1% BTEX](#Plot-of-1%-Irgacure,-0.1%-BTEX)\n",
    "* [Compare data](#Compare-data)\n",
    "\t* [Irgacure 1% and UV-326 1%](#Irgacure-1%-and-UV-326-1%)\n",
    "\t* [Commercial Resin](#Commercial-Resin)\n",
    "* [Calculate predicted $h_a$ for new resin formulations](#Calculate-predicted-$h_a$-for-new-resin-formulations)\n",
    "* [To do](#To-do)\n"
   ]
  },
  {
   "cell_type": "code",
   "execution_count": 18,
   "metadata": {
    "collapsed": true
   },
   "outputs": [],
   "source": [
    "import math\n",
    "#import time\n",
    "import matplotlib.pyplot as plt\n",
    "#import matplotlib.patches as patches\n",
    "%matplotlib inline\n",
    "#import sys\n",
    "import numpy as np\n",
    "#import collections\n",
    "#import os\n",
    "from scipy.optimize import curve_fit\n",
    "from matplotlib.ticker import FormatStrFormatter\n",
    "from __future__ import division\n",
    "from __future__ import print_function"
   ]
  },
  {
   "cell_type": "code",
   "execution_count": 3,
   "metadata": {
    "collapsed": false
   },
   "outputs": [
    {
     "data": {
      "application/javascript": [
       "IPython.load_extensions('calico-document-tools');"
      ],
      "text/plain": [
       "<IPython.core.display.Javascript object>"
      ]
     },
     "metadata": {},
     "output_type": "display_data"
    }
   ],
   "source": [
    "%%javascript\n",
    "IPython.load_extensions('calico-document-tools');"
   ]
  },
  {
   "cell_type": "markdown",
   "metadata": {},
   "source": [
    "# Import pixel data of the membrane thickness"
   ]
  },
  {
   "cell_type": "markdown",
   "metadata": {},
   "source": [
    "The first 4 columns is from meamsurement of 0.5% Avobenzone + 0.5% Octcrylene + 1% Ingacure, 2s, 1s, 0.5s, 0.25s;"
   ]
  },
  {
   "cell_type": "markdown",
   "metadata": {},
   "source": [
    "The latter 4 columns is from meamsurement of 0.1% BTEX + 1% Ingacure, 2s, 1s, 0.5s, 0.25s."
   ]
  },
  {
   "cell_type": "code",
   "execution_count": 4,
   "metadata": {
    "collapsed": false
   },
   "outputs": [
    {
     "name": "stdout",
     "output_type": "stream",
     "text": [
      "[[ 605.     312.     223.002   89.     353.     221.     119.      39.   ]\n",
      " [ 596.     404.     215.      75.     384.     220.     121.004   26.   ]\n",
      " [ 618.     389.     218.      79.     391.001  215.002  123.      24.   ]\n",
      " [ 611.     401.     223.      71.     381.     212.     132.004   18.   ]\n",
      " [ 620.     413.001  234.     101.     364.     217.     106.      28.018]\n",
      " [ 603.     422.001  212.002    0.     376.001  207.     107.       0.   ]]\n",
      "0 means membrane is broken, no data acquired.\n"
     ]
    }
   ],
   "source": [
    "membthick_pixel = np.loadtxt(\"membrane thickness pixels.csv\", delimiter=\",\")\n",
    "print membthick_pixel\n",
    "print \"0 means membrane is broken, no data acquired.\""
   ]
  },
  {
   "cell_type": "markdown",
   "metadata": {},
   "source": [
    "# Convert pixel to micro"
   ]
  },
  {
   "cell_type": "code",
   "execution_count": 5,
   "metadata": {
    "collapsed": false
   },
   "outputs": [
    {
     "name": "stdout",
     "output_type": "stream",
     "text": [
      "[[ 1103.762       569.2128      406.8448488   162.3716      644.0132\n",
      "    403.1924      217.1036       71.1516   ]\n",
      " [ 1087.3424      737.0576      392.246       136.83        700.5696\n",
      "    401.368       220.7596976    47.4344   ]\n",
      " [ 1127.4792      709.6916      397.7192      144.1276      713.3422244\n",
      "    392.2496488   224.4012       43.7856   ]\n",
      " [ 1114.7084      731.5844      406.8412      129.5324      695.0964\n",
      "    386.7728      240.8280976    32.8392   ]\n",
      " [ 1131.128       753.4790244   426.9096      184.2644      664.0816\n",
      "    395.8948      193.3864       51.1160392]\n",
      " [ 1100.1132      769.8986244   386.7764488     0.          685.9762244\n",
      "    377.6508      195.2108        0.       ]]\n"
     ]
    }
   ],
   "source": [
    "# 1.8244 for x-axis, 1.9364 for y-axis, calibration from Chad's excel file\n",
    "membthick_micro = membthick_pixel * 1.8244\n",
    "print membthick_micro"
   ]
  },
  {
   "cell_type": "markdown",
   "metadata": {},
   "source": [
    "# Calculate average"
   ]
  },
  {
   "cell_type": "code",
   "execution_count": 6,
   "metadata": {
    "collapsed": false
   },
   "outputs": [
    {
     "name": "stdout",
     "output_type": "stream",
     "text": [
      "Avobenzone\n",
      "[ 1110.75553333   711.8206748    402.8895496    151.4252    ]\n",
      "BTEX\n",
      "[ 683.84654147  392.85474147  215.28163253   49.26536784]\n"
     ]
    }
   ],
   "source": [
    "membthick_ave = np.average(membthick_micro, axis=0).reshape((4,2), order='F')\n",
    "\n",
    "# correct result with 0 in data\n",
    "membthick_ave[3,0] = np.average(membthick_micro[:5,3])\n",
    "membthick_ave[3,1] = np.average(membthick_micro[:5,7])\n",
    "\n",
    "membthick_Avo = membthick_ave[:,0]\n",
    "membthick_BTEX = membthick_ave[:,1]\n",
    "\n",
    "print \"Avobenzone\"\n",
    "print membthick_Avo\n",
    "print \"BTEX\"\n",
    "print membthick_BTEX"
   ]
  },
  {
   "cell_type": "markdown",
   "metadata": {},
   "source": [
    "# Calculate standard deviation"
   ]
  },
  {
   "cell_type": "code",
   "execution_count": 7,
   "metadata": {
    "collapsed": false,
    "scrolled": false
   },
   "outputs": [
    {
     "name": "stdout",
     "output_type": "stream",
     "text": [
      "Avobenzone\n",
      "[ 15.38769616  66.42980313  12.96066121  19.71702944]\n",
      "BTEX\n",
      "[ 23.30271396   8.72831309  16.58994011  12.53500244]\n"
     ]
    }
   ],
   "source": [
    "membthick_std = np.std(membthick_micro, axis=0).reshape((4,2), order='F')\n",
    "\n",
    "# correct result with 0 in data\n",
    "membthick_std[3,0] = np.std(membthick_micro[:5,3])\n",
    "membthick_std[3,1] = np.std(membthick_micro[:5,7])\n",
    "\n",
    "membthick_std_Avo = membthick_std[:,0]\n",
    "membthick_std_BTEX = membthick_std[:,1]\n",
    "\n",
    "print \"Avobenzone\"\n",
    "print membthick_std_Avo\n",
    "print \"BTEX\"\n",
    "print membthick_std_BTEX"
   ]
  },
  {
   "cell_type": "markdown",
   "metadata": {},
   "source": [
    "# Create array for each resin"
   ]
  },
  {
   "cell_type": "code",
   "execution_count": 8,
   "metadata": {
    "collapsed": false,
    "scrolled": true
   },
   "outputs": [
    {
     "name": "stdout",
     "output_type": "stream",
     "text": [
      "Avobenzone\n",
      "[[  2.00000000e+00   1.11075553e+03   1.53876962e+01]\n",
      " [  1.00000000e+00   7.11820675e+02   6.64298031e+01]\n",
      " [  5.00000000e-01   4.02889550e+02   1.29606612e+01]\n",
      " [  2.50000000e-01   1.51425200e+02   1.97170294e+01]]\n",
      "BTEX\n",
      "[[  2.00000000e+00   6.83846541e+02   2.33027140e+01]\n",
      " [  1.00000000e+00   3.92854741e+02   8.72831309e+00]\n",
      " [  5.00000000e-01   2.15281633e+02   1.65899401e+01]\n",
      " [  2.50000000e-01   4.92653678e+01   1.25350024e+01]]\n"
     ]
    }
   ],
   "source": [
    "xpstime = np.array([2, 1, 0.5, 0.25])\n",
    "\n",
    "Avobenzone = np.array([xpstime,membthick_Avo,membthick_std_Avo]).T\n",
    "BTEX = np.array([xpstime,membthick_BTEX,membthick_std_BTEX]).T\n",
    "\n",
    "print \"Avobenzone\"\n",
    "print Avobenzone\n",
    "print \"BTEX\"\n",
    "print BTEX"
   ]
  },
  {
   "cell_type": "markdown",
   "metadata": {},
   "source": [
    "# Plot 1% Irgacure, 0.5% Avobenzone, 0.5% Octocrylene"
   ]
  },
  {
   "cell_type": "code",
   "execution_count": 9,
   "metadata": {
    "collapsed": true
   },
   "outputs": [],
   "source": [
    "def membthickfunc(t,a,b):\n",
    "    return a*np.log(t/b)"
   ]
  },
  {
   "cell_type": "code",
   "execution_count": 10,
   "metadata": {
    "collapsed": false
   },
   "outputs": [
    {
     "name": "stderr",
     "output_type": "stream",
     "text": [
      "/Users/nordin/anaconda/lib/python2.7/site-packages/IPython/kernel/__main__.py:2: RuntimeWarning: invalid value encountered in log\n",
      "  from IPython.kernel.zmq import kernelapp as app\n"
     ]
    }
   ],
   "source": [
    "fitpars, covmat = curve_fit(membthickfunc, Avobenzone[:,0], Avobenzone[:,1])\n",
    "std_devs = np.sqrt(covmat.diagonal())"
   ]
  },
  {
   "cell_type": "code",
   "execution_count": 11,
   "metadata": {
    "collapsed": false
   },
   "outputs": [
    {
     "name": "stdout",
     "output_type": "stream",
     "text": [
      "('fit params:', array([  4.59775674e+02,   1.94175591e-01]))\n",
      "('    stdevs:', array([  3.38028732e+01,   2.15130715e-02]))\n"
     ]
    }
   ],
   "source": [
    "print('fit params:', fitpars)\n",
    "print('    stdevs:', std_devs)"
   ]
  },
  {
   "cell_type": "code",
   "execution_count": 136,
   "metadata": {
    "collapsed": false
   },
   "outputs": [
    {
     "data": {
      "image/png": "[encoded data removed]",
      "text/plain": [
       "<matplotlib.figure.Figure at 0x7ff3a86fe910>"
      ]
     },
     "metadata": {},
     "output_type": "display_data"
    }
   ],
   "source": [
    "fig, ax = plt.subplots(figsize=(8,6))\n",
    "ax.set_xscale('log')\n",
    "ax.errorbar(Avobenzone[:,0], Avobenzone[:,1], Avobenzone[:,2], linestyle='None', marker='o', label='measured')\n",
    "ax.plot(xpstime, membthickfunc(Avobenzone[:,0],*fitpars), 'r-', label='fit')\n",
    "ax.xaxis.set_minor_formatter(FormatStrFormatter(\"%.1f\"))\n",
    "ax.set_xlim(0.2,2.1)\n",
    "ax.legend(loc=4)\n",
    "fittext = '$a \\log(t/b)$\\n$a={:.2f} \\mu m$\\n$b={:.3f}s$'.format(fitpars[0],fitpars[1])\n",
    "ax.text(0.05, 0.95, fittext, horizontalalignment='left', verticalalignment='top', transform=ax.transAxes, fontsize=14)\n",
    "ax.set_xlabel('Layer Exposure Time (s)')\n",
    "ax.set_ylabel('Membrane Thickness ($\\mu m$)')\n",
    "ax.set_title('Resin: 1% Irgacure, 0.5% Avobenzone, 0.5% Octocrylene\\nExperiment: 20150415')\n",
    "fig.savefig('G_150415_Avobenzone.png');"
   ]
  },
  {
   "cell_type": "markdown",
   "metadata": {},
   "source": [
    "# Plot of 1% Irgacure, 0.1% BTEX"
   ]
  },
  {
   "cell_type": "code",
   "execution_count": 12,
   "metadata": {
    "collapsed": false
   },
   "outputs": [
    {
     "name": "stderr",
     "output_type": "stream",
     "text": [
      "/Users/nordin/anaconda/lib/python2.7/site-packages/IPython/kernel/__main__.py:2: RuntimeWarning: invalid value encountered in log\n",
      "  from IPython.kernel.zmq import kernelapp as app\n"
     ]
    }
   ],
   "source": [
    "xpstime = np.array([2, 1, 0.5, 0.25])\n",
    "\n",
    "fitpars2, covmat2 = curve_fit(membthickfunc, BTEX[:,0], BTEX[:,1])\n",
    "std_devs2 = np.sqrt(covmat.diagonal())"
   ]
  },
  {
   "cell_type": "code",
   "execution_count": 13,
   "metadata": {
    "collapsed": false
   },
   "outputs": [
    {
     "name": "stdout",
     "output_type": "stream",
     "text": [
      "('fit params:', array([  3.00270518e+02,   2.31477284e-01]))\n",
      "('    stdevs:', array([  3.38028732e+01,   2.15130715e-02]))\n"
     ]
    }
   ],
   "source": [
    "print('fit params:', fitpars2)\n",
    "print('    stdevs:', std_devs2)"
   ]
  },
  {
   "cell_type": "code",
   "execution_count": 14,
   "metadata": {
    "collapsed": false,
    "scrolled": false
   },
   "outputs": [
    {
     "data": {
      "image/png": "[encoded data removed]",
      "text/plain": [
       "<matplotlib.figure.Figure at 0x10fb737d0>"
      ]
     },
     "metadata": {},
     "output_type": "display_data"
    }
   ],
   "source": [
    "fig, ax = plt.subplots(figsize=(8,6))\n",
    "ax.set_xscale('log')\n",
    "ax.errorbar(BTEX[:,0], BTEX[:,1], BTEX[:,2], linestyle='None', marker='o', label='measured')\n",
    "ax.plot(BTEX[:,0], membthickfunc(BTEX[:,0],*fitpars2), 'r-', label='fit')\n",
    "ax.xaxis.set_minor_formatter(FormatStrFormatter(\"%.1f\"))\n",
    "ax.set_xlim(0.2,2.1)\n",
    "ax.legend(loc=4)\n",
    "fittext = '$a \\log(t/b)$\\n$a={:.2f} \\mu m$\\n$b={:.3f}s$'.format(fitpars2[0],fitpars2[1])\n",
    "ax.text(0.05, 0.95, fittext, horizontalalignment='left', verticalalignment='top', transform=ax.transAxes, fontsize=14)\n",
    "ax.set_xlabel('Layer Exposure Time (s)')\n",
    "ax.set_ylabel('Membrane Thickness ($\\mu m$)')\n",
    "ax.set_title('Resin: 1% Irgacure, 0.1% BTEX\\nExperiment: 20150415')\n",
    "fig.savefig('G_150415_BTEX.png');"
   ]
  },
  {
   "cell_type": "markdown",
   "metadata": {},
   "source": [
    "# Compare data"
   ]
  },
  {
   "cell_type": "markdown",
   "metadata": {},
   "source": [
    "## Irgacure 1% and UV-326 1%"
   ]
  },
  {
   "cell_type": "code",
   "execution_count": 15,
   "metadata": {
    "collapsed": false
   },
   "outputs": [
    {
     "data": {
      "text/plain": [
       "array([  3.00270518e+02,   2.31477284e-01])"
      ]
     },
     "execution_count": 15,
     "metadata": {},
     "output_type": "execute_result"
    }
   ],
   "source": [
    "fitpars2"
   ]
  },
  {
   "cell_type": "code",
   "execution_count": 124,
   "metadata": {
    "collapsed": false
   },
   "outputs": [
    {
     "name": "stdout",
     "output_type": "stream",
     "text": [
      "[[   0.3    54.5     9.49]\n",
      " [   0.35  105.7    15.94]\n",
      " [   0.4   127.62   13.19]\n",
      " [   0.45  185.95   15.6 ]\n",
      " [   0.5   197.56   16.36]]\n"
     ]
    }
   ],
   "source": [
    "UV326 = np.loadtxt('Exp150330_Irgacure_1.0_UV326_1.0_.csv', delimiter=',', skiprows=1)\n",
    "print UV326"
   ]
  },
  {
   "cell_type": "code",
   "execution_count": 130,
   "metadata": {
    "collapsed": true
   },
   "outputs": [],
   "source": [
    "fitpars3 = np.array([2.88233065e+02, 2.47048025e-01])\n",
    "stdevs3 = np.array([2.71746517e+01, 1.16362149e-02])"
   ]
  },
  {
   "cell_type": "markdown",
   "metadata": {},
   "source": [
    "## Commercial Resin"
   ]
  },
  {
   "cell_type": "code",
   "execution_count": 126,
   "metadata": {
    "collapsed": false
   },
   "outputs": [
    {
     "name": "stdout",
     "output_type": "stream",
     "text": [
      "[[   1.    133.5    15.05]\n",
      " [   1.5   195.5    12.34]\n",
      " [   2.    294.66   66.92]\n",
      " [   3.    358.25   15.6 ]]\n"
     ]
    }
   ],
   "source": [
    "Commercial = np.loadtxt('Exp150410_commercialresin_.csv', delimiter=',', skiprows=1)\n",
    "print Commercial"
   ]
  },
  {
   "cell_type": "code",
   "execution_count": 127,
   "metadata": {
    "collapsed": true
   },
   "outputs": [],
   "source": [
    "fitpars4 = np.array([213.56714283, 0.54875133])\n",
    "stdevs4 = np.array([24.28841407, 0.07598341])"
   ]
  },
  {
   "cell_type": "code",
   "execution_count": 138,
   "metadata": {
    "collapsed": false
   },
   "outputs": [
    {
     "data": {
      "image/png": "[encoded data removed]",
      "text/plain": [
       "<matplotlib.figure.Figure at 0x7ff3a945ba90>"
      ]
     },
     "metadata": {},
     "output_type": "display_data"
    }
   ],
   "source": [
    "fig, ax = plt.subplots(figsize=(8,6))\n",
    "ax.set_xscale('log')\n",
    "ax.plot(Avobenzone[:,0], membthickfunc(Avobenzone[:,0],*fitpars), 'c-', label='0.5% Avobenzone')\n",
    "ax.plot(BTEX[:,0], membthickfunc(BTEX[:,0],*fitpars2), 'g-', label='0.1% BTEX')\n",
    "ax.plot(UV326[:,0], membthickfunc(UV326[:,0],*fitpars3), 'r-', label='1% UV326')\n",
    "ax.plot(Commercial[:,0], membthickfunc(Commercial[:,0],*fitpars4), 'b-', label='commercial')\n",
    "ax.xaxis.set_minor_formatter(FormatStrFormatter(\"%.1f\"))\n",
    "ax.set_xlim(0.2,4.0)\n",
    "ax.legend(loc=2)\n",
    "ax.set_xlabel('Layer Exposure Time (s)')\n",
    "ax.set_ylabel('Membrane Thickness ($\\mu m$)')\n",
    "ax.set_title('Compare Resin Fits')\n",
    "\n",
    "plt.savefig(\"compare.png\")\n",
    "plt.show()"
   ]
  },
  {
   "cell_type": "markdown",
   "metadata": {},
   "source": [
    "# Calculate predicted $h_a$ for new resin formulations"
   ]
  },
  {
   "cell_type": "code",
   "execution_count": 26,
   "metadata": {
    "collapsed": false
   },
   "outputs": [
    {
     "name": "stdout",
     "output_type": "stream",
     "text": [
      "0.1% BTX 0.5% Avobenzone: alpha = 0.00550724637681, h_a = 181.578947368 um\n",
      "                0.2% BTX: alpha = 0.00666666666667, h_a = 150.0 um\n",
      "0.2% BTX 0.5% Avobenzone: alpha = 0.00884057971014, h_a = 113.114754098 um\n",
      "                0.3% BTX: alpha = 0.01, h_a = 100.0 um\n"
     ]
    }
   ],
   "source": [
    "absorp_coeff_01BTX_05Avo = 1.0/460 + 1.0/300.\n",
    "print('0.1% BTX 0.5% Avobenzone: alpha = {0}, h_a = {1} um'.format(absorp_coeff_01BTX_05Avo, 1.0/absorp_coeff_01BTX_05Avo))\n",
    "absorp_coeff_02BTX = 2.0 * (1.0/300)\n",
    "print('                0.2% BTX: alpha = {0}, h_a = {1} um'.format(absorp_coeff_02BTX, 1.0/absorp_coeff_02BTX))\n",
    "absorp_coeff_02BTX_05Avo = 1.0/460 + 2.0/300.\n",
    "print('0.2% BTX 0.5% Avobenzone: alpha = {0}, h_a = {1} um'.format(absorp_coeff_02BTX_05Avo, 1.0/absorp_coeff_02BTX_05Avo))\n",
    "absorp_coeff_03BTX = 3.0 * (1.0/300)\n",
    "print('                0.3% BTX: alpha = {0}, h_a = {1} um'.format(absorp_coeff_03BTX, 1.0/absorp_coeff_03BTX))"
   ]
  },
  {
   "cell_type": "markdown",
   "metadata": {},
   "source": [
    "# To do"
   ]
  },
  {
   "cell_type": "markdown",
   "metadata": {},
   "source": [
    "- Plot measured membrane thickness vs normalized layer exposure time using $T_c$'s from the fitted curves and show them all together and with calculated curves from 150324_abs_calcs.ipynb\n",
    "- Plot data for [20150401 ASIGA Dose Response and Valves](https://nanomicro.byu.edu:3456/maingroup/12012). Add it to data from 20150330 membrane thickness measurements?"
   ]
  },
  {
   "cell_type": "code",
   "execution_count": null,
   "metadata": {
    "collapsed": true
   },
   "outputs": [],
   "source": []
  }
 ],
 "metadata": {
  "kernelspec": {
   "display_name": "Python 2",
   "language": "python",
   "name": "python2"
  },
  "language_info": {
   "codemirror_mode": {
    "name": "ipython",
    "version": 2
   },
   "file_extension": ".py",
   "mimetype": "text/x-python",
   "name": "python",
   "nbconvert_exporter": "python",
   "pygments_lexer": "ipython2",
   "version": "2.7.9"
  }
 },
 "nbformat": 4,
 "nbformat_minor": 0
}
