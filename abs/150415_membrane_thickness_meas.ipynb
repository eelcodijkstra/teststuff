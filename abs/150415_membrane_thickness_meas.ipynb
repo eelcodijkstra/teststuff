{
 "cells": [
  {
   "cell_type": "markdown",
   "metadata": {},
   "source": [
    "#Table of Contents\n",
    "* [Set up](#Set-up)\n",
    "* [Plot data from 20150330 - Irgacure 1% and UV-326 1%](#Plot-data-from-20150330---Irgacure-1%-and-UV-326-1%)\n",
    "* [Plot data for commercial resin](#Plot-data-for-commercial-resin)\n",
    "* [Compare fits](#Compare-fits)\n",
    "* [Need more data for commercial resin](#Need-more-data-for-commercial-resin)\n"
   ]
  },
  {
   "cell_type": "markdown",
   "metadata": {},
   "source": [
    "# Set up"
   ]
  },
  {
   "cell_type": "code",
   "execution_count": 75,
   "metadata": {
    "collapsed": false
   },
   "outputs": [
    {
     "data": {
      "application/javascript": [
       "IPython.load_extensions('calico-document-tools');"
      ],
      "text/plain": [
       "<IPython.core.display.Javascript object>"
      ]
     },
     "metadata": {},
     "output_type": "display_data"
    }
   ],
   "source": [
    "%%javascript\n",
    "IPython.load_extensions('calico-document-tools');"
   ]
  },
  {
   "cell_type": "code",
   "execution_count": 1,
   "metadata": {
    "collapsed": true
   },
   "outputs": [],
   "source": [
    "import numpy as np\n",
    "import matplotlib.pyplot as plt\n",
    "from matplotlib.ticker import FormatStrFormatter\n",
    "%matplotlib inline\n",
    "from __future__ import division\n",
    "from __future__ import print_function\n",
    "from scipy.optimize import curve_fit\n",
    "import os"
   ]
  },
  {
   "cell_type": "markdown",
   "metadata": {},
   "source": [
    "[This notebook](http://nbviewer.ipython.org/gist/keflavich/4042018) has a good tutorial on curve fitting. Note the use of np.polyfit(), np.polyval(), and curve_fit() from scipy.optimize."
   ]
  },
  {
   "cell_type": "code",
   "execution_count": 2,
   "metadata": {
    "collapsed": false
   },
   "outputs": [],
   "source": [
    "#help(np.polyfit)"
   ]
  },
  {
   "cell_type": "code",
   "execution_count": 3,
   "metadata": {
    "collapsed": false
   },
   "outputs": [],
   "source": [
    "#help(np.polyval)"
   ]
  },
  {
   "cell_type": "code",
   "execution_count": 4,
   "metadata": {
    "collapsed": false
   },
   "outputs": [],
   "source": [
    "#help(curve_fit)"
   ]
  },
  {
   "cell_type": "code",
   "execution_count": 5,
   "metadata": {
    "collapsed": true
   },
   "outputs": [],
   "source": [
    "datadirectory = 'membrane_thickness_data'\n",
    "def makename(filename):\n",
    "    return os.path.join(datadirectory,filename)"
   ]
  },
  {
   "cell_type": "markdown",
   "metadata": {},
   "source": [
    "# Plot data from 20150330 - Irgacure 1% and UV-326 1%"
   ]
  },
  {
   "cell_type": "code",
   "execution_count": 6,
   "metadata": {
    "collapsed": false
   },
   "outputs": [
    {
     "name": "stdout",
     "output_type": "stream",
     "text": [
      "[[   0.3    54.5     9.49]\n",
      " [   0.35  105.7    15.94]\n",
      " [   0.4   127.62   13.19]\n",
      " [   0.45  185.95   15.6 ]\n",
      " [   0.5   197.56   16.36]]\n"
     ]
    }
   ],
   "source": [
    "filename1 = 'Exp150330_Irgacure_1.0_UV326_1.0_.csv'\n",
    "data1 = np.loadtxt(makename(filename1), delimiter=',', skiprows=1)\n",
    "print(data1)"
   ]
  },
  {
   "cell_type": "code",
   "execution_count": 7,
   "metadata": {
    "collapsed": false
   },
   "outputs": [
    {
     "data": {
      "text/plain": [
       "<Container object of 3 artists>"
      ]
     },
     "execution_count": 7,
     "metadata": {},
     "output_type": "execute_result"
    },
    {
     "data": {
      "image/png": "[encoded data removed]",
      "text/plain": [
       "<matplotlib.figure.Figure at 0x10fbaeb90>"
      ]
     },
     "metadata": {},
     "output_type": "display_data"
    }
   ],
   "source": [
    "fig, ax = plt.subplots()\n",
    "ax.errorbar(data1[:,0],data1[:,1],data1[:,2])"
   ]
  },
  {
   "cell_type": "code",
   "execution_count": 8,
   "metadata": {
    "collapsed": true
   },
   "outputs": [],
   "source": [
    "def membthickfunc(t,a,b):\n",
    "    return a*np.log(t/b)"
   ]
  },
  {
   "cell_type": "code",
   "execution_count": 9,
   "metadata": {
    "collapsed": false
   },
   "outputs": [
    {
     "name": "stderr",
     "output_type": "stream",
     "text": [
      "/Users/nordin/anaconda/lib/python2.7/site-packages/IPython/kernel/__main__.py:2: RuntimeWarning: invalid value encountered in log\n",
      "  from IPython.kernel.zmq import kernelapp as app\n"
     ]
    }
   ],
   "source": [
    "fitpars, covmat = curve_fit(membthickfunc, data1[:,0], data1[:,1])#, p0=[0.01,0.24])\n",
    "std_devs = np.sqrt(covmat.diagonal())"
   ]
  },
  {
   "cell_type": "code",
   "execution_count": 10,
   "metadata": {
    "collapsed": false
   },
   "outputs": [
    {
     "name": "stdout",
     "output_type": "stream",
     "text": [
      "fit params: [  2.88233065e+02   2.47048025e-01]\n",
      "    stdevs: [  2.71746517e+01   1.16362149e-02]\n"
     ]
    }
   ],
   "source": [
    "print('fit params:', fitpars)\n",
    "print('    stdevs:', std_devs)"
   ]
  },
  {
   "cell_type": "code",
   "execution_count": 62,
   "metadata": {
    "collapsed": false
   },
   "outputs": [
    {
     "data": {
      "image/png": "[encoded data removed]",
      "text/plain": [
       "<matplotlib.figure.Figure at 0x1120a42d0>"
      ]
     },
     "metadata": {},
     "output_type": "display_data"
    }
   ],
   "source": [
    "fig, ax = plt.subplots()\n",
    "ax.set_xscale('log')\n",
    "ax.errorbar(data1[:,0], data1[:,1], data1[:,2], linestyle='None', marker='o', label='measurement')\n",
    "ax.plot(data1[:,0], membthickfunc(data1[:,0],*fitpars), 'r-', label='fit')\n",
    "ax.xaxis.set_minor_formatter(FormatStrFormatter(\"%.1f\"))\n",
    "ax.set_xlim(0.2,1.0)\n",
    "ax.legend(loc=4)\n",
    "fittext = '$a \\log(t/b)$\\n$a={:.2f} \\mu m$\\n$b={:.3f}s$'.format(fitpars[0],fitpars[1])\n",
    "ax.text(0.22,170,fittext,fontsize=14)\n",
    "ax.set_xlabel('Layer Exposure Time (s)')\n",
    "ax.set_ylabel('Membrane Thickness ($\\mu m$)')\n",
    "ax.set_title('Resin: 1% Irgacure, 1% UV236\\nExperiment: 20150330')\n",
    "fig.savefig(makename('G_150330_'));"
   ]
  },
  {
   "cell_type": "markdown",
   "metadata": {},
   "source": [
    "# Plot data for commercial resin"
   ]
  },
  {
   "cell_type": "code",
   "execution_count": 50,
   "metadata": {
    "collapsed": false
   },
   "outputs": [
    {
     "name": "stdout",
     "output_type": "stream",
     "text": [
      "[[   1.    133.5    15.05]\n",
      " [   1.5   195.5    12.34]\n",
      " [   2.    294.66   66.92]\n",
      " [   3.    358.25   15.6 ]]\n"
     ]
    },
    {
     "data": {
      "text/plain": [
       "(0.9, 3.1)"
      ]
     },
     "execution_count": 50,
     "metadata": {},
     "output_type": "execute_result"
    },
    {
     "data": {
      "image/png": "[encoded data removed]",
      "text/plain": [
       "<matplotlib.figure.Figure at 0x11286c990>"
      ]
     },
     "metadata": {},
     "output_type": "display_data"
    }
   ],
   "source": [
    "filename2 = 'Exp150410_commercialresin_.csv'\n",
    "data2 = np.loadtxt(makename(filename2), delimiter=',', skiprows=1)\n",
    "print(data2)\n",
    "fig, ax = plt.subplots()\n",
    "ax.errorbar(data2[:,0],data2[:,1],data2[:,2])\n",
    "ax.set_xlim(0.9,3.1)"
   ]
  },
  {
   "cell_type": "code",
   "execution_count": 53,
   "metadata": {
    "collapsed": false
   },
   "outputs": [
    {
     "name": "stdout",
     "output_type": "stream",
     "text": [
      "fit params: [ 213.56714283    0.54875133]\n",
      "    stdevs: [ 24.28841407   0.07598341]\n"
     ]
    },
    {
     "name": "stderr",
     "output_type": "stream",
     "text": [
      "/Users/nordin/anaconda/lib/python2.7/site-packages/IPython/kernel/__main__.py:2: RuntimeWarning: invalid value encountered in log\n",
      "  from IPython.kernel.zmq import kernelapp as app\n"
     ]
    }
   ],
   "source": [
    "fitpars2, covmat2 = curve_fit(membthickfunc, data2[:,0], data2[:,1])\n",
    "std_devs2 = np.sqrt(covmat2.diagonal())\n",
    "print('fit params:', fitpars2)\n",
    "print('    stdevs:', std_devs2)"
   ]
  },
  {
   "cell_type": "code",
   "execution_count": 60,
   "metadata": {
    "collapsed": false
   },
   "outputs": [
    {
     "data": {
      "image/png": "[encoded data removed]",
      "text/plain": [
       "<matplotlib.figure.Figure at 0x1138c7450>"
      ]
     },
     "metadata": {},
     "output_type": "display_data"
    }
   ],
   "source": [
    "fig, ax = plt.subplots()\n",
    "ax.set_xscale('log')\n",
    "ax.errorbar(data2[:,0], data2[:,1], data2[:,2], linestyle='None', marker='o', label='measurement')\n",
    "ax.plot(data2[:,0], membthickfunc(data2[:,0],*fitpars2), 'r-', label='fit')\n",
    "ax.xaxis.set_minor_formatter(FormatStrFormatter(\"%.1f\"))\n",
    "ax.set_xlim(0.9,4.0)\n",
    "ax.legend(loc=4)\n",
    "fittext = '$a \\log(t/b)$\\n$a={:.2f} \\mu m$\\n$b={:.3f}s$'.format(fitpars2[0],fitpars2[1])\n",
    "ax.text(1.0,300,fittext,fontsize=14)\n",
    "ax.set_xlabel('Layer Exposure Time (s)')\n",
    "ax.set_ylabel('Membrane Thickness ($\\mu m$)')\n",
    "ax.set_title('Commercial Resin\\nExperiment: 20150410')\n",
    "fig.savefig(makename('G_commercialresin'));"
   ]
  },
  {
   "cell_type": "markdown",
   "metadata": {},
   "source": [
    "# Compare fits "
   ]
  },
  {
   "cell_type": "code",
   "execution_count": 76,
   "metadata": {
    "collapsed": false
   },
   "outputs": [
    {
     "data": {
      "text/plain": [
       "<matplotlib.text.Text at 0x112709550>"
      ]
     },
     "execution_count": 76,
     "metadata": {},
     "output_type": "execute_result"
    },
    {
     "data": {
      "image/png": "[encoded data removed]",
      "text/plain": [
       "<matplotlib.figure.Figure at 0x1149d07d0>"
      ]
     },
     "metadata": {},
     "output_type": "display_data"
    }
   ],
   "source": [
    "fig, ax = plt.subplots()\n",
    "ax.set_xscale('log')\n",
    "ax.plot(data1[:,0], membthickfunc(data1[:,0],*fitpars), 'c-', label='150330')\n",
    "ax.plot(data2[:,0], membthickfunc(data2[:,0],*fitpars2), 'g-', label='Commercial Resin')\n",
    "ax.xaxis.set_minor_formatter(FormatStrFormatter(\"%.1f\"))\n",
    "ax.set_xlim(0.2,4.0)\n",
    "ax.set_ylim(0,400)\n",
    "ax.legend(loc=2)\n",
    "ax.set_xlabel('Layer Exposure Time (s)')\n",
    "ax.set_ylabel('Membrane Thickness ($\\mu m$)')\n",
    "ax.set_title('Compare Resin Fits')\n"
   ]
  },
  {
   "cell_type": "markdown",
   "metadata": {},
   "source": [
    "# Need more data for commercial resin"
   ]
  },
  {
   "cell_type": "code",
   "execution_count": 74,
   "metadata": {
    "collapsed": false
   },
   "outputs": [
    {
     "name": "stdout",
     "output_type": "stream",
     "text": [
      "51.9897075156\n"
     ]
    }
   ],
   "source": [
    "print(membthickfunc(0.7,*fitpars2))"
   ]
  },
  {
   "cell_type": "markdown",
   "metadata": {},
   "source": [
    "Looks like we need a layer exposure time of 0.7 seconds to get ~50 um layer thickness. We should try this."
   ]
  },
  {
   "cell_type": "code",
   "execution_count": null,
   "metadata": {
    "collapsed": true
   },
   "outputs": [],
   "source": []
  }
 ],
 "metadata": {
  "kernelspec": {
   "display_name": "Python 2",
   "language": "python",
   "name": "python2"
  },
  "language_info": {
   "codemirror_mode": {
    "name": "ipython",
    "version": 2
   },
   "file_extension": ".py",
   "mimetype": "text/x-python",
   "name": "python",
   "nbconvert_exporter": "python",
   "pygments_lexer": "ipython2",
   "version": "2.7.9"
  }
 },
 "nbformat": 4,
 "nbformat_minor": 0
}
