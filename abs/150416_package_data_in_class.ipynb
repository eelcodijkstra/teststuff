{
 "cells": [
  {
   "cell_type": "code",
   "execution_count": 1,
   "metadata": {
    "collapsed": true
   },
   "outputs": [],
   "source": [
    "import numpy as np\n",
    "import matplotlib.pyplot as plt\n",
    "from matplotlib.ticker import FormatStrFormatter\n",
    "%matplotlib inline\n",
    "from __future__ import division\n",
    "from __future__ import print_function\n",
    "from scipy.optimize import curve_fit\n",
    "import os"
   ]
  },
  {
   "cell_type": "code",
   "execution_count": 2,
   "metadata": {
    "collapsed": true
   },
   "outputs": [],
   "source": [
    "datadirectory = 'data_membrane_meas'\n",
    "def makename(filename):\n",
    "    return os.path.join(datadirectory,filename)"
   ]
  },
  {
   "cell_type": "code",
   "execution_count": 3,
   "metadata": {
    "collapsed": false
   },
   "outputs": [],
   "source": [
    "class membraneThickness(object):\n",
    "    'Data and fit parameters for membrane thickness measurements as a function of layer exposure time'\n",
    "    \n",
    "    def __init__(self,data=None,filepathname=''):\n",
    "        if data is not None:\n",
    "            self.data = data\n",
    "            self.rawmeasdata_pix = None\n",
    "        elif filepathname != '':\n",
    "            self.rawmeasdata_pix = np.loadtxt(filepathname, delimiter=',', skiprows=1)\n",
    "            layerexptimes = self.rawmeasdata_pix[0,:]\n",
    "            self.rawmeasdata_um, tempave, tempstd = self.calc_ave_stdev_membrane_thickness_um(\n",
    "                self.rawmeasdata_pix[1:,:])\n",
    "            self.data = np.array([layerexptimes,tempave,tempstd]).T\n",
    "        else:\n",
    "            print('ERROR: NO DATA OR FILENAME SPECIFIED')\n",
    "            return\n",
    "        self.fitparams, self.covmatrix = curve_fit(self.membthickfunc, self.data[:,0], self.data[:,1])\n",
    "        self.std_devs = np.sqrt(self.covmatrix.diagonal())\n",
    "    \n",
    "    def membthickfunc(self,t,a,b):\n",
    "        return a*np.log(t/b)\n",
    "    \n",
    "    def calc_ave_stdev_membrane_thickness_um(self,rawdata):\n",
    "        # Convert from pixels to microns (assumes pixel measurements are in x-direction)\n",
    "        rawdata[rawdata == 0] = np.NaN\n",
    "        rawdata = rawdata * 1.8244\n",
    "        columnaverages = np.nanmean(rawdata, axis=0)\n",
    "        columnstdev = np.nanstd(rawdata, axis=0)\n",
    "        return rawdata, columnaverages, columnstdev"
   ]
  },
  {
   "cell_type": "code",
   "execution_count": 4,
   "metadata": {
    "collapsed": false
   },
   "outputs": [
    {
     "name": "stdout",
     "output_type": "stream",
     "text": [
      "[[  2.00000000e+00   6.83846541e+02   2.33027140e+01]\n",
      " [  1.00000000e+00   3.92854741e+02   8.72831309e+00]\n",
      " [  5.00000000e-01   2.15281633e+02   1.65899401e+01]\n",
      " [  2.50000000e-01   4.92653678e+01   1.25350024e+01]]\n",
      "[  3.00270518e+02   2.31477284e-01]\n"
     ]
    },
    {
     "name": "stderr",
     "output_type": "stream",
     "text": [
      "/Users/nordin/anaconda/lib/python2.7/site-packages/IPython/kernel/__main__.py:21: RuntimeWarning: invalid value encountered in log\n"
     ]
    }
   ],
   "source": [
    "a = membraneThickness(filepathname=makename('150415_10irga_01btex.csv'))\n",
    "print(a.data)\n",
    "print(a.fitparams)"
   ]
  },
  {
   "cell_type": "code",
   "execution_count": 5,
   "metadata": {
    "collapsed": false
   },
   "outputs": [
    {
     "name": "stdout",
     "output_type": "stream",
     "text": [
      "[[   0.3    54.5     9.49]\n",
      " [   0.35  105.7    15.94]\n",
      " [   0.4   127.62   13.19]\n",
      " [   0.45  185.95   15.6 ]\n",
      " [   0.5   197.56   16.36]]\n",
      "[  2.88233065e+02   2.47048025e-01]\n"
     ]
    },
    {
     "name": "stderr",
     "output_type": "stream",
     "text": [
      "/Users/nordin/anaconda/lib/python2.7/site-packages/IPython/kernel/__main__.py:21: RuntimeWarning: invalid value encountered in log\n"
     ]
    }
   ],
   "source": [
    "data_0330 = np.array([[   0.3,    54.5,     9.49],\n",
    " [   0.35,  105.7,    15.94],\n",
    " [   0.4,   127.62,   13.19],\n",
    " [   0.45,  185.95,   15.6 ],\n",
    " [   0.5,   197.56,   16.36]])\n",
    "a = membraneThickness(data_0330)\n",
    "print(a.data)\n",
    "print(a.fitparams)"
   ]
  },
  {
   "cell_type": "code",
   "execution_count": null,
   "metadata": {
    "collapsed": true
   },
   "outputs": [],
   "source": []
  }
 ],
 "metadata": {
  "kernelspec": {
   "display_name": "Python 2",
   "language": "python",
   "name": "python2"
  },
  "language_info": {
   "codemirror_mode": {
    "name": "ipython",
    "version": 2
   },
   "file_extension": ".py",
   "mimetype": "text/x-python",
   "name": "python",
   "nbconvert_exporter": "python",
   "pygments_lexer": "ipython2",
   "version": "2.7.9"
  }
 },
 "nbformat": 4,
 "nbformat_minor": 0
}
