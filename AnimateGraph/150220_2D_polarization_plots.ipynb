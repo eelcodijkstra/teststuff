{
 "metadata": {
  "name": "",
  "signature": "sha256:8faf98f4efff1e0fe0aa05e3457f0688034c8399fcf65fbd7ee5d2e54d17465c"
 },
 "nbformat": 3,
 "nbformat_minor": 0,
 "worksheets": [
  {
   "cells": [
    {
     "cell_type": "markdown",
     "metadata": {},
     "source": [
      "#Table of Contents\n",
      "* [Polarization - Mathematical Description](#Polarization---Mathematical-Description)\n",
      "* [Normalized electric field - function definition and explore with interact() plot](#Normalized-electric-field---function-definition-and-explore-with-interact%28%29-plot)\n",
      "* [Next](#Next)\n",
      "* [Add arrowhead on plot to show rotation direction](#Add-arrowhead-on-plot-to-show-rotation-direction)\n"
     ]
    },
    {
     "cell_type": "code",
     "collapsed": false,
     "input": [
      "%%javascript\n",
      "IPython.load_extensions('calico-document-tools');"
     ],
     "language": "python",
     "metadata": {},
     "outputs": [
      {
       "javascript": [
        "IPython.load_extensions('calico-document-tools');"
       ],
       "metadata": {},
       "output_type": "display_data",
       "text": [
        "<IPython.core.display.Javascript at 0x103f22c50>"
       ]
      }
     ],
     "prompt_number": 4
    },
    {
     "cell_type": "code",
     "collapsed": false,
     "input": [
      "#from pyqtgraph import QtGui, QtCore\n",
      "#import pyqtgraph as pg\n",
      "import numpy as np\n",
      "import matplotlib.pyplot as plt\n",
      "%matplotlib inline\n",
      "from IPython.html.widgets import interact, fixed"
     ],
     "language": "python",
     "metadata": {},
     "outputs": [],
     "prompt_number": 1
    },
    {
     "cell_type": "heading",
     "level": 1,
     "metadata": {},
     "source": [
      "Polarization - Mathematical Description"
     ]
    },
    {
     "cell_type": "markdown",
     "metadata": {},
     "source": [
      "Assume a plane wave propagating in the +z direction. It's complex amplitude vector is\n",
      "\\begin{aligned} \\\\\n",
      "\\vec{E} = \\vec{E}(z) &= (E_x e^{j\\delta_x} \\hat{x} + E_y e^{j\\delta_y} \\hat{y})e^{-jkz} \\\\\n",
      "&= E_x e^{j\\delta_x}(\\hat{x} + \\alpha \\hat{y})e^{-jkz} \\\\\n",
      "\\end{aligned}\n",
      "with\n",
      "\\begin{aligned} \\\\\n",
      "\\alpha &= \\frac{E_y}{E_x} e^{j(\\delta_y - \\delta_x)} \\\\\n",
      "&= \\tan(\\psi)e^{j\\delta} \\\\\n",
      "\\end{aligned}\n",
      "and \n",
      "\\begin{aligned} \\\\\n",
      "&\\delta = \\delta_y - \\delta_x \\\\\n",
      "&\\tan(\\psi) = \\frac{E_y}{E_x}. \\\\\n",
      "\\end{aligned}\n",
      "Note that $E_x$ and $E_y$ are real and $\\geq 0$. If we are only interested in the polarization state, we can normalize the complex amplitude vector. First we note that\n",
      "\\begin{aligned} \\\\\n",
      "|\\vec{E}| &= \\sqrt{\\vec{E} \\cdot \\vec{E}^*}  \\\\\n",
      "&= E_x \\sqrt{1 + \\tan^2(\\psi)} \\\\\n",
      "&= E_x \\sqrt{\\sec^2(\\psi)} \\\\\n",
      "&= E_x \\sec(\\psi) \\\\\n",
      "&= \\frac{E_x}{\\cos(\\psi)} \\\\\n",
      "\\end{aligned}\n",
      "\n",
      "With no loss of generality let's set $\\delta_x = 0$, which corresponds to shifting the origin of our coordinate system. The normalized complex amplitude vector then becomes \n",
      "\\begin{aligned} \\\\\n",
      "\\vec{E}_n &= \\frac{\\vec{E}}{|\\vec{E}|} \\\\\n",
      "&= \\frac{\\cos(\\psi)\\vec{E}}{E_x} \\\\\n",
      "&= (\\hat{x}\\cos(\\psi) + \\hat{y}\\alpha\\cos(\\psi) )e^{-jkz} \\\\\n",
      "\\end{aligned}\n",
      "\n",
      "Note that \n",
      "\\begin{aligned} \\\\\n",
      "\\alpha\\cos(\\psi) &= \\cos(\\psi)\\tan(\\psi)e^{j\\delta} \\\\\n",
      "&= \\sin(\\psi)e^{j\\delta} \\\\\n",
      "\\end{aligned}\n",
      "\n",
      "The normalized complex amplitude vector is therefore\n",
      "$$\\vec{E}_n = (\\hat{x}\\cos(\\psi) + \\hat{y}\\sin(\\psi)e^{j\\delta} )e^{-jkz}$$\n",
      "\n",
      "\n",
      "We now calculate the (normalized) real electric field: \n",
      "\\begin{aligned} \\\\\n",
      "\\vec{\\mathscr{E}}(z,t) &= \\Re(\\vec{E}_n(z) e^{j\\omega t} ) \\\\\n",
      "&= \\hat{x}\\cos(\\psi)\\cos(\\omega t - k z) + \\hat{y}\\sin(\\psi)\\cos(\\omega t - k z + \\delta). \\\\\n",
      "\\end{aligned}\n",
      "\n",
      "To visualize the polarization ellipse, we choose the $z=0$ plane:\n",
      "\\begin{aligned} \\\\\n",
      "\\vec{\\mathscr{E}}(0,t) &= \\hat{x}\\cos(\\psi)\\cos(\\omega t) + \\hat{y}\\sin(\\psi)\\cos(\\omega t + \\delta) \\\\\n",
      "&= \\hat{x}\\cos(\\psi)\\cos(2\\pi \\frac{t}{T}) + \\hat{y}\\sin(\\psi)\\cos(2\\pi \\frac{t}{T} + \\delta) \\\\\n",
      "\\end{aligned}\n",
      "since\n",
      "\\begin{aligned} \\\\\n",
      "\\omega t &= 2\\pi f t \\\\\n",
      "&= 2\\pi \\frac{t}{T} \\\\\n",
      "\\end{aligned}\n",
      "and $T = 1/f$.\n"
     ]
    },
    {
     "cell_type": "heading",
     "level": 1,
     "metadata": {},
     "source": [
      "Normalized electric field - function definition and explore with interact() plot"
     ]
    },
    {
     "cell_type": "code",
     "collapsed": false,
     "input": [
      "def normalized_electricfield_in_xyplane(t_norm,delta_rad,psi_rad):\n",
      "    x_component = np.cos(psi_rad) * np.cos(2*np.pi*t_norm)\n",
      "    y_component = np.sin(psi_rad) * np.cos(2*np.pi*t_norm + delta_rad)\n",
      "    #print '  ', x_component, y_component\n",
      "    return (x_component, y_component)\n",
      "\n",
      "for index,t_normalized in enumerate(np.linspace(0,1,11)):\n",
      "    temp = normalized_electricfield_in_xyplane(t_normalized,np.radians(180),np.radians(45))\n",
      "    print index, t_normalized, 'x =', temp[0], 'y =', temp[1]\n",
      "\n",
      "npts_in_ellipse = 11\n",
      "t_normalized = np.linspace(0,1,npts_in_ellipse)\n",
      "temp2 = normalized_electricfield_in_xyplane(t_normalized,np.radians(90),np.radians(45))\n",
      "print '\\n', temp2, '\\n\\n', temp2[0], '\\n\\n', temp2[1]"
     ],
     "language": "python",
     "metadata": {},
     "outputs": [
      {
       "output_type": "stream",
       "stream": "stdout",
       "text": [
        "0 0.0 x = 0.707106781187 y = -0.707106781187\n",
        "1 0.1 x = 0.572061402818 y = -0.572061402818\n",
        "2 0.2 x = 0.218508012224 y = -0.218508012224\n",
        "3 0.3 x = -0.218508012224 y = 0.218508012224\n",
        "4 0.4 x = -0.572061402818 y = 0.572061402818\n",
        "5 0.5 x = -0.707106781187 y = 0.707106781187\n",
        "6 0.6 x = -0.572061402818 y = 0.572061402818\n",
        "7 0.7 x = -0.218508012224 y = 0.218508012224\n",
        "8 0.8 x = 0.218508012224 y = -0.218508012224\n",
        "9 0.9 x = 0.572061402818 y = -0.572061402818\n",
        "10 1.0 x = 0.707106781187 y = -0.707106781187\n",
        "\n",
        "(array([ 0.70710678,  0.5720614 ,  0.21850801, -0.21850801, -0.5720614 ,\n",
        "       -0.70710678, -0.5720614 , -0.21850801,  0.21850801,  0.5720614 ,\n",
        "        0.70710678]), array([  4.32978028e-17,  -4.15626938e-01,  -6.72498512e-01,\n",
        "        -6.72498512e-01,  -4.15626938e-01,  -1.29893408e-16,\n",
        "         4.15626938e-01,   6.72498512e-01,   6.72498512e-01,\n",
        "         4.15626938e-01,   2.16489014e-16])) \n",
        "\n",
        "[ 0.70710678  0.5720614   0.21850801 -0.21850801 -0.5720614  -0.70710678\n",
        " -0.5720614  -0.21850801  0.21850801  0.5720614   0.70710678] \n",
        "\n",
        "[  4.32978028e-17  -4.15626938e-01  -6.72498512e-01  -6.72498512e-01\n",
        "  -4.15626938e-01  -1.29893408e-16   4.15626938e-01   6.72498512e-01\n",
        "   6.72498512e-01   4.15626938e-01   2.16489014e-16]\n"
       ]
      }
     ],
     "prompt_number": 9
    },
    {
     "cell_type": "code",
     "collapsed": false,
     "input": [
      "plotlimits = 1.1\n",
      "npts_in_ellipse = 361\n",
      "\n",
      "def plot_normalized_polarization(delta_deg,psi_deg):\n",
      "    t_normalized = np.linspace(0,1,npts_in_ellipse)\n",
      "    global efield2\n",
      "    efield2 = normalized_electricfield_in_xyplane(t_normalized,np.radians(delta_deg),np.radians(psi_deg))\n",
      "\n",
      "    fig2 = plt.figure()\n",
      "    ax2 = plt.axes(xlim=(-plotlimits, plotlimits), ylim=(-plotlimits,plotlimits))\n",
      "    ax2.plot(efield2[0],efield2[1])\n",
      "    ax2.set_aspect('equal')\n",
      "    ax2.set_xlabel('x')\n",
      "    ax2.set_ylabel('y')\n",
      "    labelstring = '$\\delta = %.1f\\degree$\\n' % delta_deg\n",
      "    labelstring += '$\\psi = %.1f\\degree$\\n' % psi_deg\n",
      "    ax2.text(0, 0, labelstring, fontsize = '14')\n",
      "\n",
      "interact(plot_normalized_polarization,delta_deg=(-180,180),psi_deg=(0,90));"
     ],
     "language": "python",
     "metadata": {},
     "outputs": [
      {
       "metadata": {},
       "output_type": "display_data",
       "png": "[encoded data removed]",
       "text": [
        "<matplotlib.figure.Figure at 0x108d48f10>"
       ]
      }
     ],
     "prompt_number": 4
    },
    {
     "cell_type": "heading",
     "level": 1,
     "metadata": {},
     "source": [
      "Next"
     ]
    },
    {
     "cell_type": "markdown",
     "metadata": {},
     "source": [
      "- DONE 2/21/15 - Indicate direction of rotation on plot\n",
      "- Develop 2D polarization animations with\n",
      "  - PyQTGraph\n",
      "  - JSAnimation\n",
      "- Include instantaneous electric field vector in animations\n",
      "- How do 3D animations?\n",
      "  - Need OpenGL installed and accessible to use PyQTGraph\n",
      "  - Try with JSAnimation and do a number of cases simultaneously stacked in a column\n",
      "- Or, could do a 2D matrix of 3D plots with delta varying across the rows and psi along the columns with either PyQTGraph or JSAnimation"
     ]
    },
    {
     "cell_type": "heading",
     "level": 1,
     "metadata": {},
     "source": [
      "Add arrowhead on plot to show rotation direction"
     ]
    },
    {
     "cell_type": "code",
     "collapsed": false,
     "input": [
      "def approx_tangent_to_curve(index,curve_x,curve_y):\n",
      "    maxindex = len(curve_x) - 1\n",
      "    if index < maxindex:\n",
      "        i1 = index+1\n",
      "        i2 = index\n",
      "    elif index == maxindex: # handle end-of-array index\n",
      "        i1 = index\n",
      "        i2 = index-1\n",
      "    else:\n",
      "        print '    OUT OF RANGE INDEX in approx_tangent_to_curve():'\n",
      "        print '        %d is greater than the index of the end of the array, which is %d' % (index, maxindex)\n",
      "        return\n",
      "    #print index, maxindex, i1, i2\n",
      "    dx = (curve_x[i1] - curve_x[i2]) / 100.0\n",
      "    dy = (curve_y[i1] - curve_y[i2]) / 100.0\n",
      "    return dx, dy"
     ],
     "language": "python",
     "metadata": {},
     "outputs": [],
     "prompt_number": 11
    },
    {
     "cell_type": "code",
     "collapsed": false,
     "input": [
      "plotlimits = 1.1\n",
      "npts_in_ellipse = 101\n",
      "indexforarrowhead = 25\n",
      "offsetindex = 2\n",
      "arrowheadwidth = 0.08\n",
      "arrowheadlength = 0.16\n",
      "\n",
      "def plot_normalized_polarization(delta_deg,psi_deg):\n",
      "    t_normalized = np.linspace(0,1,npts_in_ellipse)\n",
      "    efield2 = normalized_electricfield_in_xyplane(t_normalized,np.radians(delta_deg),np.radians(psi_deg))\n",
      "    dx, dy = approx_tangent_to_curve(indexforarrowhead,efield2[0],efield2[1])\n",
      "    fig = plt.figure()\n",
      "    ax = plt.axes(xlim=(-plotlimits, plotlimits), ylim=(-plotlimits,plotlimits))\n",
      "    ax.plot(efield2[0],efield2[1])\n",
      "    ax.set_aspect('equal')\n",
      "    ax.arrow(efield2[0][indexforarrowhead],efield2[1][indexforarrowhead], \n",
      "             dx, dy, head_width=arrowheadwidth, head_length=arrowheadlength)\n",
      "    if delta_deg % 180 == 0:\n",
      "        ax.arrow(efield2[0][indexforarrowhead-offsetindex],efield2[1][indexforarrowhead-offsetindex], \n",
      "                 -dx, -dy, head_width=arrowheadwidth, head_length=arrowheadlength)\n",
      "    ax.set_xlabel('x')\n",
      "    ax.set_ylabel('y')\n",
      "    labelstring = '$\\delta = %.1f\\degree$\\n' % delta_deg\n",
      "    labelstring += '$\\psi = %.1f\\degree$' % psi_deg\n",
      "    ax.text(-0.8, 0.6, labelstring, fontsize = '14')\n",
      "\n",
      "interact(plot_normalized_polarization,delta_deg=(-180,180),psi_deg=(0,90));"
     ],
     "language": "python",
     "metadata": {},
     "outputs": [
      {
       "metadata": {},
       "output_type": "display_data",
       "png": "[encoded data removed]",
       "text": [
        "<matplotlib.figure.Figure at 0x1087b3450>"
       ]
      }
     ],
     "prompt_number": 18
    },
    {
     "cell_type": "code",
     "collapsed": false,
     "input": [],
     "language": "python",
     "metadata": {},
     "outputs": []
    }
   ],
   "metadata": {}
  }
 ]
}