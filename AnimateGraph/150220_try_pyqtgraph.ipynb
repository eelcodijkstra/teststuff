{
 "metadata": {
  "name": "",
  "signature": "sha256:2f86eb1626ccb2da79181987f44bcfe5eef84d373929321c27fc1c2796695c4e"
 },
 "nbformat": 3,
 "nbformat_minor": 0,
 "worksheets": [
  {
   "cells": [
    {
     "cell_type": "markdown",
     "metadata": {},
     "source": [
      "#Table of Contents\n",
      "* [Try PlotWidget.py](#Try-PlotWidget.py)\n",
      "\t* [Result: Yes, this works fine](#Result:-Yes,-this-works-fine)\n"
     ]
    },
    {
     "cell_type": "code",
     "collapsed": false,
     "input": [
      "%%javascript\n",
      "IPython.load_extensions('calico-document-tools');"
     ],
     "language": "python",
     "metadata": {},
     "outputs": [
      {
       "javascript": [
        "IPython.load_extensions('calico-document-tools');"
       ],
       "metadata": {},
       "output_type": "display_data",
       "text": [
        "<IPython.core.display.Javascript at 0x103f22c50>"
       ]
      }
     ],
     "prompt_number": 4
    },
    {
     "cell_type": "code",
     "collapsed": false,
     "input": [
      "from pyqtgraph import QtGui, QtCore\n",
      "import pyqtgraph as pg\n",
      "import numpy as np"
     ],
     "language": "python",
     "metadata": {},
     "outputs": [],
     "prompt_number": 1
    },
    {
     "cell_type": "heading",
     "level": 1,
     "metadata": {},
     "source": [
      "Try PlotWidget.py"
     ]
    },
    {
     "cell_type": "code",
     "collapsed": false,
     "input": [
      "# -*- coding: utf-8 -*-\n",
      "\"\"\"\n",
      "Demonstrates use of PlotWidget class. This is little more than a \n",
      "GraphicsView with a PlotItem placed in its center.\n",
      "\"\"\"\n",
      "\n",
      "#QtGui.QApplication.setGraphicsSystem('raster')\n",
      "app = QtGui.QApplication([])\n",
      "mw = QtGui.QMainWindow()\n",
      "mw.setWindowTitle('pyqtgraph example: PlotWidget')\n",
      "mw.resize(800,800)\n",
      "cw = QtGui.QWidget()\n",
      "mw.setCentralWidget(cw)\n",
      "l = QtGui.QVBoxLayout()\n",
      "cw.setLayout(l)\n",
      "\n",
      "pw = pg.PlotWidget(name='Plot1')  ## giving the plots names allows us to link their axes together\n",
      "l.addWidget(pw)\n",
      "pw2 = pg.PlotWidget(name='Plot2')\n",
      "l.addWidget(pw2)\n",
      "pw3 = pg.PlotWidget()\n",
      "l.addWidget(pw3)\n",
      "\n",
      "mw.show()\n",
      "\n",
      "## Create an empty plot curve to be filled later, set its pen\n",
      "p1 = pw.plot()\n",
      "p1.setPen((200,200,100))\n",
      "\n",
      "## Add in some extra graphics\n",
      "rect = QtGui.QGraphicsRectItem(QtCore.QRectF(0, 0, 1, 5e-11))\n",
      "rect.setPen(QtGui.QPen(QtGui.QColor(100, 200, 100)))\n",
      "pw.addItem(rect)\n",
      "\n",
      "pw.setLabel('left', 'Value', units='V')\n",
      "pw.setLabel('bottom', 'Time', units='s')\n",
      "pw.setXRange(0, 2)\n",
      "pw.setYRange(0, 1e-10)\n",
      "\n",
      "def rand(n):\n",
      "    data = np.random.random(n)\n",
      "    data[int(n*0.1):int(n*0.13)] += .5\n",
      "    data[int(n*0.18)] += 2\n",
      "    data[int(n*0.1):int(n*0.13)] *= 5\n",
      "    data[int(n*0.18)] *= 20\n",
      "    data *= 1e-12\n",
      "    return data, np.arange(n, n+len(data)) / float(n)\n",
      "    \n",
      "\n",
      "def updateData():\n",
      "    yd, xd = rand(10000)\n",
      "    p1.setData(y=yd, x=xd)\n",
      "\n",
      "## Start a timer to rapidly update the plot in pw\n",
      "t = QtCore.QTimer()\n",
      "t.timeout.connect(updateData)\n",
      "t.start(50)\n",
      "#updateData()\n",
      "\n",
      "## Multiple parameterized plots--we can autogenerate averages for these.\n",
      "for i in range(0, 5):\n",
      "    for j in range(0, 3):\n",
      "        yd, xd = rand(10000)\n",
      "        pw2.plot(y=yd*(j+1), x=xd, params={'iter': i, 'val': j})\n",
      "\n",
      "## Test large numbers\n",
      "curve = pw3.plot(np.random.normal(size=100)*1e0, clickable=True)\n",
      "curve.curve.setClickable(True)\n",
      "curve.setPen('w')  ## white pen\n",
      "curve.setShadowPen(pg.mkPen((70,70,30), width=6, cosmetic=True))\n",
      "\n",
      "def clicked():\n",
      "    print(\"curve clicked\")\n",
      "curve.sigClicked.connect(clicked)\n",
      "\n",
      "lr = pg.LinearRegionItem([1, 30], bounds=[0,100], movable=True)\n",
      "pw3.addItem(lr)\n",
      "line = pg.InfiniteLine(angle=90, movable=True)\n",
      "pw3.addItem(line)\n",
      "line.setBounds([0,200])"
     ],
     "language": "python",
     "metadata": {},
     "outputs": [],
     "prompt_number": 2
    },
    {
     "cell_type": "code",
     "collapsed": false,
     "input": [
      "## Start Qt event loop unless running in interactive mode or using pyside.\n",
      "if __name__ == '__main__':\n",
      "    import sys\n",
      "    if (sys.flags.interactive != 1) or not hasattr(QtCore, 'PYQT_VERSION'):\n",
      "        QtGui.QApplication.instance().exec_()"
     ],
     "language": "python",
     "metadata": {},
     "outputs": [],
     "prompt_number": 3
    },
    {
     "cell_type": "heading",
     "level": 2,
     "metadata": {},
     "source": [
      "Result: Yes, this works fine"
     ]
    },
    {
     "cell_type": "code",
     "collapsed": false,
     "input": [],
     "language": "python",
     "metadata": {},
     "outputs": []
    },
    {
     "cell_type": "heading",
     "level": 1,
     "metadata": {},
     "source": [
      "Try polarization ellipse"
     ]
    },
    {
     "cell_type": "markdown",
     "metadata": {},
     "source": [
      "Assume a plane wave propagating in the +z direction. It's complex amplitude vector is\n",
      "\\begin{aligned} \\\\\n",
      "\\vec{E} = \\vec{E}(z) &= (E_x e^{j\\delta_x} \\hat{x} + E_y e^{j\\delta_y} \\hat{y})e^{-jkz} \\\\\n",
      "&= E_x e^{j\\delta_x}(\\hat{x} + \\alpha \\hat{y})e^{-jkz} \\\\\n",
      "\\end{aligned}\n",
      "with\n",
      "\\begin{aligned} \\\\\n",
      "\\alpha &= \\frac{E_y}{E_x} e^{j(\\delta_y - \\delta_x)} \\\\\n",
      "&= \\tan(\\psi)e^{j\\delta} \\\\\n",
      "\\end{aligned}\n",
      "and \n",
      "\\begin{aligned} \\\\\n",
      "&\\delta = \\delta_y - \\delta_x \\\\\n",
      "&\\tan(\\psi) = \\frac{E_y}{E_x}. \\\\\n",
      "\\end{aligned}\n",
      "Note that $E_x$ and $E_y$ are real values $\\geq 0$. The real electric field is \n",
      "\\begin{aligned} \\\\\n",
      "\\vec{\\mathscr{E}}(z,t) &= \\Re(\\vec{E}(z) e^{j\\omega t} ) \\\\\n",
      "&= E_x [\\hat{x}\\cos(\\omega t - k z) + \\hat{y}\\tan(\\psi)\\cos(\\omega t - k z + \\delta)]. \\\\\n",
      "\\end{aligned}\n",
      "\n",
      "If we are only interested in the polarization state, we can work with the normalized real electric field:\n",
      "\\begin{aligned} \\\\\n",
      "\\vec{\\mathscr{E}}_n(z,t) &= \\frac{\\vec{\\mathscr{E}}(z,t)}{E_x} \\\\\n",
      "&= \\hat{x}\\cos(\\omega t - k z) + \\hat{y}\\tan(\\psi)\\cos(\\omega t - k z + \\delta). \\\\\n",
      "\\end{aligned}\n",
      "\n",
      "To visualize the polarization ellipse, we can look in the $z=0$ plane:\n",
      "\\begin{aligned} \\\\\n",
      "\\vec{\\mathscr{E}}_n(0,t) &= \\hat{x}\\cos(\\omega t) + \\hat{y}\\tan(\\psi)\\cos(\\omega t + \\delta) \\\\\n",
      "&= \\hat{x}\\cos(2\\pi \\frac{t}{T}) + \\hat{y}\\tan(\\psi)\\cos(2\\pi \\frac{t}{T} + \\delta) \\\\\n",
      "\\end{aligned}\n",
      "since\n",
      "\\begin{aligned} \\\\\n",
      "\\omega t &= 2\\pi f t \\\\\n",
      "&= 2\\pi \\frac{t}{T} \\\\\n",
      "\\end{aligned}\n",
      "and $T = 1/f$.\n"
     ]
    },
    {
     "cell_type": "code",
     "collapsed": false,
     "input": [
      "def electricfield_in_xyplane(t_norm,delta_rad,psi_rad):\n",
      "    return (np.cos(2*np.pi*t_norm), np.tan(psi_rad) * np.cos(2*np.pi*t_norm + delta_rad))\n",
      "\n",
      "print electricfield_in_xyplane(0.0,np.radians(180),np.radians(45))"
     ],
     "language": "python",
     "metadata": {},
     "outputs": [
      {
       "output_type": "stream",
       "stream": "stdout",
       "text": [
        "(1.0, -0.99999999999999989)\n"
       ]
      }
     ],
     "prompt_number": 9
    },
    {
     "cell_type": "code",
     "collapsed": false,
     "input": [],
     "language": "python",
     "metadata": {},
     "outputs": []
    }
   ],
   "metadata": {}
  }
 ]
}