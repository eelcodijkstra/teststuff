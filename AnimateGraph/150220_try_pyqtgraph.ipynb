{
 "metadata": {
  "name": "",
  "signature": "sha256:0966fc108507213baa3f5819892e1c3158e9706add4a17f64864c6021df3016c"
 },
 "nbformat": 3,
 "nbformat_minor": 0,
 "worksheets": [
  {
   "cells": [
    {
     "cell_type": "code",
     "collapsed": false,
     "input": [
      "from pyqtgraph import QtGui, QtCore\n",
      "import pyqtgraph as pg\n"
     ],
     "language": "python",
     "metadata": {},
     "outputs": []
    }
   ],
   "metadata": {}
  }
 ]
}