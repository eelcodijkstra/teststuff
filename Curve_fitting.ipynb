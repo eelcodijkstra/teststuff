{
 "cells": [
  {
   "cell_type": "code",
   "execution_count": 1,
   "metadata": {
    "collapsed": true
   },
   "outputs": [],
   "source": [
    "import numpy as np\n",
    "import matplotlib.pyplot as plt\n",
    "from matplotlib.ticker import FormatStrFormatter\n",
    "%matplotlib inline\n",
    "from __future__ import division\n",
    "from __future__ import print_function\n",
    "from scipy.optimize import curve_fit\n",
    "import os"
   ]
  },
  {
   "cell_type": "markdown",
   "metadata": {},
   "source": [
    "[This notebook](http://nbviewer.ipython.org/gist/keflavich/4042018) has a good tutorial on curve fitting. Note the use of np.polyfit(), np.polyval(), and curve_fit() from scipy.optimize."
   ]
  },
  {
   "cell_type": "code",
   "execution_count": 9,
   "metadata": {
    "collapsed": false
   },
   "outputs": [],
   "source": [
    "data1 = np.array([[   0.3,    54.5,     9.49],\n",
    " [   0.35,  105.7,    15.94],\n",
    " [   0.4,   127.62,   13.19],\n",
    " [   0.45,  185.95,   15.6 ],\n",
    " [   0.5,   197.56,   16.36]])"
   ]
  },
  {
   "cell_type": "code",
   "execution_count": 10,
   "metadata": {
    "collapsed": false
   },
   "outputs": [],
   "source": [
    "def membthickfunc(t,a,b):\n",
    "    return a*np.log(t/b)"
   ]
  },
  {
   "cell_type": "code",
   "execution_count": 11,
   "metadata": {
    "collapsed": false
   },
   "outputs": [
    {
     "name": "stdout",
     "output_type": "stream",
     "text": [
      "fit params: [  2.88233065e+02   2.47048025e-01]\n",
      "    stdevs: [  2.71746517e+01   1.16362149e-02]\n"
     ]
    },
    {
     "name": "stderr",
     "output_type": "stream",
     "text": [
      "/Users/nordin/anaconda/lib/python2.7/site-packages/IPython/kernel/__main__.py:2: RuntimeWarning: invalid value encountered in log\n",
      "  from IPython.kernel.zmq import kernelapp as app\n"
     ]
    }
   ],
   "source": [
    "fitpars, covmat = curve_fit(membthickfunc, data1[:,0], data1[:,1])#, p0=[0.01,0.24])\n",
    "std_devs = np.sqrt(covmat.diagonal())\n",
    "print('fit params:', fitpars)\n",
    "print('    stdevs:', std_devs)"
   ]
  },
  {
   "cell_type": "code",
   "execution_count": 12,
   "metadata": {
    "collapsed": false
   },
   "outputs": [
    {
     "data": {
      "image/png": "[encoded data removed]",
      "text/plain": [
       "<matplotlib.figure.Figure at 0x10f4d0c10>"
      ]
     },
     "metadata": {},
     "output_type": "display_data"
    }
   ],
   "source": [
    "fig, ax = plt.subplots()\n",
    "ax.set_xscale('log')\n",
    "ax.errorbar(data1[:,0], data1[:,1], data1[:,2], linestyle='None', marker='o', label='measurement')\n",
    "ax.plot(data1[:,0], membthickfunc(data1[:,0],*fitpars), 'r-', label='fit')\n",
    "ax.xaxis.set_minor_formatter(FormatStrFormatter(\"%.1f\"))\n",
    "ax.set_xlim(0.2,1.0)\n",
    "ax.legend(loc=4)\n",
    "fittext = '$a \\log(t/b)$\\n$a={:.2f} \\mu m$\\n$b={:.3f}s$'.format(fitpars[0],fitpars[1])\n",
    "ax.text(0.22,170,fittext,fontsize=14)\n",
    "ax.set_xlabel('Layer Exposure Time (s)')\n",
    "ax.set_ylabel('Membrane Thickness ($\\mu m$)')\n",
    "ax.set_title('Resin: 1% Irgacure, 1% UV236\\nExperiment: 20150330');\n",
    "#fig.savefig(makename('G_150330_'));"
   ]
  },
  {
   "cell_type": "code",
   "execution_count": null,
   "metadata": {
    "collapsed": true
   },
   "outputs": [],
   "source": []
  }
 ],
 "metadata": {
  "kernelspec": {
   "display_name": "Python 2",
   "language": "python",
   "name": "python2"
  },
  "language_info": {
   "codemirror_mode": {
    "name": "ipython",
    "version": 2
   },
   "file_extension": ".py",
   "mimetype": "text/x-python",
   "name": "python",
   "nbconvert_exporter": "python",
   "pygments_lexer": "ipython2",
   "version": "2.7.9"
  }
 },
 "nbformat": 4,
 "nbformat_minor": 0
}
