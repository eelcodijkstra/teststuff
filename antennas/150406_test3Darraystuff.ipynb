{
 "cells": [
  {
   "cell_type": "code",
   "execution_count": 1,
   "metadata": {
    "collapsed": true
   },
   "outputs": [],
   "source": [
    "import numpy as np"
   ]
  },
  {
   "cell_type": "code",
   "execution_count": 28,
   "metadata": {
    "collapsed": false
   },
   "outputs": [
    {
     "name": "stdout",
     "output_type": "stream",
     "text": [
      "(11,) (11, 11, 11)\n"
     ]
    }
   ],
   "source": [
    "numpnts = 11\n",
    "xx = np.linspace(-1,1,numpnts)\n",
    "yy = np.linspace(-1,1,numpnts)\n",
    "zz = np.linspace(-1,1,numpnts)\n",
    "data_inorout = np.zeros(shape=(numpnts,numpnts,numpnts))\n",
    "\n",
    "\n",
    "print xx.shape, data_inorout.shape\n"
   ]
  },
  {
   "cell_type": "code",
   "execution_count": 29,
   "metadata": {
    "collapsed": false
   },
   "outputs": [
    {
     "name": "stdout",
     "output_type": "stream",
     "text": [
      "[-1.  -0.8 -0.6 -0.4 -0.2  0.   0.2  0.4  0.6  0.8  1. ]\n"
     ]
    }
   ],
   "source": [
    "print xx"
   ]
  },
  {
   "cell_type": "code",
   "execution_count": 30,
   "metadata": {
    "collapsed": false
   },
   "outputs": [
    {
     "name": "stdout",
     "output_type": "stream",
     "text": [
      "The slowest run took 24.46 times longer than the fastest. This could mean that an intermediate result is being cached \n",
      "1000000 loops, best of 3: 536 ns per loop\n"
     ]
    }
   ],
   "source": [
    "%timeit xx*yy"
   ]
  },
  {
   "cell_type": "code",
   "execution_count": 31,
   "metadata": {
    "collapsed": false
   },
   "outputs": [],
   "source": [
    "limit = 0.55\n",
    "for i in range(numpnts):\n",
    "    for j in range(numpnts):\n",
    "        for k in range(numpnts):\n",
    "            r_squared = xx[i]**2 + yy[j]**2 + zz[k]**2\n",
    "            if r_squared < limit**2:\n",
    "                data_inorout[i,j,k] = 1.0\n",
    "                #print np.sqrt(r_squared),limit,i,j,k,xx[i],yy[j],zz[k]"
   ]
  },
  {
   "cell_type": "code",
   "execution_count": 35,
   "metadata": {
    "collapsed": false
   },
   "outputs": [
    {
     "name": "stdout",
     "output_type": "stream",
     "text": [
      "[[[ 0.  0.  0.  0.  0.  0.  0.]\n",
      "  [ 0.  0.  1.  1.  1.  0.  0.]\n",
      "  [ 0.  0.  1.  1.  1.  0.  0.]\n",
      "  [ 0.  0.  1.  1.  1.  0.  0.]\n",
      "  [ 0.  0.  0.  0.  0.  0.  0.]]\n",
      "\n",
      " [[ 0.  0.  1.  1.  1.  0.  0.]\n",
      "  [ 0.  1.  1.  1.  1.  1.  0.]\n",
      "  [ 0.  1.  1.  1.  1.  1.  0.]\n",
      "  [ 0.  1.  1.  1.  1.  1.  0.]\n",
      "  [ 0.  0.  1.  1.  1.  0.  0.]]\n",
      "\n",
      " [[ 0.  0.  1.  1.  1.  0.  0.]\n",
      "  [ 0.  1.  1.  1.  1.  1.  0.]\n",
      "  [ 0.  1.  1.  1.  1.  1.  0.]\n",
      "  [ 0.  1.  1.  1.  1.  1.  0.]\n",
      "  [ 0.  0.  1.  1.  1.  0.  0.]]\n",
      "\n",
      " [[ 0.  0.  1.  1.  1.  0.  0.]\n",
      "  [ 0.  1.  1.  1.  1.  1.  0.]\n",
      "  [ 0.  1.  1.  1.  1.  1.  0.]\n",
      "  [ 0.  1.  1.  1.  1.  1.  0.]\n",
      "  [ 0.  0.  1.  1.  1.  0.  0.]]\n",
      "\n",
      " [[ 0.  0.  0.  0.  0.  0.  0.]\n",
      "  [ 0.  0.  1.  1.  1.  0.  0.]\n",
      "  [ 0.  0.  1.  1.  1.  0.  0.]\n",
      "  [ 0.  0.  1.  1.  1.  0.  0.]\n",
      "  [ 0.  0.  0.  0.  0.  0.  0.]]]\n"
     ]
    }
   ],
   "source": [
    "print data_inorout[3:8,3:8,2:9]"
   ]
  },
  {
   "cell_type": "code",
   "execution_count": 36,
   "metadata": {
    "collapsed": false
   },
   "outputs": [
    {
     "name": "stdout",
     "output_type": "stream",
     "text": [
      "[-1.  -0.8 -0.6 -0.4 -0.2  0.   0.2  0.4  0.6  0.8  1. ]\n"
     ]
    }
   ],
   "source": [
    "print xx"
   ]
  },
  {
   "cell_type": "code",
   "execution_count": null,
   "metadata": {
    "collapsed": true
   },
   "outputs": [],
   "source": []
  }
 ],
 "metadata": {
  "kernelspec": {
   "display_name": "Python 2",
   "language": "python",
   "name": "python2"
  },
  "language_info": {
   "codemirror_mode": {
    "name": "ipython",
    "version": 2
   },
   "file_extension": ".py",
   "mimetype": "text/x-python",
   "name": "python",
   "nbconvert_exporter": "python",
   "pygments_lexer": "ipython2",
   "version": "2.7.9"
  }
 },
 "nbformat": 4,
 "nbformat_minor": 0
}
