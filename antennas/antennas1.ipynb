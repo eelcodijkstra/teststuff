{
 "cells": [
  {
   "cell_type": "markdown",
   "metadata": {},
   "source": [
    "#Table of Contents\n",
    "* [Hertzian Dipole](#Hertzian-Dipole)\n",
    "\t* [Basic script](#Basic-script)\n",
    "\t* [Color code radial coordinate](#Color-code-radial-coordinate)\n",
    "\t* [Plot log of radial coordinate](#Plot-log-of-radial-coordinate)\n",
    "* [Next](#Next)\n"
   ]
  },
  {
   "cell_type": "code",
   "execution_count": 2,
   "metadata": {
    "collapsed": false
   },
   "outputs": [
    {
     "data": {
      "application/javascript": [
       "IPython.load_extensions('calico-document-tools');"
      ],
      "text/plain": [
       "<IPython.core.display.Javascript object>"
      ]
     },
     "metadata": {},
     "output_type": "display_data"
    }
   ],
   "source": [
    "%%javascript\n",
    "IPython.load_extensions('calico-document-tools');"
   ]
  },
  {
   "cell_type": "code",
   "execution_count": 1,
   "metadata": {
    "collapsed": false
   },
   "outputs": [
    {
     "name": "stderr",
     "output_type": "stream",
     "text": [
      "WARNING:traits.has_traits:DEPRECATED: traits.has_traits.wrapped_class, 'the 'implements' class advisor has been deprecated. Use the 'provides' class decorator.\n"
     ]
    }
   ],
   "source": [
    "from mayavi import mlab\n",
    "import numpy as np"
   ]
  },
  {
   "cell_type": "markdown",
   "metadata": {},
   "source": [
    "# Hertzian Dipole"
   ]
  },
  {
   "cell_type": "markdown",
   "metadata": {},
   "source": [
    "## Basic script"
   ]
  },
  {
   "cell_type": "code",
   "execution_count": 3,
   "metadata": {
    "collapsed": true
   },
   "outputs": [],
   "source": [
    "def r(phi,theta):\n",
    "    r = np.sin(phi)**2\n",
    "    return r\n",
    "\n",
    "\n",
    "phi, theta = np.mgrid[0:2*np.pi:201j, 0:np.pi:101j]\n",
    "\n",
    "x = r(phi,theta)*np.sin(phi)*np.cos(theta)\n",
    "y = r(phi,theta)*np.sin(phi)*np.sin(theta)\n",
    "z = r(phi,theta)*np.cos(phi)\n",
    "\n",
    "intensity = phi * theta\n",
    "\n",
    "obj = mlab.mesh(x, y, z)#, scalars=intensity, colormap='jet')\n",
    "#obj.enable_contours = True\n",
    "#obj.contour.filled_contours = True\n",
    "#obj.contour.number_of_contours = 20\n",
    "mlab.show()"
   ]
  },
  {
   "cell_type": "code",
   "execution_count": 6,
   "metadata": {
    "collapsed": false
   },
   "outputs": [
    {
     "name": "stdout",
     "output_type": "stream",
     "text": [
      "(201, 101) (201, 101) (201, 101)\n"
     ]
    }
   ],
   "source": [
    "print x.shape,y.shape,intensity.shape\n"
   ]
  },
  {
   "cell_type": "markdown",
   "metadata": {},
   "source": [
    "## Color code radial coordinate"
   ]
  },
  {
   "cell_type": "code",
   "execution_count": 8,
   "metadata": {
    "collapsed": true
   },
   "outputs": [],
   "source": [
    "def r(phi,theta):\n",
    "    r = np.sin(phi)**2\n",
    "    return r\n",
    "\n",
    "\n",
    "phi, theta = np.mgrid[0:2*np.pi:201j, 0:np.pi:101j]\n",
    "\n",
    "x = r(phi,theta)*np.sin(phi)*np.cos(theta)\n",
    "y = r(phi,theta)*np.sin(phi)*np.sin(theta)\n",
    "z = r(phi,theta)*np.cos(phi)\n",
    "\n",
    "intensity = r(phi,theta)\n",
    "\n",
    "obj = mlab.mesh(x, y, z, scalars=intensity)#, colormap='jet')\n",
    "#obj.enable_contours = True\n",
    "#obj.contour.filled_contours = True\n",
    "#obj.contour.number_of_contours = 20\n",
    "mlab.show()"
   ]
  },
  {
   "cell_type": "markdown",
   "metadata": {},
   "source": [
    "## Plot log of radial coordinate"
   ]
  },
  {
   "cell_type": "code",
   "execution_count": 2,
   "metadata": {
    "collapsed": false
   },
   "outputs": [
    {
     "name": "stdout",
     "output_type": "stream",
     "text": [
      "3.99998914259 0.0\n",
      "0.999975000208 1.49975978266e-32\n",
      "-1.08574072869e-05 -31.8239782966\n",
      "3.99993914283 -3.99993914283 3.99993913783 -3.99993913783 2.95270431926 -2.95284815911\n"
     ]
    }
   ],
   "source": [
    "def r(phi,theta):\n",
    "    r = np.sin(phi)**2\n",
    "    return r\n",
    "\n",
    "def log_r(phi,theta):\n",
    "    r = np.sin(phi)**2\n",
    "    return np.log10(r)\n",
    "\n",
    "def log10_r(phi,theta):\n",
    "    r = np.sin(phi)**2\n",
    "    r[r < 1e-4] = 1e-4\n",
    "    return np.log10(r) + 4.0\n",
    "\n",
    "phi, theta = np.mgrid[1e-2:2*np.pi-1e-2:201j, 1e-4:np.pi:101j]\n",
    "\n",
    "x = log10_r(phi,theta)*np.sin(phi)*np.cos(theta)\n",
    "y = log10_r(phi,theta)*np.sin(phi)*np.sin(theta)\n",
    "z = log10_r(phi,theta)*np.cos(phi)\n",
    "\n",
    "intensity = log10_r(phi,theta)\n",
    "intensity0 = r(phi,theta)\n",
    "intensity1 = log_r(phi,theta)\n",
    "\n",
    "print np.max(intensity), np.min(intensity)\n",
    "print np.max(intensity0), np.min(intensity0)\n",
    "print np.max(intensity1), np.min(intensity1)\n",
    "print np.max(x), np.min(x), np.max(y), np.min(y), np.max(z), np.min(z)\n",
    "\n",
    "obj = mlab.mesh(x, y, z, scalars=intensity)#, colormap='jet')\n",
    "#obj.enable_contours = True\n",
    "#obj.contour.filled_contours = True\n",
    "#obj.contour.number_of_contours = 20\n",
    "mlab.show()"
   ]
  },
  {
   "cell_type": "markdown",
   "metadata": {},
   "source": [
    "          r max & min: 0.9999999975 1.03442338256e-31\n",
    "     log(r) max & min: -2.49999998793e-09 -71.3462937296"
   ]
  },
  {
   "cell_type": "code",
   "execution_count": 15,
   "metadata": {
    "collapsed": false
   },
   "outputs": [
    {
     "name": "stdout",
     "output_type": "stream",
     "text": [
      "0.0 -2.50001045e-05 -73.2774180254\n"
     ]
    }
   ],
   "source": [
    "print np.log(1), np.log(0.999975000208), np.log(1.49975978266e-32)"
   ]
  },
  {
   "cell_type": "markdown",
   "metadata": {},
   "source": [
    "# Next"
   ]
  },
  {
   "cell_type": "markdown",
   "metadata": {},
   "source": [
    "- x-y plane mesh\n",
    "- labeled xyz axes\n",
    "- elevation plane mesh\n",
    "- color points according to radial distance (i.e., power transmitted into that direction)\n",
    "- put radial coordinate on a log scale\n",
    "- get equation for different antenna type(s) & plot"
   ]
  },
  {
   "cell_type": "code",
   "execution_count": null,
   "metadata": {
    "collapsed": true
   },
   "outputs": [],
   "source": []
  }
 ],
 "metadata": {
  "kernelspec": {
   "display_name": "Python 2",
   "language": "python",
   "name": "python2"
  },
  "language_info": {
   "codemirror_mode": {
    "name": "ipython",
    "version": 2
   },
   "file_extension": ".py",
   "mimetype": "text/x-python",
   "name": "python",
   "nbconvert_exporter": "python",
   "pygments_lexer": "ipython2",
   "version": "2.7.9"
  }
 },
 "nbformat": 4,
 "nbformat_minor": 0
}
