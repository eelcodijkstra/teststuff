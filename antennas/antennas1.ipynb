{
 "cells": [
  {
   "cell_type": "markdown",
   "metadata": {},
   "source": [
    "#Table of Contents\n",
    "* [Information and Examples - Mayavi](#Information-and-Examples---Mayavi)\n",
    "* [Hertzian Dipole](#Hertzian-Dipole)\n",
    "\t* [Basic script](#Basic-script)\n",
    "\t* [Color code radial coordinate](#Color-code-radial-coordinate)\n",
    "\t* [Plot log of radial coordinate](#Plot-log-of-radial-coordinate)\n",
    "* [Next](#Next)\n",
    "* [Try mlab.axes() and mlab.outline()](#Try-mlab.axes%28%29-and-mlab.outline%28%29)\n",
    "* [Test making an x axis with plot3d & label with text3d](#Test-making-an-x-axis-with-plot3d-&-label-with-text3d)\n",
    "* [Make & label xyz axes](#Make-&-label-xyz-axes)\n",
    "* [Add xyz axes to radiation pattern plot](#Add-xyz-axes-to-radiation-pattern-plot)\n",
    "* [Opacity has to be 1.0 for a mesh object or it looks terrible](#Opacity-has-to-be-1.0-for-a-mesh-object-or-it-looks-terrible)\n",
    "* [Antenna pattern with mainlobe and sidelobes](#Antenna-pattern-with-mainlobe-and-sidelobes)\n"
   ]
  },
  {
   "cell_type": "code",
   "execution_count": 2,
   "metadata": {
    "collapsed": false
   },
   "outputs": [
    {
     "data": {
      "application/javascript": [
       "IPython.load_extensions('calico-document-tools');"
      ],
      "text/plain": [
       "<IPython.core.display.Javascript object>"
      ]
     },
     "metadata": {},
     "output_type": "display_data"
    }
   ],
   "source": [
    "%%javascript\n",
    "IPython.load_extensions('calico-document-tools');"
   ]
  },
  {
   "cell_type": "code",
   "execution_count": 1,
   "metadata": {
    "collapsed": false
   },
   "outputs": [
    {
     "name": "stderr",
     "output_type": "stream",
     "text": [
      "WARNING:traits.has_traits:DEPRECATED: traits.has_traits.wrapped_class, 'the 'implements' class advisor has been deprecated. Use the 'provides' class decorator.\n"
     ]
    }
   ],
   "source": [
    "from mayavi import mlab\n",
    "import numpy as np"
   ]
  },
  {
   "cell_type": "markdown",
   "metadata": {},
   "source": [
    "# Information and Examples - Mayavi"
   ]
  },
  {
   "cell_type": "markdown",
   "metadata": {},
   "source": [
    "Good examples: http://www.sethanil.com/python-for-reseach/5"
   ]
  },
  {
   "cell_type": "markdown",
   "metadata": {},
   "source": [
    "# Hertzian Dipole"
   ]
  },
  {
   "cell_type": "markdown",
   "metadata": {},
   "source": [
    "## Basic script"
   ]
  },
  {
   "cell_type": "markdown",
   "metadata": {},
   "source": [
    "from http://stackoverflow.com/questions/20668818/python-3d-plotting-of-measurement-data"
   ]
  },
  {
   "cell_type": "code",
   "execution_count": 3,
   "metadata": {
    "collapsed": true
   },
   "outputs": [],
   "source": [
    "def r(phi,theta):\n",
    "    r = np.sin(phi)**2\n",
    "    return r\n",
    "\n",
    "\n",
    "phi, theta = np.mgrid[0:2*np.pi:201j, 0:np.pi:101j]\n",
    "\n",
    "x = r(phi,theta)*np.sin(phi)*np.cos(theta)\n",
    "y = r(phi,theta)*np.sin(phi)*np.sin(theta)\n",
    "z = r(phi,theta)*np.cos(phi)\n",
    "\n",
    "intensity = phi * theta\n",
    "\n",
    "obj = mlab.mesh(x, y, z)#, scalars=intensity, colormap='jet')\n",
    "#obj.enable_contours = True\n",
    "#obj.contour.filled_contours = True\n",
    "#obj.contour.number_of_contours = 20\n",
    "mlab.show()"
   ]
  },
  {
   "cell_type": "code",
   "execution_count": 6,
   "metadata": {
    "collapsed": false
   },
   "outputs": [
    {
     "name": "stdout",
     "output_type": "stream",
     "text": [
      "(201, 101) (201, 101) (201, 101)\n"
     ]
    }
   ],
   "source": [
    "print x.shape,y.shape,intensity.shape\n"
   ]
  },
  {
   "cell_type": "markdown",
   "metadata": {},
   "source": [
    "## Color code radial coordinate"
   ]
  },
  {
   "cell_type": "code",
   "execution_count": 8,
   "metadata": {
    "collapsed": true
   },
   "outputs": [],
   "source": [
    "def r(phi,theta):\n",
    "    r = np.sin(phi)**2\n",
    "    return r\n",
    "\n",
    "\n",
    "phi, theta = np.mgrid[0:2*np.pi:201j, 0:np.pi:101j]\n",
    "\n",
    "x = r(phi,theta)*np.sin(phi)*np.cos(theta)\n",
    "y = r(phi,theta)*np.sin(phi)*np.sin(theta)\n",
    "z = r(phi,theta)*np.cos(phi)\n",
    "\n",
    "intensity = r(phi,theta)\n",
    "\n",
    "obj = mlab.mesh(x, y, z, scalars=intensity)#, colormap='jet')\n",
    "#obj.enable_contours = True\n",
    "#obj.contour.filled_contours = True\n",
    "#obj.contour.number_of_contours = 20\n",
    "mlab.show()"
   ]
  },
  {
   "cell_type": "markdown",
   "metadata": {},
   "source": [
    "## Plot log of radial coordinate"
   ]
  },
  {
   "cell_type": "code",
   "execution_count": 2,
   "metadata": {
    "collapsed": false
   },
   "outputs": [
    {
     "name": "stdout",
     "output_type": "stream",
     "text": [
      "3.99998914259 0.0\n",
      "0.999975000208 1.49975978266e-32\n",
      "-1.08574072869e-05 -31.8239782966\n",
      "3.99993914283 -3.99993914283 3.99993913783 -3.99993913783 2.95270431926 -2.95284815911\n"
     ]
    }
   ],
   "source": [
    "def r(phi,theta):\n",
    "    r = np.sin(phi)**2\n",
    "    return r\n",
    "\n",
    "def log_r(phi,theta):\n",
    "    r = np.sin(phi)**2\n",
    "    return np.log10(r)\n",
    "\n",
    "def log10_r(phi,theta):\n",
    "    r = np.sin(phi)**2\n",
    "    r[r < 1e-4] = 1e-4\n",
    "    return np.log10(r) + 4.0\n",
    "\n",
    "phi, theta = np.mgrid[1e-2:2*np.pi-1e-2:201j, 1e-4:np.pi:101j]\n",
    "\n",
    "x = log10_r(phi,theta)*np.sin(phi)*np.cos(theta)\n",
    "y = log10_r(phi,theta)*np.sin(phi)*np.sin(theta)\n",
    "z = log10_r(phi,theta)*np.cos(phi)\n",
    "\n",
    "intensity = log10_r(phi,theta)\n",
    "intensity0 = r(phi,theta)\n",
    "intensity1 = log_r(phi,theta)\n",
    "\n",
    "print np.max(intensity), np.min(intensity)\n",
    "print np.max(intensity0), np.min(intensity0)\n",
    "print np.max(intensity1), np.min(intensity1)\n",
    "print np.max(x), np.min(x), np.max(y), np.min(y), np.max(z), np.min(z)\n",
    "\n",
    "obj = mlab.mesh(x, y, z, scalars=intensity)#, colormap='jet')\n",
    "#obj.enable_contours = True\n",
    "#obj.contour.filled_contours = True\n",
    "#obj.contour.number_of_contours = 20\n",
    "mlab.show()"
   ]
  },
  {
   "cell_type": "markdown",
   "metadata": {},
   "source": [
    "          r max & min: 0.9999999975 1.03442338256e-31\n",
    "     log(r) max & min: -2.49999998793e-09 -71.3462937296"
   ]
  },
  {
   "cell_type": "code",
   "execution_count": 15,
   "metadata": {
    "collapsed": false
   },
   "outputs": [
    {
     "name": "stdout",
     "output_type": "stream",
     "text": [
      "0.0 -2.50001045e-05 -73.2774180254\n"
     ]
    }
   ],
   "source": [
    "print np.log(1), np.log(0.999975000208), np.log(1.49975978266e-32)"
   ]
  },
  {
   "cell_type": "markdown",
   "metadata": {},
   "source": [
    "# Next"
   ]
  },
  {
   "cell_type": "markdown",
   "metadata": {},
   "source": [
    "- DONE 4/7/15 - labeled xyz axes\n",
    "- NOT NEEDED WITH XYZ AXES - x-y plane mesh\n",
    "- NOT NEEDED WITH XYZ AXES - elevation plane mesh\n",
    "- DOESN'T LOOK GOOD WITH A MESH OBJECT, SEE [THIS THREAD](http://osdir.com/ml/python-enthought-devel/2010-11/msg00047.html) - make radiation pattern semi-transparent\n",
    "- DONE 4/6/15 - color points according to radial distance (i.e., power transmitted into that direction)\n",
    "- DONE 4/6/15 - put radial coordinate on a log scale\n",
    "- QUICK ARBITRARY PATTERN 4/7/15 - get equation for different antenna type(s) & plot"
   ]
  },
  {
   "cell_type": "markdown",
   "metadata": {},
   "source": [
    "# Try mlab.axes() and mlab.outline()"
   ]
  },
  {
   "cell_type": "code",
   "execution_count": 6,
   "metadata": {
    "collapsed": false
   },
   "outputs": [
    {
     "name": "stdout",
     "output_type": "stream",
     "text": [
      "3.99998914259 0.0\n",
      "0.999975000208 1.49975978266e-32\n",
      "-1.08574072869e-05 -31.8239782966\n",
      "0.999962500547 -0.999962500547 0.999962499297 -0.999962499297 0.384860868716 -0.384622619635\n"
     ]
    }
   ],
   "source": [
    "def r(phi,theta):\n",
    "    r = np.sin(phi)**2\n",
    "    return r\n",
    "\n",
    "def log_r(phi,theta):\n",
    "    r = np.sin(phi)**2\n",
    "    return np.log10(r)\n",
    "\n",
    "def log10_r(phi,theta):\n",
    "    r = np.sin(phi)**2\n",
    "    r[r < 1e-4] = 1e-4\n",
    "    return np.log10(r) + 4.0\n",
    "\n",
    "phi, theta = np.mgrid[1e-2:2*np.pi-1e-2:201j, 1e-4:np.pi:101j]\n",
    "\n",
    "x = r(phi,theta)*np.sin(phi)*np.cos(theta)\n",
    "y = r(phi,theta)*np.sin(phi)*np.sin(theta)\n",
    "z = r(phi,theta)*np.cos(phi)\n",
    "\n",
    "intensity = log10_r(phi,theta)\n",
    "intensity0 = r(phi,theta)\n",
    "intensity1 = log_r(phi,theta)\n",
    "\n",
    "print np.max(intensity), np.min(intensity)\n",
    "print np.max(intensity0), np.min(intensity0)\n",
    "print np.max(intensity1), np.min(intensity1)\n",
    "print np.max(x), np.min(x), np.max(y), np.min(y), np.max(z), np.min(z)\n",
    "\n",
    "obj = mlab.mesh(x, y, z, scalars=intensity0, opacity=0.5)#, colormap='jet')\n",
    "#obj.enable_contours = True\n",
    "#obj.contour.filled_contours = True\n",
    "#obj.contour.number_of_contours = 20\n",
    "mlab.axes()\n",
    "mlab.outline()\n",
    "mlab.show()"
   ]
  },
  {
   "cell_type": "markdown",
   "metadata": {},
   "source": [
    "# Test making an x axis with plot3d & label with text3d"
   ]
  },
  {
   "cell_type": "code",
   "execution_count": 18,
   "metadata": {
    "collapsed": false
   },
   "outputs": [
    {
     "name": "stdout",
     "output_type": "stream",
     "text": [
      "-5.0 5.0 [-5.  5.] [ 0.  0.] [ 0.  0.]\n"
     ]
    }
   ],
   "source": [
    "axes_len_min, axes_len_max = -5.0,5.0\n",
    "xx,xy,xz = np.array([axes_len_min, axes_len_max]),np.array([0.0,0.0]),np.array([0.0,0.0])\n",
    "axis_x = mlab.plot3d(xx,xy,xz, tube_radius=0.1)\n",
    "mlab.text3d(axes_len_max+1, -0.25, -0.5, 'x')\n",
    "mlab.show()\n",
    "print axes_len_min, axes_len_max, xx,xy,xz"
   ]
  },
  {
   "cell_type": "markdown",
   "metadata": {},
   "source": [
    "# Make & label xyz axes"
   ]
  },
  {
   "cell_type": "code",
   "execution_count": 23,
   "metadata": {
    "collapsed": false
   },
   "outputs": [],
   "source": [
    "axes_len_min, axes_len_max = -5.0,5.0\n",
    "xx,xy,xz = np.array([axes_len_min, axes_len_max]),np.array([0.0,0.0]),np.array([0.0,0.0])\n",
    "yx,yy,yz = np.array([0.0,0.0]),np.array([axes_len_min, axes_len_max]),np.array([0.0,0.0])\n",
    "zx,zy,zz = np.array([0.0,0.0]),np.array([0.0,0.0]),np.array([axes_len_min, axes_len_max])\n",
    "axis_x = mlab.plot3d(xx,xy,xz, tube_radius=0.1)\n",
    "axis_y = mlab.plot3d(yx,yy,yz, tube_radius=0.1)\n",
    "axis_z = mlab.plot3d(zx,zy,zz, tube_radius=0.1)\n",
    "mlab.text3d(axes_len_max+1, -0.25, -0.5, 'x')\n",
    "mlab.text3d(-0.25, axes_len_max+0.5, -0.5, 'y')\n",
    "mlab.text3d(-0.25, -0.5, axes_len_max+0.5, 'z')\n",
    "mlab.show()"
   ]
  },
  {
   "cell_type": "markdown",
   "metadata": {},
   "source": [
    "# Add xyz axes to radiation pattern plot"
   ]
  },
  {
   "cell_type": "code",
   "execution_count": 36,
   "metadata": {
    "collapsed": false
   },
   "outputs": [],
   "source": [
    "axes_len_min, axes_len_max = -1.2,1.2\n",
    "xx,xy,xz = np.array([axes_len_min, axes_len_max]),np.array([0.0,0.0]),np.array([0.0,0.0])\n",
    "yx,yy,yz = np.array([0.0,0.0]),np.array([axes_len_min, axes_len_max]),np.array([0.0,0.0])\n",
    "zx,zy,zz = np.array([0.0,0.0]),np.array([0.0,0.0]),np.array([axes_len_min, axes_len_max])\n",
    "axis_x = mlab.plot3d(xx,xy,xz)\n",
    "axis_y = mlab.plot3d(yx,yy,yz)\n",
    "axis_z = mlab.plot3d(zx,zy,zz)\n",
    "mlab.text3d(axes_len_max+0.2, -0.05, -0.05, 'x', scale=0.25)\n",
    "mlab.text3d(0.0, axes_len_max+0.2, 0.0, 'y', scale=0.25)\n",
    "mlab.text3d(0.0, 0.0, axes_len_max+0.2, 'z', scale=0.25)\n",
    "\n",
    "def r(phi,theta):\n",
    "    r = np.sin(phi)**2\n",
    "    return r\n",
    "\n",
    "phi, theta = np.mgrid[1e-2:2*np.pi-1e-2:201j, 1e-4:np.pi:101j]\n",
    "\n",
    "x = r(phi,theta)*np.sin(phi)*np.cos(theta)\n",
    "y = r(phi,theta)*np.sin(phi)*np.sin(theta)\n",
    "z = r(phi,theta)*np.cos(phi)\n",
    "\n",
    "intensity0 = r(phi,theta)\n",
    "\n",
    "obj = mlab.mesh(x, y, z, scalars=intensity0, opacity=0.75)#, colormap='jet')\n",
    "#obj.enable_contours = True\n",
    "#obj.contour.filled_contours = True\n",
    "#obj.contour.number_of_contours = 20\n",
    "mlab.show()"
   ]
  },
  {
   "cell_type": "markdown",
   "metadata": {},
   "source": [
    "# Opacity has to be 1.0 for a mesh object or it looks terrible"
   ]
  },
  {
   "cell_type": "code",
   "execution_count": 18,
   "metadata": {
    "collapsed": false
   },
   "outputs": [],
   "source": [
    "# Make xyz axes\n",
    "axes_len_min, axes_len_max = -1.2,1.2\n",
    "xx,xy,xz = np.array([axes_len_min, axes_len_max]),np.array([0.0,0.0]),np.array([0.0,0.0])\n",
    "yx,yy,yz = np.array([0.0,0.0]),np.array([axes_len_min, axes_len_max]),np.array([0.0,0.0])\n",
    "zx,zy,zz = np.array([0.0,0.0]),np.array([0.0,0.0]),np.array([axes_len_min, axes_len_max])\n",
    "axis_x = mlab.plot3d(xx,xy,xz)\n",
    "axis_y = mlab.plot3d(yx,yy,yz)\n",
    "axis_z = mlab.plot3d(zx,zy,zz)\n",
    "mlab.text3d(axes_len_max+0.2, -0.05, -0.05, 'x', scale=0.25)\n",
    "mlab.text3d(0.0, axes_len_max+0.2, 0.0, 'y', scale=0.25)\n",
    "mlab.text3d(0.0, 0.0, axes_len_max+0.2, 'z', scale=0.25)\n",
    "\n",
    "# Make Hertzian dipole radiation pattern mesh & display\n",
    "# from http://stackoverflow.com/questions/20668818/python-3d-plotting-of-measurement-data\n",
    "def r(phi,theta):\n",
    "    r = np.sin(phi)**2\n",
    "    return r\n",
    "\n",
    "phi, theta = np.mgrid[1e-2:2*np.pi-1e-2:201j, 1e-4:np.pi:101j]\n",
    "\n",
    "x = r(phi,theta)*np.sin(phi)*np.cos(theta)\n",
    "y = r(phi,theta)*np.sin(phi)*np.sin(theta)\n",
    "z = r(phi,theta)*np.cos(phi)\n",
    "\n",
    "intensity0 = r(phi,theta)\n",
    "\n",
    "obj = mlab.mesh(x, y, z, scalars=intensity0, representation='surface', opacity=1.0)#, colormap='jet')\n",
    "mlab.show()"
   ]
  },
  {
   "cell_type": "markdown",
   "metadata": {},
   "source": [
    "# Antenna pattern with mainlobe and sidelobes"
   ]
  },
  {
   "cell_type": "code",
   "execution_count": 19,
   "metadata": {
    "collapsed": false
   },
   "outputs": [],
   "source": [
    "# Make xyz axes\n",
    "axes_len_min, axes_len_max = -1.2,1.2\n",
    "xx,xy,xz = np.array([axes_len_min, axes_len_max]),np.array([0.0,0.0]),np.array([0.0,0.0])\n",
    "yx,yy,yz = np.array([0.0,0.0]),np.array([axes_len_min, axes_len_max]),np.array([0.0,0.0])\n",
    "zx,zy,zz = np.array([0.0,0.0]),np.array([0.0,0.0]),np.array([axes_len_min, axes_len_max])\n",
    "axis_x = mlab.plot3d(xx,xy,xz)\n",
    "axis_y = mlab.plot3d(yx,yy,yz)\n",
    "axis_z = mlab.plot3d(zx,zy,zz)\n",
    "mlab.text3d(axes_len_max+0.2, -0.05, -0.05, 'x', scale=0.25)\n",
    "mlab.text3d(0.0, axes_len_max+0.2, 0.0, 'y', scale=0.25)\n",
    "mlab.text3d(0.0, 0.0, axes_len_max+0.2, 'z', scale=0.25)\n",
    "\n",
    "def r(phi,theta):\n",
    "    r = np.sin(phi)**4 * np.cos(2*theta)**2 * np.abs(np.cos(3*theta))\n",
    "    return r\n",
    "\n",
    "phi, theta = np.mgrid[1e-2:2*np.pi-1e-2:201j, 1e-4:np.pi:101j]\n",
    "\n",
    "x = r(phi,theta)*np.sin(phi)*np.cos(theta)\n",
    "y = r(phi,theta)*np.sin(phi)*np.sin(theta)\n",
    "z = r(phi,theta)*np.cos(phi)\n",
    "\n",
    "intensity0 = r(phi,theta)\n",
    "\n",
    "obj = mlab.mesh(x, y, z, scalars=intensity0, representation='surface', opacity=1.0)#, colormap='jet')\n",
    "mlab.show()"
   ]
  },
  {
   "cell_type": "code",
   "execution_count": null,
   "metadata": {
    "collapsed": true
   },
   "outputs": [],
   "source": []
  }
 ],
 "metadata": {
  "kernelspec": {
   "display_name": "Python 2",
   "language": "python",
   "name": "python2"
  },
  "language_info": {
   "codemirror_mode": {
    "name": "ipython",
    "version": 2
   },
   "file_extension": ".py",
   "mimetype": "text/x-python",
   "name": "python",
   "nbconvert_exporter": "python",
   "pygments_lexer": "ipython2",
   "version": "2.7.9"
  }
 },
 "nbformat": 4,
 "nbformat_minor": 0
}
