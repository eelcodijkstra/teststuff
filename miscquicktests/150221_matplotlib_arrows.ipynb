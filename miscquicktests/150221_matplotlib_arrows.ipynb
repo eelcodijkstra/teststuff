{
 "metadata": {
  "name": "",
  "signature": "sha256:5606b10d47d0cf98265ad16d915ea6be8418b63c4d4319e4269c0318a4398b31"
 },
 "nbformat": 3,
 "nbformat_minor": 0,
 "worksheets": [
  {
   "cells": [
    {
     "cell_type": "markdown",
     "metadata": {},
     "source": [
      "#Table of Contents\n",
      "* [First try - plot needs to have aspect ratio of 1 so arrow doesn't look funny](#First-try---plot-needs-to-have-aspect-ratio-of-1-so-arrow-doesn't-look-funny)\n",
      "* [Draw circle with arrow as radius](#Draw-circle-with-arrow-as-radius)\n",
      "* [Draw just arrowhead with no trailing line](#Draw-just-arrowhead-with-no-trailing-line)\n",
      "* [Put arrowhead on a curve, tangent to the curve at that point](#Put-arrowhead-on-a-curve,-tangent-to-the-curve-at-that-point)\n",
      "\t* [Manually place arrowhead](#Manually-place-arrowhead)\n",
      "\t* [Test simple method to get approximate tangent direction for arrowhead for arbitrary point on circle](#Test-simple-method-to-get-approximate-tangent-direction-for-arrowhead-for-arbitrary-point-on-circle)\n",
      "\t* [Make function to calculate tangent using simple method](#Make-function-to-calculate-tangent-using-simple-method)\n",
      "\t\t* [Test with a circle](#Test-with-a-circle)\n",
      "\t\t* [Test with sinusoidal curve - need to change arrowhead size or it's too small](#Test-with-sinusoidal-curve---need-to-change-arrowhead-size-or-it's-too-small)\n"
     ]
    },
    {
     "cell_type": "code",
     "collapsed": false,
     "input": [
      "%%javascript\n",
      "IPython.load_extensions('calico-document-tools');"
     ],
     "language": "python",
     "metadata": {},
     "outputs": [
      {
       "javascript": [
        "IPython.load_extensions('calico-document-tools');"
       ],
       "metadata": {},
       "output_type": "display_data",
       "text": [
        "<IPython.core.display.Javascript at 0x108ffd3d0>"
       ]
      }
     ],
     "prompt_number": 16
    },
    {
     "cell_type": "code",
     "collapsed": false,
     "input": [
      "import numpy as np\n",
      "import matplotlib.pyplot as plt\n",
      "%matplotlib inline\n",
      "from IPython.html.widgets import interact, fixed"
     ],
     "language": "python",
     "metadata": {},
     "outputs": [],
     "prompt_number": 1
    },
    {
     "cell_type": "heading",
     "level": 1,
     "metadata": {},
     "source": [
      "First try - plot needs to have aspect ratio of 1 so arrow doesn't look funny"
     ]
    },
    {
     "cell_type": "code",
     "collapsed": false,
     "input": [
      "# From https://philbull.wordpress.com/2012/04/05/drawing-arrows-in-matplotlib/\n",
      "\n",
      "plt.subplot(111)\n",
      "# P.arrow( x, y, dx, dy, **kwargs )\n",
      "plt.arrow( 0.5, 0.3, 0.2, 0.2, fc=\"k\", ec=\"k\", head_width=0.05, head_length=0.1 )\n",
      "plt.show()"
     ],
     "language": "python",
     "metadata": {},
     "outputs": [
      {
       "metadata": {},
       "output_type": "display_data",
       "png": "[encoded data removed]",
       "text": [
        "<matplotlib.figure.Figure at 0x1071f2190>"
       ]
      }
     ],
     "prompt_number": 3
    },
    {
     "cell_type": "markdown",
     "metadata": {},
     "source": [
      "Note that arrow is misshapen because the plot aspect ratio is not 1"
     ]
    },
    {
     "cell_type": "code",
     "collapsed": false,
     "input": [
      "plotlimits = 1.1\n",
      "fig = plt.figure()\n",
      "ax = plt.axes(xlim=(-plotlimits, plotlimits), ylim=(-plotlimits,plotlimits))\n",
      "#ax.plot(efield2[0],efield2[1])\n",
      "ax.arrow( 0.5, 0.3, 0.2, 0.2, fc=\"k\", ec=\"k\", head_width=0.05, head_length=0.1 )\n",
      "ax.set_aspect('equal')\n",
      "ax.set_xlabel('x')\n",
      "ax.set_ylabel('y')"
     ],
     "language": "python",
     "metadata": {},
     "outputs": [
      {
       "metadata": {},
       "output_type": "pyout",
       "prompt_number": 5,
       "text": [
        "<matplotlib.text.Text at 0x108a1b610>"
       ]
      },
      {
       "metadata": {},
       "output_type": "display_data",
       "png": "[encoded data removed]",
       "text": [
        "<matplotlib.figure.Figure at 0x1084f5dd0>"
       ]
      }
     ],
     "prompt_number": 5
    },
    {
     "cell_type": "heading",
     "level": 1,
     "metadata": {},
     "source": [
      "Draw circle with arrow as radius"
     ]
    },
    {
     "cell_type": "code",
     "collapsed": false,
     "input": [
      "x_location = 0.2\n",
      "y_location = 0.5\n",
      "arrowlength = 0.2\n",
      "arrowheadwidth = 0.05\n",
      "arrowheadlength = 0.1\n",
      "phi_numpnts = 101\n",
      "phi_index = 45\n",
      "phi = np.linspace(0, 2*np.pi, phi_numpnts)\n",
      "plotlimits = 1.1\n",
      "\n",
      "fig = plt.figure()\n",
      "ax = plt.axes(xlim=(-plotlimits, plotlimits), ylim=(-plotlimits,plotlimits))\n",
      "#ax.plot(efield2[0],efield2[1])\n",
      "ax.arrow(x_location, y_location, arrowlength*np.cos(phi[phi_index]), arrowlength*np.sin(phi[phi_index]), \n",
      "         fc=\"k\", ec=\"k\", head_width=arrowheadwidth, head_length=arrowheadlength)\n",
      "ax.set_aspect('equal')\n",
      "ax.set_xlabel('x')\n",
      "ax.set_ylabel('y')"
     ],
     "language": "python",
     "metadata": {},
     "outputs": [
      {
       "metadata": {},
       "output_type": "pyout",
       "prompt_number": 10,
       "text": [
        "<matplotlib.text.Text at 0x1087e1710>"
       ]
      },
      {
       "metadata": {},
       "output_type": "display_data",
       "png": "[encoded data removed]",
       "text": [
        "<matplotlib.figure.Figure at 0x1084f5750>"
       ]
      }
     ],
     "prompt_number": 10
    },
    {
     "cell_type": "code",
     "collapsed": false,
     "input": [
      "x_location = 0.2\n",
      "y_location = 0.5\n",
      "arrowlength = 0.4\n",
      "arrowheadwidth = 0.05\n",
      "arrowheadlength = 0.1\n",
      "phi_numpnts = 101\n",
      "phi_index = 45\n",
      "phi = np.linspace(0, 2*np.pi, phi_numpnts)\n",
      "plotlimits = 1.1\n",
      "\n",
      "fig = plt.figure()\n",
      "ax = plt.axes(xlim=(-plotlimits, plotlimits), ylim=(-plotlimits,plotlimits))\n",
      "x_circle = arrowlength * np.cos(phi) + x_location\n",
      "y_circle = arrowlength * np.sin(phi) + y_location\n",
      "ax.plot(x_circle,y_circle)\n",
      "ax.arrow(x_location, y_location, arrowlength*np.cos(phi[phi_index]), arrowlength*np.sin(phi[phi_index]), \n",
      "         fc=\"k\", ec=\"k\", head_width=arrowheadwidth, head_length=arrowheadlength)\n",
      "ax.set_aspect('equal')\n",
      "ax.set_xlabel('x')\n",
      "ax.set_ylabel('y')"
     ],
     "language": "python",
     "metadata": {},
     "outputs": [
      {
       "metadata": {},
       "output_type": "pyout",
       "prompt_number": 14,
       "text": [
        "<matplotlib.text.Text at 0x10944f2d0>"
       ]
      },
      {
       "metadata": {},
       "output_type": "display_data",
       "png": "[encoded data removed]",
       "text": [
        "<matplotlib.figure.Figure at 0x10945bfd0>"
       ]
      }
     ],
     "prompt_number": 14
    },
    {
     "cell_type": "markdown",
     "metadata": {},
     "source": [
      "**Note that the arrowhead length is added onto the length of the arrow body!** \n",
      "\n",
      "Let's fix this:"
     ]
    },
    {
     "cell_type": "code",
     "collapsed": false,
     "input": [
      "x_location = 0.2\n",
      "y_location = 0.5\n",
      "arrowlengthtotal = 0.4\n",
      "arrowheadwidth = 0.05\n",
      "arrowheadlength = 0.1\n",
      "arrowlength = arrowlengthtotal - arrowheadlength\n",
      "phi_numpnts = 101\n",
      "phi_index = 45\n",
      "phi = np.linspace(0, 2*np.pi, phi_numpnts)\n",
      "plotlimits = 1.1\n",
      "\n",
      "fig = plt.figure()\n",
      "ax = plt.axes(xlim=(-plotlimits, plotlimits), ylim=(-plotlimits,plotlimits))\n",
      "x_circle = arrowlengthtotal * np.cos(phi) + x_location\n",
      "y_circle = arrowlengthtotal * np.sin(phi) + y_location\n",
      "ax.plot(x_circle,y_circle)\n",
      "ax.arrow(x_location, y_location, arrowlength*np.cos(phi[phi_index]), arrowlength*np.sin(phi[phi_index]), \n",
      "         fc=\"k\", ec=\"k\", head_width=arrowheadwidth, head_length=arrowheadlength)\n",
      "ax.set_aspect('equal')\n",
      "ax.set_xlabel('x')\n",
      "ax.set_ylabel('y')"
     ],
     "language": "python",
     "metadata": {},
     "outputs": [
      {
       "metadata": {},
       "output_type": "pyout",
       "prompt_number": 15,
       "text": [
        "<matplotlib.text.Text at 0x108c9cc50>"
       ]
      },
      {
       "metadata": {},
       "output_type": "display_data",
       "png": "[encoded data removed]",
       "text": [
        "<matplotlib.figure.Figure at 0x10956da50>"
       ]
      }
     ],
     "prompt_number": 15
    },
    {
     "cell_type": "heading",
     "level": 1,
     "metadata": {},
     "source": [
      "Draw just arrowhead with no trailing line"
     ]
    },
    {
     "cell_type": "code",
     "collapsed": false,
     "input": [
      "plotlimits = 1.1\n",
      "fig = plt.figure()\n",
      "ax = plt.axes(xlim=(-plotlimits, plotlimits), ylim=(-plotlimits,plotlimits))\n",
      "#ax.plot(efield2[0],efield2[1])\n",
      "ax.arrow( 0.5, 0.3, 0.0, 0.0, fc=\"k\", ec=\"k\", head_width=0.05, head_length=0.1 )\n",
      "ax.set_aspect('equal')\n",
      "ax.set_xlabel('x')\n",
      "ax.set_ylabel('y')"
     ],
     "language": "python",
     "metadata": {},
     "outputs": [
      {
       "output_type": "stream",
       "stream": "stderr",
       "text": [
        "/Users/nordin/anaconda/lib/python2.7/site-packages/matplotlib/patches.py:1147: RuntimeWarning: invalid value encountered in double_scalars\n",
        "  cx = float(dx) / distance\n",
        "/Users/nordin/anaconda/lib/python2.7/site-packages/matplotlib/patches.py:1148: RuntimeWarning: invalid value encountered in double_scalars\n",
        "  sx = float(dy) / distance\n"
       ]
      },
      {
       "metadata": {},
       "output_type": "pyout",
       "prompt_number": 2,
       "text": [
        "<matplotlib.text.Text at 0x107ce2e90>"
       ]
      },
      {
       "metadata": {},
       "output_type": "display_data",
       "png": "[encoded data removed]",
       "text": [
        "<matplotlib.figure.Figure at 0x107caead0>"
       ]
      }
     ],
     "prompt_number": 2
    },
    {
     "cell_type": "code",
     "collapsed": false,
     "input": [
      "plotlimits = 1.1\n",
      "fig = plt.figure()\n",
      "ax = plt.axes(xlim=(-plotlimits, plotlimits), ylim=(-plotlimits,plotlimits))\n",
      "#ax.plot(efield2[0],efield2[1])\n",
      "ax.arrow( 0.5, 0.3, 0.0, 0.001, fc=\"k\", ec=\"k\", head_width=0.05, head_length=0.1 )\n",
      "ax.set_aspect('equal')\n",
      "ax.set_xlabel('x')\n",
      "ax.set_ylabel('y')"
     ],
     "language": "python",
     "metadata": {},
     "outputs": [
      {
       "metadata": {},
       "output_type": "pyout",
       "prompt_number": 3,
       "text": [
        "<matplotlib.text.Text at 0x107e14650>"
       ]
      },
      {
       "metadata": {},
       "output_type": "display_data",
       "png": "[encoded data removed]",
       "text": [
        "<matplotlib.figure.Figure at 0x107cf9f10>"
       ]
      }
     ],
     "prompt_number": 3
    },
    {
     "cell_type": "markdown",
     "metadata": {},
     "source": [
      "So, you can't make the length of the arrow zero. It has to have some value, although it can be very small."
     ]
    },
    {
     "cell_type": "code",
     "collapsed": false,
     "input": [
      "plotlimits = 1.1\n",
      "fig = plt.figure()\n",
      "ax = plt.axes(xlim=(-plotlimits, plotlimits), ylim=(-plotlimits,plotlimits))\n",
      "#ax.plot(efield2[0],efield2[1])\n",
      "ax.arrow( 0.5, 0.3, 0.001, 0.001, fc=\"k\", ec=\"k\", head_width=0.05, head_length=0.1 )\n",
      "ax.set_aspect('equal')\n",
      "ax.set_xlabel('x')\n",
      "ax.set_ylabel('y')"
     ],
     "language": "python",
     "metadata": {},
     "outputs": [
      {
       "metadata": {},
       "output_type": "pyout",
       "prompt_number": 4,
       "text": [
        "<matplotlib.text.Text at 0x1089204d0>"
       ]
      },
      {
       "metadata": {},
       "output_type": "display_data",
       "png": "[encoded data removed]",
       "text": [
        "<matplotlib.figure.Figure at 0x107e890d0>"
       ]
      }
     ],
     "prompt_number": 4
    },
    {
     "cell_type": "markdown",
     "metadata": {},
     "source": [
      "The direction of the arrowhead is (of course) set by the direction of the arrow. Just be sure to make the arrowlength very small."
     ]
    },
    {
     "cell_type": "code",
     "collapsed": false,
     "input": [
      "plotlimits = 1.1\n",
      "fig = plt.figure()\n",
      "ax = plt.axes(xlim=(-plotlimits, plotlimits), ylim=(-plotlimits,plotlimits))\n",
      "#ax.plot(efield2[0],efield2[1])\n",
      "a1 = ax.arrow( 0.5, 0.3, 0.001, 0.001, fc=\"k\", ec=\"k\", head_width=0.08, head_length=0.16 )\n",
      "ax.set_aspect('equal')\n",
      "ax.set_xlabel('x')\n",
      "ax.set_ylabel('y')"
     ],
     "language": "python",
     "metadata": {},
     "outputs": [
      {
       "metadata": {},
       "output_type": "pyout",
       "prompt_number": 6,
       "text": [
        "<matplotlib.text.Text at 0x108b0a490>"
       ]
      },
      {
       "metadata": {},
       "output_type": "display_data",
       "png": "[encoded data removed]",
       "text": [
        "<matplotlib.figure.Figure at 0x108a3c2d0>"
       ]
      }
     ],
     "prompt_number": 6
    },
    {
     "cell_type": "heading",
     "level": 1,
     "metadata": {},
     "source": [
      "Put arrowhead on a curve, tangent to the curve at that point"
     ]
    },
    {
     "cell_type": "heading",
     "level": 2,
     "metadata": {},
     "source": [
      "Manually place arrowhead"
     ]
    },
    {
     "cell_type": "code",
     "collapsed": false,
     "input": [
      "x_location = 0.0\n",
      "y_location = 0.0\n",
      "arrowlengthtotal = 1\n",
      "arrowheadwidth = 0.05\n",
      "arrowheadlength = 0.1\n",
      "arrowlength = arrowlengthtotal - arrowheadlength\n",
      "phi_numpnts = 101\n",
      "phi_index = 70\n",
      "phi = np.linspace(0, 2*np.pi, phi_numpnts)\n",
      "plotlimits = 1.1\n",
      "\n",
      "fig = plt.figure()\n",
      "ax = plt.axes(xlim=(-plotlimits, plotlimits), ylim=(-plotlimits,plotlimits))\n",
      "x_circle = arrowlengthtotal * np.cos(phi) + x_location\n",
      "y_circle = arrowlengthtotal * np.sin(phi) + y_location\n",
      "ax.plot(x_circle,y_circle)\n",
      "a1 = ax.arrow(x_location, y_location, arrowlength*np.cos(phi[phi_index]), arrowlength*np.sin(phi[phi_index]), \n",
      "         fc=\"k\", ec=\"k\", head_width=arrowheadwidth, head_length=arrowheadlength)\n",
      "a2 = ax.arrow(x_circle[0], y_circle[0], 0.0, 0.001, head_width=0.08, head_length=0.16)\n",
      "ax.set_aspect('equal')\n",
      "ax.set_xlabel('x')\n",
      "ax.set_ylabel('y')"
     ],
     "language": "python",
     "metadata": {},
     "outputs": [
      {
       "metadata": {},
       "output_type": "pyout",
       "prompt_number": 21,
       "text": [
        "<matplotlib.text.Text at 0x109b22a10>"
       ]
      },
      {
       "metadata": {},
       "output_type": "display_data",
       "png": "[encoded data removed]",
       "text": [
        "<matplotlib.figure.Figure at 0x109e47510>"
       ]
      }
     ],
     "prompt_number": 21
    },
    {
     "cell_type": "heading",
     "level": 2,
     "metadata": {},
     "source": [
      "Test simple method to get approximate tangent direction for arrowhead for arbitrary point on circle"
     ]
    },
    {
     "cell_type": "code",
     "collapsed": false,
     "input": [
      "x_circlecenter = 0.0\n",
      "y_circlecenter = 0.0\n",
      "arrowlengthtotal = 1\n",
      "arrowheadwidth = 0.05\n",
      "arrowheadlength = 0.1\n",
      "arrowlength = arrowlengthtotal - arrowheadlength\n",
      "phi_numpnts = 101\n",
      "phi_index = 0\n",
      "phi = np.linspace(0, 2*np.pi, phi_numpnts)\n",
      "plotlimits = 1.1\n",
      "\n",
      "fig = plt.figure()\n",
      "ax = plt.axes(xlim=(-plotlimits, plotlimits), ylim=(-plotlimits,plotlimits))\n",
      "x_circle = arrowlengthtotal * np.cos(phi) + x_circlecenter\n",
      "y_circle = arrowlengthtotal * np.sin(phi) + y_circlecenter\n",
      "if phi_index < len(phi)-1:\n",
      "    i1 = phi_index+1\n",
      "    i2 = phi_index\n",
      "else:\n",
      "    i1 = phi_index\n",
      "    i2 = phi_index-1    \n",
      "dx = (x_circle[i1] - x_circle[i2]) / 100.0\n",
      "dy = (y_circle[i1] - y_circle[i2]) / 100.0\n",
      "ax.plot(x_circle,y_circle)\n",
      "'''a1 = ax.arrow(x_location, y_location, arrowlength*np.cos(phi[phi_index]), arrowlength*np.sin(phi[phi_index]), \n",
      "         fc=\"k\", ec=\"k\", head_width=arrowheadwidth, head_length=arrowheadlength)'''\n",
      "a2 = ax.arrow(x_circle[phi_index], y_circle[phi_index], dx, dy, head_width=0.08, head_length=0.16)\n",
      "ax.set_aspect('equal')\n",
      "ax.set_xlabel('x')\n",
      "ax.set_ylabel('y')"
     ],
     "language": "python",
     "metadata": {},
     "outputs": [
      {
       "metadata": {},
       "output_type": "pyout",
       "prompt_number": 33,
       "text": [
        "<matplotlib.text.Text at 0x109a35210>"
       ]
      },
      {
       "metadata": {},
       "output_type": "display_data",
       "png": "[encoded data removed]",
       "text": [
        "<matplotlib.figure.Figure at 0x10af4f050>"
       ]
      }
     ],
     "prompt_number": 33
    },
    {
     "cell_type": "heading",
     "level": 2,
     "metadata": {},
     "source": [
      "Make function to calculate tangent using simple method"
     ]
    },
    {
     "cell_type": "code",
     "collapsed": false,
     "input": [
      "def approx_tangent_to_curve(index,curve_x,curve_y):\n",
      "    maxindex = len(curve_x) - 1\n",
      "    if index < maxindex:\n",
      "        i1 = index+1\n",
      "        i2 = index\n",
      "    elif index == maxindex: # handle end-of-array index\n",
      "        i1 = index\n",
      "        i2 = index-1\n",
      "    else:\n",
      "        print '    OUT OF RANGE INDEX in approx_tangent_to_curve():'\n",
      "        print '        %d is greater than the index of the end of the array, which is %d' % (index, maxindex)\n",
      "        return\n",
      "    #print index, maxindex, i1, i2\n",
      "    dx = (curve_x[i1] - curve_x[i2]) / 100.0\n",
      "    dy = (curve_y[i1] - curve_y[i2]) / 100.0\n",
      "    return dx, dy"
     ],
     "language": "python",
     "metadata": {},
     "outputs": [],
     "prompt_number": 63
    },
    {
     "cell_type": "code",
     "collapsed": false,
     "input": [
      "# Test the function\n",
      "print approx_tangent_to_curve(5, x_circle, y_circle)\n",
      "print approx_tangent_to_curve(99, x_circle, y_circle)\n",
      "print approx_tangent_to_curve(100, x_circle, y_circle)\n",
      "print approx_tangent_to_curve(101, x_circle, y_circle)\n",
      "print approx_tangent_to_curve(102, x_circle, y_circle)"
     ],
     "language": "python",
     "metadata": {},
     "outputs": [
      {
       "output_type": "stream",
       "stream": "stdout",
       "text": [
        "(-0.00021280030406902183, 0.00059107558309730583)\n",
        "(1.9732715717284409e-05, 0.00062790519529313008)\n",
        "(1.9732715717284409e-05, 0.00062790519529313008)\n",
        "    OUT OF RANGE INDEX in approx_tangent_to_curve():\n",
        "        101 is greater than the index of the end of the array, which is 100\n",
        "None\n",
        "    OUT OF RANGE INDEX in approx_tangent_to_curve():\n",
        "        102 is greater than the index of the end of the array, which is 100\n",
        "None\n"
       ]
      }
     ],
     "prompt_number": 64
    },
    {
     "cell_type": "heading",
     "level": 3,
     "metadata": {},
     "source": [
      "Test with a circle"
     ]
    },
    {
     "cell_type": "code",
     "collapsed": false,
     "input": [
      "x_circlecenter = 0.0\n",
      "y_circlecenter = 0.0\n",
      "arrowlengthtotal = 1\n",
      "arrowheadwidth = 0.08\n",
      "arrowheadlength = 0.16\n",
      "arrowlength = arrowlengthtotal - arrowheadlength\n",
      "phi_numpnts = 101\n",
      "phi_index = 17\n",
      "phi = np.linspace(0, 2*np.pi, phi_numpnts)\n",
      "plotlimits = 1.1\n",
      "\n",
      "fig = plt.figure()\n",
      "ax = plt.axes(xlim=(-plotlimits, plotlimits), ylim=(-plotlimits,plotlimits))\n",
      "x_circle = arrowlengthtotal * np.cos(phi) + x_circlecenter\n",
      "y_circle = arrowlengthtotal * np.sin(phi) + y_circlecenter\n",
      "dx, dy = approx_tangent_to_curve(phi_index,x_circle,y_circle)\n",
      "ax.plot(x_circle,y_circle)\n",
      "'''a1 = ax.arrow(x_location, y_location, arrowlength*np.cos(phi[phi_index]), arrowlength*np.sin(phi[phi_index]), \n",
      "         fc=\"k\", ec=\"k\", head_width=arrowheadwidth, head_length=arrowheadlength)'''\n",
      "a2 = ax.arrow(x_circle[phi_index], y_circle[phi_index], dx, dy, head_width=arrowheadwidth, head_length=arrowheadlength)\n",
      "ax.set_aspect('equal')\n",
      "ax.set_xlabel('x')\n",
      "ax.set_ylabel('y')"
     ],
     "language": "python",
     "metadata": {},
     "outputs": [
      {
       "metadata": {},
       "output_type": "pyout",
       "prompt_number": 81,
       "text": [
        "<matplotlib.text.Text at 0x10e4eb6d0>"
       ]
      },
      {
       "metadata": {},
       "output_type": "display_data",
       "png": "[encoded data removed]",
       "text": [
        "<matplotlib.figure.Figure at 0x10e4f6410>"
       ]
      }
     ],
     "prompt_number": 81
    },
    {
     "cell_type": "heading",
     "level": 3,
     "metadata": {},
     "source": [
      "Test with sinusoidal curve - need to change arrowhead size or it's too small"
     ]
    },
    {
     "cell_type": "code",
     "collapsed": false,
     "input": [
      "x_circlecenter = 0.0\n",
      "y_circlecenter = 0.0\n",
      "arrowlengthtotal = 1\n",
      "arrowheadwidth = 0.15\n",
      "arrowheadlength = 0.3\n",
      "arrowlength = arrowlengthtotal - arrowheadlength\n",
      "phi_numpnts = 101\n",
      "phi_index = 90\n",
      "phi = np.linspace(0, 2*np.pi, phi_numpnts)\n",
      "plotlimits = 1.1\n",
      "\n",
      "fig = plt.figure()\n",
      "ax = plt.axes() #xlim=(-plotlimits, plotlimits), ylim=(-plotlimits,plotlimits))\n",
      "x_circle = arrowlengthtotal * np.cos(phi) + x_circlecenter\n",
      "y_circle = arrowlengthtotal * np.sin(phi) + y_circlecenter\n",
      "dx, dy = approx_tangent_to_curve(phi_index,phi,y_circle)\n",
      "ax.plot(phi,y_circle)\n",
      "'''a1 = ax.arrow(x_location, y_location, arrowlength*np.cos(phi[phi_index]), arrowlength*np.sin(phi[phi_index]), \n",
      "         fc=\"k\", ec=\"k\", head_width=arrowheadwidth, head_length=arrowheadlength)'''\n",
      "a2 = ax.arrow(phi[phi_index], y_circle[phi_index], dx, dy, head_width=arrowheadwidth, head_length=arrowheadlength)\n",
      "ax.set_aspect('equal')\n",
      "ax.set_xlabel('x')\n",
      "ax.set_ylabel('y')"
     ],
     "language": "python",
     "metadata": {},
     "outputs": [
      {
       "metadata": {},
       "output_type": "pyout",
       "prompt_number": 80,
       "text": [
        "<matplotlib.text.Text at 0x10d50b050>"
       ]
      },
      {
       "metadata": {},
       "output_type": "display_data",
       "png": "[encoded data removed]",
       "text": [
        "<matplotlib.figure.Figure at 0x10e4281d0>"
       ]
      }
     ],
     "prompt_number": 80
    },
    {
     "cell_type": "code",
     "collapsed": false,
     "input": [],
     "language": "python",
     "metadata": {},
     "outputs": []
    }
   ],
   "metadata": {}
  }
 ]
}