{
 "metadata": {
  "name": "",
  "signature": "sha256:a3b00720700d1b4cb528e8786e917d4582896868e01a0531ae2df1f2203260f5"
 },
 "nbformat": 3,
 "nbformat_minor": 0,
 "worksheets": [
  {
   "cells": [
    {
     "cell_type": "code",
     "collapsed": false,
     "input": [
      "from IPython.html.widgets import interact, fixed\n",
      "import numpy as np\n",
      "import matplotlib.pyplot as plt\n",
      "%matplotlib inline"
     ],
     "language": "python",
     "metadata": {},
     "outputs": [],
     "prompt_number": 1
    },
    {
     "cell_type": "code",
     "collapsed": false,
     "input": [
      "l = 30.0\n",
      "u = 3.0e8\n",
      "T = float(l)/u\n",
      "print T\n",
      "num = 501\n",
      "\n",
      "z = np.linspace(0,l,num=num)\n",
      "v = np.zeros(num)\n",
      "\n",
      "def testA(t,l,u):\n",
      "    T = float(l)/u\n",
      "    numpnts = len(v)\n",
      "    if t <= T:\n",
      "        index = (float(t)/T)*numpnts\n",
      "        v[:index] = 1.0\n",
      "        v[index:] = 0.0\n",
      "    return v\n"
     ],
     "language": "python",
     "metadata": {},
     "outputs": [
      {
       "output_type": "stream",
       "stream": "stdout",
       "text": [
        "1e-07\n"
       ]
      }
     ],
     "prompt_number": 9
    },
    {
     "cell_type": "code",
     "collapsed": false,
     "input": [
      "testA(0.8e-7,l,u)\n",
      "plt.plot(z,v)\n",
      "plt.ylim(0,2)"
     ],
     "language": "python",
     "metadata": {},
     "outputs": [
      {
       "metadata": {},
       "output_type": "pyout",
       "prompt_number": 3,
       "text": [
        "(0, 2)"
       ]
      },
      {
       "metadata": {},
       "output_type": "display_data",
       "png": "[encoded data removed]",
       "text": [
        "<matplotlib.figure.Figure at 0x107bac2d0>"
       ]
      }
     ],
     "prompt_number": 3
    },
    {
     "cell_type": "code",
     "collapsed": false,
     "input": [
      "def plot_testA(t,l,u):\n",
      "    tt = t*1.0e-7\n",
      "    testA(tt,l,u)\n",
      "    plt.plot(z,v)\n",
      "    plt.ylim(0,2)\n",
      "\n",
      "interact(plot_testA, t=(0.0,1.0), l=fixed(l), u=fixed(u))"
     ],
     "language": "python",
     "metadata": {},
     "outputs": [
      {
       "metadata": {},
       "output_type": "display_data",
       "png": "[encoded data removed]",
       "text": [
        "<matplotlib.figure.Figure at 0x108a10f90>"
       ]
      }
     ],
     "prompt_number": 11
    },
    {
     "cell_type": "code",
     "collapsed": false,
     "input": [
      "l = 30.0\n",
      "u = 3.0e8\n",
      "T = float(l)/u\n",
      "print T\n",
      "num = 501\n",
      "\n",
      "z = np.linspace(0,l,num=num)\n",
      "v = np.zeros(num)\n",
      "\n",
      "def testB(t_normalized):\n",
      "    numpnts = len(v)\n",
      "    index = t_normalized*numpnts\n",
      "    v[:index] = 1.0\n",
      "    v[index:] = 0.0\n",
      "    return v\n",
      "\n",
      "def plot_testB(t_normalized):\n",
      "    testB(t_normalized)\n",
      "    plt.plot(z,v)\n",
      "    plt.ylim(0,2)\n",
      "\n",
      "interact(plot_testB, t_normalized=(0.0,1.0))"
     ],
     "language": "python",
     "metadata": {},
     "outputs": [
      {
       "metadata": {},
       "output_type": "display_data",
       "png": "[encoded data removed]",
       "text": [
        "<matplotlib.figure.Figure at 0x108d308d0>"
       ]
      }
     ],
     "prompt_number": 17
    },
    {
     "cell_type": "code",
     "collapsed": false,
     "input": [
      "l = 30.0\n",
      "#u = 3.0e8\n",
      "T = float(l)/u\n",
      "v_g = 1.0\n",
      "Z_0 = 50.0\n",
      "Z_L = 150.0\n",
      "Z_g = 25.0\n",
      "loadreflcoeff = (Z_L - Z_0)/(Z_L + Z_0)\n",
      "genreflcoeff = (Z_g - Z_0)/(Z_g + Z_0)\n",
      "v1_plus = v_g * Z_0 / (Z_g + Z_0)\n",
      "num = 101\n",
      "\n",
      "z = np.linspace(0,l,num=num)\n",
      "v = np.zeros(num)\n",
      "\n",
      "def testC(t_normalized,reflcoeff_load,reflcoeff_gen):\n",
      "    global v\n",
      "    nbounces, fractalongtline = divmod(t_normalized,1)\n",
      "    index = round(fractalongtline*num)\n",
      "    indexbackward = round((1.0 - fractalongtline)*num)\n",
      "    print '   inside:', t_normalized, nbounces, fractalongtline, loadreflcoeff, genreflcoeff, num, index, indexbackward\n",
      "    if nbounces == 1.0:\n",
      "        v[:] = v1_plus\n",
      "        v[indexbackward:] += reflcoeff_load*v1_plus\n",
      "    else:\n",
      "        v[:index] = v1_plus\n",
      "        v[index:] = 0.0\n",
      "\n",
      "def plot_testC(t_normalized,reflcoeff_load,reflcoeff_gen):\n",
      "    testC(t_normalized,reflcoeff_load,reflcoeff_gen)\n",
      "    plt.plot(z,v)\n",
      "    plt.ylim(0,2)\n",
      "\n",
      "interact(plot_testC, t_normalized=(0.0,2.0), reflcoeff_load=fixed(loadreflcoeff), reflcoeff_gen=fixed(genreflcoeff))\n",
      "#output = testC(0.5,loadreflcoeff, genreflcoeff)\n",
      "\n",
      "print '   last print:', v_g, v1_plus, loadreflcoeff, genreflcoeff, num\n",
      "\n"
     ],
     "language": "python",
     "metadata": {},
     "outputs": [
      {
       "output_type": "stream",
       "stream": "stdout",
       "text": [
        "   inside: 0.0 0.0 0.0 0.5 -0.333333333333 101 0.0 101.0\n"
       ]
      },
      {
       "metadata": {},
       "output_type": "display_data",
       "png": "[encoded data removed]",
       "text": [
        "<matplotlib.figure.Figure at 0x108a18450>"
       ]
      }
     ],
     "prompt_number": 53
    },
    {
     "cell_type": "code",
     "collapsed": false,
     "input": [
      "l = 30.0\n",
      "#u = 3.0e8\n",
      "#T = float(l)/u\n",
      "v_g = 1.0\n",
      "Z_0 = 50.0\n",
      "Z_L = 150.0\n",
      "Z_g = 25.0\n",
      "loadreflcoeff = (Z_L - Z_0)/(Z_L + Z_0)\n",
      "genreflcoeff = (Z_g - Z_0)/(Z_g + Z_0)\n",
      "v1_plus = v_g * Z_0 / (Z_g + Z_0)\n",
      "num = 101\n",
      "\n",
      "z = np.linspace(0,l,num=num)\n",
      "v = np.zeros(num)\n",
      "\n",
      "def testD(t_normalized,reflcoeff_load,reflcoeff_gen):\n",
      "    global v\n",
      "    nbounces, fractalongtline = divmod(t_normalized,1)\n",
      "    if nbounces == 0.0:\n",
      "        basevalue = 0.0\n",
      "    else:\n",
      "        basevalue = nbounces*v1_plus\n",
      "    v[:] = basevalue\n",
      "    if nbounces % 2 == 0:\n",
      "        index = round(fractalongtline*num)\n",
      "        v[:index] += v1_plus\n",
      "    else:\n",
      "        index = round((1.0 - fractalongtline)*num)\n",
      "        v[index:] += reflcoeff_load*v1_plus\n",
      "    print '   inside:', t_normalized, nbounces, fractalongtline, num, index, basevalue\n",
      "\n",
      "def plot_testD(t_normalized,reflcoeff_load,reflcoeff_gen):\n",
      "    testD(t_normalized,reflcoeff_load,reflcoeff_gen)\n",
      "    plt.plot(z,v)\n",
      "    plt.ylim(0,2.5)\n",
      "\n",
      "interact(plot_testD, t_normalized=(0.0,4.0), reflcoeff_load=fixed(loadreflcoeff), reflcoeff_gen=fixed(genreflcoeff))\n",
      "#output = testC(0.5,loadreflcoeff, genreflcoeff)\n"
     ],
     "language": "python",
     "metadata": {},
     "outputs": [
      {
       "output_type": "stream",
       "stream": "stdout",
       "text": [
        "   inside: 1.8 1.0 0.8 101 20.0 0.666666666667\n"
       ]
      },
      {
       "metadata": {},
       "output_type": "display_data",
       "png": "[encoded data removed]",
       "text": [
        "<matplotlib.figure.Figure at 0x109552e90>"
       ]
      }
     ],
     "prompt_number": 7
    },
    {
     "cell_type": "code",
     "collapsed": false,
     "input": [
      "v_g = 1.0\n",
      "Z_0 = 50.0\n",
      "Z_L = 150.0\n",
      "Z_g = 25.0\n",
      "loadreflcoeff = (Z_L - Z_0)/(Z_L + Z_0)\n",
      "genreflcoeff = (Z_g - Z_0)/(Z_g + Z_0)\n",
      "v1_plus = v_g * Z_0 / (Z_g + Z_0)\n",
      "\n",
      "def normalized_voltage(nbounces,reflcoeff_load,reflcoeff_gen):\n",
      "    nbounces_int = int(nbounces)\n",
      "    value = 0.0\n",
      "    if nbounces_int != 0:\n",
      "        value += 1.0\n",
      "        for i in range(1,nbounces_int+1):\n",
      "            pow_gen = i//2\n",
      "            pow_load = i - pow_gen\n",
      "            value += (reflcoeff_gen**pow_gen) * (reflcoeff_load**pow_load)\n",
      "            print \"  \", i, pow_gen, pow_load, value, v1_plus * value\n",
      "    return value\n",
      "\n",
      "print 'reflection coefficients:', loadreflcoeff, genreflcoeff\n",
      "print 'steady state voltage:', v_g * Z_L / (Z_L + Z_g)\n",
      "\n",
      "print \"-------------------------\"\n",
      "print v1_plus * normalized_voltage(10,loadreflcoeff,genreflcoeff)"
     ],
     "language": "python",
     "metadata": {},
     "outputs": [
      {
       "output_type": "stream",
       "stream": "stdout",
       "text": [
        "reflection coefficients: 0.5 -0.333333333333\n",
        "steady state voltage: 0.857142857143\n",
        "-------------------------\n",
        "   1 0 1 1.5 1.0\n",
        "   2 1 1 1.33333333333 0.888888888889\n",
        "   3 1 2 1.25 0.833333333333\n",
        "   4 2 2 1.27777777778 0.851851851852\n",
        "   5 2 3 1.29166666667 0.861111111111\n",
        "   6 3 3 1.28703703704 0.858024691358\n",
        "   7 3 4 1.28472222222 0.856481481481\n",
        "   8 4 4 1.28549382716 0.856995884774\n",
        "   9 4 5 1.28587962963 0.85725308642\n",
        "   10 5 5 1.28575102881 0.857167352538\n",
        "0.857167352538\n"
       ]
      }
     ],
     "prompt_number": 72
    },
    {
     "cell_type": "code",
     "collapsed": false,
     "input": [
      "def normalized_next_increment(nbounces,reflcoeff_load,reflcoeff_gen):\n",
      "    nbounces_int = int(nbounces) + 1\n",
      "    pow_gen = nbounces_int//2\n",
      "    pow_load = nbounces_int - pow_gen\n",
      "    value = (reflcoeff_gen**pow_gen) * (reflcoeff_load**pow_load)\n",
      "    print \"  \", i, pow_gen, pow_load, value\n",
      "    return value\n",
      "\n",
      "output = normalized_next_increment(0.0,loadreflcoeff,genreflcoeff)\n",
      "print output, 1.25+output"
     ],
     "language": "python",
     "metadata": {},
     "outputs": [
      {
       "output_type": "stream",
       "stream": "stdout",
       "text": [
        "   7 0 1 0.5\n",
        "0.5 1.75\n"
       ]
      }
     ],
     "prompt_number": 63
    },
    {
     "cell_type": "code",
     "collapsed": false,
     "input": [],
     "language": "python",
     "metadata": {},
     "outputs": [],
     "prompt_number": 54
    },
    {
     "cell_type": "code",
     "collapsed": false,
     "input": [
      "l = 30.0\n",
      "#u = 3.0e8\n",
      "#T = float(l)/u\n",
      "v_g = 1.0\n",
      "Z_0 = 50.0\n",
      "Z_L = 150.0\n",
      "Z_g = 25.0\n",
      "loadreflcoeff = (Z_L - Z_0)/(Z_L + Z_0)\n",
      "genreflcoeff = (Z_g - Z_0)/(Z_g + Z_0)\n",
      "v1_plus = v_g * Z_0 / (Z_g + Z_0)\n",
      "num = 101\n",
      "\n",
      "z = np.linspace(0,l,num=num)\n",
      "v = np.zeros(num)\n",
      "\n",
      "def normalized_voltage(nbounces,reflcoeff_load,reflcoeff_gen):\n",
      "    nbounces_int = int(nbounces)\n",
      "    value = 0.0\n",
      "    if nbounces_int != 0:\n",
      "        value += 1.0\n",
      "        for i in range(1,nbounces_int+1):\n",
      "            pow_gen = i//2\n",
      "            pow_load = i - pow_gen\n",
      "            value += (reflcoeff_gen**pow_gen) * (reflcoeff_load**pow_load)\n",
      "            #print \"  \", i, pow_gen, pow_load, value\n",
      "    return value\n",
      "\n",
      "def normalized_next_increment(nbounces,reflcoeff_load,reflcoeff_gen):\n",
      "    nbounces_int = int(nbounces) + 1\n",
      "    pow_gen = nbounces_int//2\n",
      "    pow_load = nbounces_int - pow_gen\n",
      "    value = (reflcoeff_gen**pow_gen) * (reflcoeff_load**pow_load)\n",
      "    print \"  \", i, pow_gen, pow_load, value\n",
      "    return value\n",
      "\n",
      "def testE(t_normalized,reflcoeff_load,reflcoeff_gen):\n",
      "    global v\n",
      "    nbounces, fractalongtline = divmod(t_normalized,1)\n",
      "    basevalue = normalized_voltage(nbounces,reflcoeff_load,reflcoeff_gen)\n",
      "    v[:] = v1_plus * basevalue\n",
      "    next_increment = v1_plus * normalized_next_increment(nbounces+1,reflcoeff_load,reflcoeff_gen)\n",
      "    if nbounces == 0.0:\n",
      "        index = round(fractalongtline*num)\n",
      "        next_increment = v1_plus\n",
      "        v[:index] += next_increment\n",
      "    elif nbounces % 2 == 0:\n",
      "        index = round(fractalongtline*num)\n",
      "        v[:index] += next_increment\n",
      "    else:\n",
      "        index = round((1.0 - fractalongtline)*num)\n",
      "        v[index:] += next_increment\n",
      "    print '     t_norm:', t_normalized, nbounces, fractalongtline\n",
      "    print '    indices:',num, index\n",
      "    print ' reflcoeffs:', reflcoeff_load, reflcoeff_gen\n",
      "    print '   voltages:', v1_plus, basevalue, next_increment\n",
      "\n",
      "def plot_testE(t_normalized,reflcoeff_load,reflcoeff_gen):\n",
      "    testE(t_normalized,reflcoeff_load,reflcoeff_gen)\n",
      "    plt.plot(z,v)\n",
      "    plt.ylim(0,2)\n",
      "\n",
      "interact(plot_testE, t_normalized=(0.0,6.0), reflcoeff_load=fixed(loadreflcoeff), reflcoeff_gen=fixed(genreflcoeff))\n",
      "#output = testC(0.5,loadreflcoeff, genreflcoeff)\n"
     ],
     "language": "python",
     "metadata": {},
     "outputs": [
      {
       "output_type": "stream",
       "stream": "stdout",
       "text": [
        "   7 1 1 -0.166666666667\n",
        "     t_norm: 0.0 0.0 0.0\n",
        "    indices: 101 0.0\n",
        " reflcoeffs: 0.5 -0.333333333333\n",
        "   voltages: 0.666666666667 0.0 0.666666666667\n"
       ]
      },
      {
       "metadata": {},
       "output_type": "display_data",
       "png": "[encoded data removed]",
       "text": [
        "<matplotlib.figure.Figure at 0x108d0afd0>"
       ]
      }
     ],
     "prompt_number": 73
    },
    {
     "cell_type": "code",
     "collapsed": false,
     "input": [],
     "language": "python",
     "metadata": {},
     "outputs": [],
     "prompt_number": 67
    },
    {
     "cell_type": "code",
     "collapsed": false,
     "input": [],
     "language": "python",
     "metadata": {},
     "outputs": []
    }
   ],
   "metadata": {}
  }
 ]
}