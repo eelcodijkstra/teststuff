{
 "metadata": {
  "name": "",
  "signature": "sha256:bf734a92211875870573eac8ba2afbf16e0749ce91a8e697436a4fa6dea97407"
 },
 "nbformat": 3,
 "nbformat_minor": 0,
 "worksheets": [
  {
   "cells": [
    {
     "cell_type": "code",
     "collapsed": false,
     "input": [
      "import numpy as np\n",
      "from matplotlib import pyplot as plt\n",
      "%matplotlib inline"
     ],
     "language": "python",
     "metadata": {},
     "outputs": [],
     "prompt_number": 36
    },
    {
     "cell_type": "code",
     "collapsed": false,
     "input": [
      "aa = complex(1.,1.)\n",
      "bb = complex(2,3)\n",
      "print aa, bb, aa * bb, aa**bb, np.sqrt(aa)"
     ],
     "language": "python",
     "metadata": {},
     "outputs": [
      {
       "output_type": "stream",
       "stream": "stdout",
       "text": [
        " (1+1j) (2+3j) (-1+5j) (-0.163450932107+0.0960049836089j) (1.09868411347+0.455089860562j)\n"
       ]
      }
     ],
     "prompt_number": 9
    },
    {
     "cell_type": "code",
     "collapsed": false,
     "input": [
      "print bb.real,bb.imag, abs(bb)"
     ],
     "language": "python",
     "metadata": {},
     "outputs": [
      {
       "output_type": "stream",
       "stream": "stdout",
       "text": [
        "2.0 3.0 3.60555127546\n"
       ]
      }
     ],
     "prompt_number": 11
    },
    {
     "cell_type": "code",
     "collapsed": false,
     "input": [
      "print aa, abs(aa), np.angle(aa), np.angle(aa,deg=True)"
     ],
     "language": "python",
     "metadata": {},
     "outputs": [
      {
       "output_type": "stream",
       "stream": "stdout",
       "text": [
        "(1+1j) 1.41421356237 0.785398163397 45.0\n"
       ]
      }
     ],
     "prompt_number": 16
    },
    {
     "cell_type": "code",
     "collapsed": false,
     "input": [
      "def complextostring(complexnum):\n",
      "    print abs(complexnum), np.angle(complexnum)\n",
      "    t1 = \"%.2f\" % abs(complexnum)\n",
      "    print t1\n",
      "    t2 = \"%.2f\" % np.angle(complexnum)\n",
      "    print t2\n",
      "    t3 = \"%.2f %.2f\" % (abs(complexnum), abs(complexnum))\n",
      "    print t3\n",
      "    tempstr = \"$%.2f exp(j%.2f)$\" % (abs(complexnum), np.angle(complexnum))\n",
      "    return tempstr\n",
      "\n",
      "strcmplxnum = complextostring(complex(-1,0))\n",
      "print strcmplxnum\n",
      "plt.plot([0,1,2,3])\n",
      "plt.text(0.5,2,strcmplxnum)\n",
      "plt.show()"
     ],
     "language": "python",
     "metadata": {},
     "outputs": [
      {
       "output_type": "stream",
       "stream": "stdout",
       "text": [
        "1.0 3.14159265359\n",
        "1.00\n",
        "3.14\n",
        "1.00 1.00\n",
        "$1.00 exp(j3.14)$\n"
       ]
      },
      {
       "metadata": {},
       "output_type": "display_data",
       "png": "[encoded data removed]",
       "text": [
        "<matplotlib.figure.Figure at 0x10c916710>"
       ]
      }
     ],
     "prompt_number": 41
    },
    {
     "cell_type": "code",
     "collapsed": false,
     "input": [
      "print np.angle(complex(1,-0.001),deg=True)"
     ],
     "language": "python",
     "metadata": {},
     "outputs": [
      {
       "output_type": "stream",
       "stream": "stdout",
       "text": [
        "-0.0572957604145\n"
       ]
      }
     ],
     "prompt_number": 50
    },
    {
     "cell_type": "code",
     "collapsed": false,
     "input": [
      "# What is the mapping of [0,2*pi] -> np.angle?\n",
      "angle = np.linspace(0,2*np.pi,500)\n",
      "complxnums = np.cos(angle) + 1j*np.sin(angle)\n",
      "yy = np.angle(complxnums)\n",
      "plt.plot(angle,yy)        "
     ],
     "language": "python",
     "metadata": {},
     "outputs": [
      {
       "metadata": {},
       "output_type": "pyout",
       "prompt_number": 57,
       "text": [
        "[<matplotlib.lines.Line2D at 0x10853c490>]"
       ]
      },
      {
       "metadata": {},
       "output_type": "display_data",
       "png": "[encoded data removed]",
       "text": [
        "<matplotlib.figure.Figure at 0x10840eed0>"
       ]
      }
     ],
     "prompt_number": 57
    },
    {
     "cell_type": "code",
     "collapsed": false,
     "input": [
      "print np.angle(complex(-1,-0.00001),deg=True)"
     ],
     "language": "python",
     "metadata": {},
     "outputs": [
      {
       "output_type": "stream",
       "stream": "stdout",
       "text": [
        "-179.999427042\n"
       ]
      }
     ],
     "prompt_number": 69
    },
    {
     "cell_type": "code",
     "collapsed": false,
     "input": [
      "def complextostring(complexnum): #return string containing text version of complex number\n",
      "    tolerance = 1.0e-3\n",
      "    angle = np.angle(complexnum)\n",
      "    if angle < tolerance and angle > -tolerance: # angle is essentially 0.0\n",
      "        tempstr = \"%.2f\" % abs(complexnum)\n",
      "    elif angle > np.pi - tolerance or angle < -np.pi + tolerance: # angle close to +pi or -pi?\n",
      "        tempstr = \"-%.2f\" % abs(complexnum)\n",
      "    elif angle < np.pi/2 + tolerance and angle > np.pi/2 - tolerance: # angle close to np.pi/2?\n",
      "        tempstr = \"j%.2f\" % abs(complexnum)\n",
      "    elif angle < -np.pi/2 + tolerance and angle > -np.pi/2 - tolerance: # angle close to -np.pi/2?\n",
      "        tempstr = \"-j%.2f\" % abs(complexnum)\n",
      "    else:\n",
      "        tempstr = \"%.2f exp(j%.2f)\" % (abs(complexnum), np.angle(complexnum))\n",
      "    print angle, abs(complexnum), tempstr\n",
      "    return tempstr\n",
      "\n",
      "strcmplxnum = complextostring(complex(0,1))\n",
      "print strcmplxnum\n",
      "plt.plot([0,1,2,3])\n",
      "plt.text(0.5,2,strcmplxnum)\n",
      "plt.show()"
     ],
     "language": "python",
     "metadata": {},
     "outputs": [
      {
       "output_type": "stream",
       "stream": "stdout",
       "text": [
        "1.57079632679 1.0 j1.00\n",
        "j1.00\n"
       ]
      },
      {
       "metadata": {},
       "output_type": "display_data",
       "png": "[encoded data removed]",
       "text": [
        "<matplotlib.figure.Figure at 0x10f6a4d10>"
       ]
      }
     ],
     "prompt_number": 94
    },
    {
     "cell_type": "code",
     "collapsed": false,
     "input": [],
     "language": "python",
     "metadata": {},
     "outputs": []
    }
   ],
   "metadata": {}
  }
 ]
}