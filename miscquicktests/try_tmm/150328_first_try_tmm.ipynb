{
 "cells": [
  {
   "cell_type": "code",
   "execution_count": 10,
   "metadata": {
    "collapsed": false
   },
   "outputs": [
    {
     "data": {
      "application/javascript": [
       "IPython.load_extensions('calico-document-tools');"
      ],
      "text/plain": [
       "<IPython.core.display.Javascript object>"
      ]
     },
     "metadata": {},
     "output_type": "display_data"
    }
   ],
   "source": [
    "%%javascript\n",
    "IPython.load_extensions('calico-document-tools');"
   ]
  },
  {
   "cell_type": "markdown",
   "metadata": {},
   "source": [
    "# Examine info about tmm"
   ]
  },
  {
   "cell_type": "code",
   "execution_count": 1,
   "metadata": {
    "collapsed": true
   },
   "outputs": [],
   "source": [
    "import tmm as tm"
   ]
  },
  {
   "cell_type": "code",
   "execution_count": 2,
   "metadata": {
    "collapsed": false
   },
   "outputs": [
    {
     "data": {
      "text/plain": [
       "['EPSILON',\n",
       " 'R_from_r',\n",
       " 'T_from_t',\n",
       " '__builtins__',\n",
       " '__doc__',\n",
       " '__file__',\n",
       " '__name__',\n",
       " '__package__',\n",
       " '__path__',\n",
       " 'absolute_import',\n",
       " 'absorp_analytic_fn',\n",
       " 'absorp_in_each_layer',\n",
       " 'array',\n",
       " 'coh_tmm',\n",
       " 'coh_tmm_reverse',\n",
       " 'conj',\n",
       " 'cos',\n",
       " 'division',\n",
       " 'ellips',\n",
       " 'exp',\n",
       " 'find_in_structure',\n",
       " 'find_in_structure_with_inf',\n",
       " 'inc_absorp_in_each_layer',\n",
       " 'inc_find_absorp_analytic_fn',\n",
       " 'inc_group_layers',\n",
       " 'inc_tmm',\n",
       " 'inf',\n",
       " 'interface_R',\n",
       " 'interface_T',\n",
       " 'interface_r',\n",
       " 'interface_t',\n",
       " 'isnan',\n",
       " 'layer_starts',\n",
       " 'list_snell',\n",
       " 'make_2x2_array',\n",
       " 'nan',\n",
       " 'np',\n",
       " 'position_resolved',\n",
       " 'power_entering_from_r',\n",
       " 'print_function',\n",
       " 'snell',\n",
       " 'sp',\n",
       " 'sys',\n",
       " 'tmm_core',\n",
       " 'unpolarized_RT',\n",
       " 'zeros']"
      ]
     },
     "execution_count": 2,
     "metadata": {},
     "output_type": "execute_result"
    }
   ],
   "source": [
    "dir(tm)"
   ]
  },
  {
   "cell_type": "code",
   "execution_count": 2,
   "metadata": {
    "collapsed": true
   },
   "outputs": [],
   "source": [
    "import tmm.examples"
   ]
  },
  {
   "cell_type": "code",
   "execution_count": 4,
   "metadata": {
    "collapsed": false
   },
   "outputs": [
    {
     "data": {
      "text/plain": [
       "['__builtins__',\n",
       " '__doc__',\n",
       " '__file__',\n",
       " '__name__',\n",
       " '__package__',\n",
       " 'absolute_import',\n",
       " 'array',\n",
       " 'coh_tmm',\n",
       " 'colors_were_imported',\n",
       " 'degree',\n",
       " 'division',\n",
       " 'ellips',\n",
       " 'find_in_structure_with_inf',\n",
       " 'inf',\n",
       " 'interp1d',\n",
       " 'linspace',\n",
       " 'pi',\n",
       " 'plt',\n",
       " 'position_resolved',\n",
       " 'print_function',\n",
       " 'sample1',\n",
       " 'sample2',\n",
       " 'sample3',\n",
       " 'sample4',\n",
       " 'sample5',\n",
       " 'unpolarized_RT']"
      ]
     },
     "execution_count": 4,
     "metadata": {},
     "output_type": "execute_result"
    }
   ],
   "source": [
    "dir(tmm.examples)"
   ]
  },
  {
   "cell_type": "code",
   "execution_count": 5,
   "metadata": {
    "collapsed": true
   },
   "outputs": [],
   "source": [
    "tmm.examples.sample1()"
   ]
  },
  {
   "cell_type": "code",
   "execution_count": 3,
   "metadata": {
    "collapsed": false
   },
   "outputs": [],
   "source": [
    "from __future__ import division, print_function, absolute_import\n",
    "\n",
    "from tmm import (coh_tmm, unpolarized_RT, ellips,\n",
    "                       position_resolved, find_in_structure_with_inf)\n",
    "\n",
    "from numpy import pi, linspace, inf, array\n",
    "from scipy.interpolate import interp1d\n",
    "import matplotlib.pyplot as plt\n",
    "%matplotlib inline"
   ]
  },
  {
   "cell_type": "code",
   "execution_count": 3,
   "metadata": {
    "collapsed": true
   },
   "outputs": [],
   "source": [
    "# \"5 * degree\" is 5 degrees expressed in radians\n",
    "# \"1.2 / degree\" is 1.2 radians expressed in degrees\n",
    "degree = pi/180"
   ]
  },
  {
   "cell_type": "markdown",
   "metadata": {},
   "source": [
    "# Example - R vs wavenumber"
   ]
  },
  {
   "cell_type": "code",
   "execution_count": 5,
   "metadata": {
    "collapsed": false
   },
   "outputs": [
    {
     "data": {
      "image/png": "[encoded data removed]",
      "text/plain": [
       "<matplotlib.figure.Figure at 0x102fc9690>"
      ]
     },
     "metadata": {},
     "output_type": "display_data"
    }
   ],
   "source": [
    "\"\"\"\n",
    "Here's a thin non-absorbing layer, on top of a thick absorbing layer, with\n",
    "air on both sides. Plotting reflected intensity versus wavenumber, at two\n",
    "different incident angles.\n",
    "\"\"\"\n",
    "# list of layer thicknesses in nm\n",
    "d_list = [inf,100,300,inf]\n",
    "# list of refractive indices\n",
    "n_list = [1,2.2,3.3+0.3j,1]\n",
    "# list of wavenumbers to plot in nm^-1\n",
    "ks=linspace(0.0001,.01,num=400)\n",
    "# initialize lists of y-values to plot\n",
    "Rnorm=[] \n",
    "R45=[]\n",
    "for k in ks:\n",
    "    # For normal incidence, s and p polarizations are identical.\n",
    "    # I arbitrarily decided to use 's'.\n",
    "    Rnorm.append(coh_tmm('s',n_list, d_list, 0, 1/k)['R'])\n",
    "    R45.append(unpolarized_RT(n_list, d_list, 45*degree, 1/k)['R'])\n",
    "kcm = ks * 1e7 #ks in cm^-1 rather than nm^-1\n",
    "plt.figure()\n",
    "plt.plot(kcm,Rnorm,'blue',kcm,R45,'purple')\n",
    "plt.xlabel('k (cm$^{-1}$)')\n",
    "plt.ylabel('Fraction reflected')\n",
    "plt.title('Reflection of unpolarized light at 0$^\\circ$ incidence (blue), '\n",
    "            '45$^\\circ$ (purple)');"
   ]
  },
  {
   "cell_type": "markdown",
   "metadata": {},
   "source": [
    "# Same but vs wavelength"
   ]
  },
  {
   "cell_type": "code",
   "execution_count": 9,
   "metadata": {
    "collapsed": false
   },
   "outputs": [
    {
     "data": {
      "image/png": "[encoded data removed]",
      "text/plain": [
       "<matplotlib.figure.Figure at 0x1110494d0>"
      ]
     },
     "metadata": {},
     "output_type": "display_data"
    }
   ],
   "source": [
    "\"\"\"\n",
    "Here's a thin non-absorbing layer, on top of a thick absorbing layer, with\n",
    "air on both sides. Plotting reflected intensity versus wavenumber, at two\n",
    "different incident angles.\n",
    "\"\"\"\n",
    "# list of layer thicknesses in nm\n",
    "d_list = [inf,100,inf]\n",
    "# list of refractive indices\n",
    "n_list = [1,1.37,1.5]\n",
    "# list of wavenumbers to plot in nm^-1\n",
    "wl = linspace(250,1000,num=400)\n",
    "# initialize lists of y-values to plot\n",
    "Rnorm=[] \n",
    "R45=[]\n",
    "for w in wl:\n",
    "    # For normal incidence, s and p polarizations are identical.\n",
    "    # I arbitrarily decided to use 's'.\n",
    "    Rnorm.append(coh_tmm('s',n_list, d_list, 0, w)['R'])\n",
    "    R45.append(unpolarized_RT(n_list, d_list, 45*degree, w)['R'])\n",
    "#kcm = ks * 1e7 #ks in cm^-1 rather than nm^-1\n",
    "plt.figure()\n",
    "plt.plot(wl,Rnorm,'blue',wl,R45,'purple')\n",
    "plt.xlabel('Wavelength (nm)')\n",
    "plt.ylabel('Fraction reflected')\n",
    "plt.title('Reflection of unpolarized light at 0$^\\circ$ incidence (blue), '\n",
    "            '45$^\\circ$ (purple)');"
   ]
  },
  {
   "cell_type": "markdown",
   "metadata": {},
   "source": [
    "# help(coh_tmm)"
   ]
  },
  {
   "cell_type": "code",
   "execution_count": 12,
   "metadata": {
    "collapsed": false
   },
   "outputs": [
    {
     "name": "stdout",
     "output_type": "stream",
     "text": [
      "Help on function coh_tmm in module tmm.tmm_core:\n",
      "\n",
      "coh_tmm(pol, n_list, d_list, th_0, lam_vac)\n",
      "    Main \"coherent transfer matrix method\" calc. Given parameters of a stack,\n",
      "    calculates everything you could ever want to know about how light\n",
      "    propagates in it. (If performance is an issue, you can delete some of the\n",
      "    calculations without affecting the rest.)\n",
      "    \n",
      "    pol is light polarization, \"s\" or \"p\".\n",
      "    \n",
      "    n_list is the list of refractive indices, in the order that the light would\n",
      "    pass through them. The 0'th element of the list should be the semi-infinite\n",
      "    medium from which the light enters, the last element should be the semi-\n",
      "    infinite medium to which the light exits (if any exits).\n",
      "    \n",
      "    th_0 is the angle of incidence: 0 for normal, pi/2 for glancing.\n",
      "    Remember, for a dissipative incoming medium (n_list[0] is not real), th_0\n",
      "    should be complex so that n0 sin(th0) is real (intensity is constant as\n",
      "    a function of lateral position).\n",
      "    \n",
      "    d_list is the list of layer thicknesses (front to back). Should correspond\n",
      "    one-to-one with elements of n_list. First and last elements should be \"inf\".\n",
      "    \n",
      "    lam_vac is vacuum wavelength of the light.\n",
      "    \n",
      "    Outputs the following as a dictionary (see manual for details)\n",
      "    \n",
      "    * r--reflection amplitude\n",
      "    * t--transmission amplitude\n",
      "    * R--reflected wave power (as fraction of incident)\n",
      "    * T--transmitted wave power (as fraction of incident)\n",
      "    * power_entering--Power entering the first layer, usually (but not always)\n",
      "      equal to 1-R (see manual).\n",
      "    * vw_list-- n'th element is [v_n,w_n], the forward- and backward-traveling\n",
      "      amplitudes, respectively, in the n'th medium just after interface with\n",
      "      (n-1)st medium.\n",
      "    * kz_list--normal component of complex angular wavenumber for\n",
      "      forward-traveling wave in each layer.\n",
      "    * th_list--(complex) propagation angle (in radians) in each layer\n",
      "    * pol, n_list, d_list, th_0, lam_vac--same as input\n",
      "\n"
     ]
    }
   ],
   "source": [
    "help(coh_tmm)"
   ]
  },
  {
   "cell_type": "code",
   "execution_count": 4,
   "metadata": {
    "collapsed": false
   },
   "outputs": [
    {
     "name": "stdout",
     "output_type": "stream",
     "text": [
      "Help on function unpolarized_RT in module tmm.tmm_core:\n",
      "\n",
      "unpolarized_RT(n_list, d_list, th_0, lam_vac)\n",
      "    Calculates reflected and transmitted power for unpolarized light.\n",
      "\n"
     ]
    }
   ],
   "source": [
    "help(unpolarized_RT)"
   ]
  },
  {
   "cell_type": "markdown",
   "metadata": {},
   "source": [
    "# Plot"
   ]
  },
  {
   "cell_type": "code",
   "execution_count": 29,
   "metadata": {
    "collapsed": false
   },
   "outputs": [
    {
     "data": {
      "image/png": "[encoded data removed]",
      "text/plain": [
       "<matplotlib.figure.Figure at 0x10903d110>"
      ]
     },
     "metadata": {},
     "output_type": "display_data"
    }
   ],
   "source": [
    "d_list = [inf, 100, 300, inf] #in nm\n",
    "n_list = [1, 2.2+0.2j, 3.3+0.05j, 1]\n",
    "th_0=0.0\n",
    "lam_vac=400\n",
    "pol='s'\n",
    "coh_tmm_data = coh_tmm(pol,n_list,d_list,th_0,lam_vac)\n",
    "\n",
    "ds = linspace(0,500,num=1000) #position in structure\n",
    "poyn=[]\n",
    "absor=[]\n",
    "for d in ds:\n",
    "    layer, d_in_layer = find_in_structure_with_inf(d_list,d)\n",
    "    data=position_resolved(layer,d_in_layer,coh_tmm_data)\n",
    "    poyn.append(data['poyn'])\n",
    "    absor.append(data['absor'])\n",
    "# convert data to numpy arrays for easy scaling in the plot\n",
    "poyn = array(poyn)\n",
    "absor = array(absor)\n",
    "\n",
    "fig, ax = plt.subplots()\n",
    "ax.plot(ds,poyn,'blue') #,ds,200*absor,'purple')\n",
    "temp_d = 0\n",
    "ax.axvline(0, color='red', linestyle='--')\n",
    "for i, d in enumerate(d_list):\n",
    "    if d != inf:\n",
    "        if i == 1:\n",
    "            temp_d = d\n",
    "        else:\n",
    "            temp_d += d\n",
    "        ax.axvline(temp_d, color='red', linestyle='--')\n",
    "ax.text(-50,0.9,str(n_list[0]))\n",
    "ax.text(10,0.9,str(n_list[1]))\n",
    "ax.text(200,0.9,str(n_list[2]))\n",
    "ax.text(450,0.9,str(n_list[3]))\n",
    "ax.set_xlim(-100, max(ds))\n",
    "ax.set_ylim(0,1)\n",
    "ax.set_xlabel('depth (nm)')\n",
    "ax.set_ylabel('AU')\n",
    "ax.set_title('Poynting vector (blue)');"
   ]
  },
  {
   "cell_type": "code",
   "execution_count": 40,
   "metadata": {
    "collapsed": false
   },
   "outputs": [
    {
     "name": "stdout",
     "output_type": "stream",
     "text": [
      "1.0\n",
      "[ 1.  1.  1.  1.  1.  1.  1.  1.  1.  1.  1.  1.  1.  1.  1.  1.  1.  1.\n",
      "  1.  1.  1.  1.  1.  1.  1.  1.  1.  1.  1.  1.  1.  1.  1.  1.  1.  1.\n",
      "  1.  1.  1.  1.  1.  1.  1.  1.  1.  1.  1.  1.  1.  1.  1.  1.  1.  1.\n",
      "  1.  1.  1.  1.  1.  1.  1.  1.  1.  1.  1.  1.  1.  1.  1.  1.  1.  1.\n",
      "  1.  1.  1.  1.  1.  1.  1.  1.  1.  1.  1.  1.  1.  1.  1.  1.  1.  1.\n",
      "  1.  1.  1.  1.  1.  1.  1.  1.  1.  1.  1.  1.  1.  1.  1.  1.  1.  1.\n",
      "  1.  1.  1.  1.  1.  1.  1.  1.  1.  1.  1.  1.  1.  1.  1.  1.  1.  1.\n",
      "  1.  1.  1.  1.  1.  1.  1.  1.  1.  1.  1.  1.  1.  1.  1.  1.  1.  1.\n",
      "  1.  1.  1.  1.  1.  1.  1.  1.  1.  1.  1.  1.  1.  1.  1.  1.  1.  1.\n",
      "  1.  1.  1.  1.  1.  1.  1.  1.  1.  1.  1.  1.  1.  1.  1.  1.  1.  1.\n",
      "  1.  1.  1.  1.  1.  1.  1.  1.  1.  1.  1.  1.  1.  1.  1.  1.  1.  1.\n",
      "  1.  1.  1.  1.  1.  1.  1.  1.  1.  1.  1.  1.  1.  1.  1.  1.  1.  1.\n",
      "  1.  1.  1.  1.  1.  1.  1.  1.  1.  1.  1.  1.  1.  1.  1.  1.  1.  1.\n",
      "  1.  1.  1.  1.  1.  1.  1.  1.  1.  1.  1.  1.  1.  1.  1.  1.  1.  1.\n",
      "  1.  1.  1.  1.  1.  1.  1.  1.  1.  1.  1.  1.  1.  1.  1.  1.  1.  1.\n",
      "  1.  1.  1.  1.  1.  1.  1.  1.  1.  1.  1.  1.  1.  1.  1.  1.  1.  1.\n",
      "  1.  1.  1.  1.  1.  1.  1.  1.  1.  1.  1.  1.  1.  1.  1.  1.  1.  1.\n",
      "  1.  1.  1.  1.  1.  1.  1.  1.  1.  1.  1.  1.  1.  1.  1.  1.  1.  1.\n",
      "  1.  1.  1.  1.  1.  1.  1.  1.  1.  1.  1.  1.  1.  1.  1.  1.  1.  1.\n",
      "  1.  1.  1.  1.  1.  1.  1.  1.  1.  1.  1.  1.  1.  1.  1.  1.  1.  1.\n",
      "  1.  1.  1.  1.  1.  1.  1.  1.  1.  1.  1.  1.  1.  1.  1.  1.  1.  1.\n",
      "  1.  1.  1.  1.  1.  1.  1.  1.  1.  1.  1.  1.  1.  1.  1.  1.  1.  1.\n",
      "  1.  1.  1.  1.  1.  1.  1.  1.  1.  1.  1.  1.  1.  1.  1.  1.  1.  1.\n",
      "  1.  1.  1.  1.  1.  1.  1.  1.  1.  1.  1.  1.  1.  1.  1.  1.  1.  1.\n",
      "  1.  1.  1.  1.  1.  1.  1.  1.  1.  1.  1.  1.  1.  1.  1.  1.  1.  1.\n",
      "  1.  1.  1.  1.  1.  1.  1.  1.  1.  1.  1.  1.  1.  1.  1.  1.  1.  1.\n",
      "  1.  1.  1.  1.  1.  1.  1.  1.  1.  1.  1.  1.  1.  1.  1.  1.  1.  1.\n",
      "  1.  1.  1.  1.  1.  1.  1.  1.  1.  1.  1.  1.  1.  1.  1.  1.  1.  1.\n",
      "  1.  1.  1.  1.  1.  1.  1.  1.  1.  1.  1.  1.  1.  1.  1.  1.  1.  1.\n",
      "  1.  1.  1.  1.  1.  1.  1.  1.  1.  1.  1.  1.  1.  1.  1.  1.  1.  1.\n",
      "  1.  1.  1.  1.  1.  1.  1.  1.  1.  1.  1.  1.  1.  1.  1.  1.  1.  1.\n",
      "  1.  1.  1.  1.  1.  1.  1.  1.  1.  1.  1.  1.  1.  1.  1.  1.  1.  1.\n",
      "  1.  1.  1.  1.  1.  1.  1.  1.  1.  1.  1.  1.  1.  1.  1.  1.  1.  1.\n",
      "  1.  1.  1.  1.  1.  1.  1.  1.  1.  1.  1.  1.  1.  1.  1.  1.  1.  1.\n",
      "  1.  1.  1.  1.  1.  1.  1.  1.  1.  1.  1.  1.  1.  1.  1.  1.  1.  1.\n",
      "  1.  1.  1.  1.  1.  1.  1.  1.  1.  1.  1.  1.  1.  1.  1.  1.  1.  1.\n",
      "  1.  1.  1.  1.  1.  1.  1.  1.  1.  1.  1.  1.  1.  1.  1.  1.  1.  1.\n",
      "  1.  1.  1.  1.  1.  1.  1.  1.  1.  1.  1.  1.  1.  1.  1.  1.  1.  1.\n",
      "  1.  1.  1.  1.  1.  1.  1.  1.  1.  1.  1.  1.  1.  1.  1.  1.  1.  1.\n",
      "  1.  1.  1.  1.  1.  1.  1.  1.  1.  1.  1.  1.  1.  1.  1.  1.  1.  1.\n",
      "  1.  1.  1.  1.  1.  1.  1.  1.  1.  1.  1.  1.  1.  1.  1.  1.  1.  1.\n",
      "  1.  1.  1.  1.  1.  1.  1.  1.  1.  1.  1.  1.  1.  1.  1.  1.  1.  1.\n",
      "  1.  1.  1.  1.  1.  1.  1.  1.  1.  1.  1.  1.  1.  1.  1.  1.  1.  1.\n",
      "  1.  1.  1.  1.  1.  1.  1.  1.  1.  1.  1.  1.  1.  1.  1.  1.  1.  1.\n",
      "  1.  1.  1.  1.  1.  1.  1.  1.  1.  1.  1.  1.  1.  1.  1.  1.  1.  1.\n",
      "  1.  1.  1.  1.  1.  1.  1.  1.  1.  1.  1.  1.  1.  1.  1.  1.  1.  1.\n",
      "  1.  1.  1.  1.  1.  1.  1.  1.  1.  1.  1.  1.  1.  1.  1.  1.  1.  1.\n",
      "  1.  1.  1.  1.  1.  1.  1.  1.  1.  1.  1.  1.  1.  1.  1.  1.  1.  1.\n",
      "  1.  1.  1.  1.  1.  1.  1.  1.  1.  1.  1.  1.  1.  1.  1.  1.  1.  1.\n",
      "  1.  1.  1.  1.  1.  1.  1.  1.  1.  1.  1.  1.  1.  1.  1.  1.  1.  1.\n",
      "  1.  1.  1.  1.  1.  1.  1.  1.  1.  1.  1.  1.  1.  1.  1.  1.  1.  1.\n",
      "  1.  1.  1.  1.  1.  1.  1.  1.  1.  1.  1.  1.  1.  1.  1.  1.  1.  1.\n",
      "  1.  1.  1.  1.  1.  1.  1.  1.  1.  1.  1.  1.  1.  1.  1.  1.  1.  1.\n",
      "  1.  1.  1.  1.  1.  1.  1.  1.  1.  1.  1.  1.  1.  1.  1.  1.  1.  1.\n",
      "  1.  1.  1.  1.  1.  1.  1.  1.  1.  1.  1.  1.  1.  1.  1.  1.  1.  1.\n",
      "  1.  1.  1.  1.  1.  1.  1.  1.  1.  1.]\n"
     ]
    },
    {
     "data": {
      "image/png": "[encoded data removed]",
      "text/plain": [
       "<matplotlib.figure.Figure at 0x10a4f1e50>"
      ]
     },
     "metadata": {},
     "output_type": "display_data"
    }
   ],
   "source": [
    "d_list = [inf, 100, inf] #in nm\n",
    "n_list = [1, 2.0, 1]\n",
    "th_0=0.0\n",
    "lam_vac=400\n",
    "pol='s'\n",
    "coh_tmm_data = coh_tmm(pol,n_list,d_list,th_0,lam_vac)\n",
    "\n",
    "ds = linspace(0,500,num=1000) #position in structure\n",
    "poyn=[]\n",
    "absor=[]\n",
    "for d in ds:\n",
    "    layer, d_in_layer = find_in_structure_with_inf(d_list,d)\n",
    "    data=position_resolved(layer,d_in_layer,coh_tmm_data)\n",
    "    poyn.append(data['poyn'])\n",
    "    absor.append(data['absor'])\n",
    "# convert data to numpy arrays for easy scaling in the plot\n",
    "poyn = array(poyn)\n",
    "absor = array(absor)\n",
    "print(max(poyn))\n",
    "print(poyn)\n",
    "\n",
    "fig, ax = plt.subplots()\n",
    "ax.plot(ds, poyn)\n",
    "\n",
    "'''\n",
    "fig, ax = plt.subplots()\n",
    "ax.plot(ds,poyn,'blue') #,ds,200*absor,'purple')\n",
    "temp_d = 0\n",
    "ax.axvline(0, color='red', linestyle='--')\n",
    "for i, d in enumerate(d_list):\n",
    "    if d != inf:\n",
    "        if i == 1:\n",
    "            temp_d = d\n",
    "        else:\n",
    "            temp_d += d\n",
    "        ax.axvline(temp_d, color='red', linestyle='--')\n",
    "ax.text(-50,0.9,str(n_list[0]))\n",
    "ax.text(10,0.9,str(n_list[1]))\n",
    "ax.text(200,0.9,str(n_list[2]))\n",
    "ax.text(450,0.9,str(n_list[3]))\n",
    "ax.set_xlim(-100, max(ds))\n",
    "#ax.set_ylim(0,1)\n",
    "ax.set_xlabel('depth (nm)')\n",
    "ax.set_ylabel('AU')\n",
    "ax.set_title('Poynting vector (blue)');''';"
   ]
  },
  {
   "cell_type": "code",
   "execution_count": null,
   "metadata": {
    "collapsed": true
   },
   "outputs": [],
   "source": []
  }
 ],
 "metadata": {
  "kernelspec": {
   "display_name": "Python 2",
   "language": "python",
   "name": "python2"
  },
  "language_info": {
   "codemirror_mode": {
    "name": "ipython",
    "version": 2
   },
   "file_extension": ".py",
   "mimetype": "text/x-python",
   "name": "python",
   "nbconvert_exporter": "python",
   "pygments_lexer": "ipython2",
   "version": "2.7.10"
  }
 },
 "nbformat": 4,
 "nbformat_minor": 0
}
