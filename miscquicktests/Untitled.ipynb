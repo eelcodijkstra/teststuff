{
 "cells": [
  {
   "cell_type": "code",
   "execution_count": 1,
   "metadata": {
    "collapsed": true
   },
   "outputs": [],
   "source": [
    "import numpy as np"
   ]
  },
  {
   "cell_type": "markdown",
   "metadata": {},
   "source": [
    "#Polarization Equations "
   ]
  },
  {
   "cell_type": "markdown",
   "metadata": {},
   "source": [
    "Assume a plane wave propagating in the +z direction. It's phasor is\n",
    "\n",
    "$$\\begin{aligned} \\\\\n",
    "\\vec{E} = \\vec{E}(z) &= (E_x e^{j\\delta_x} \\hat{x} + E_y e^{j\\delta_y} \\hat{y})e^{-jkz} \\\\\n",
    "&= E_x e^{j\\delta_x}(\\hat{x} + \\alpha \\hat{y})e^{-jkz} \\\\\n",
    "\\end{aligned}$$\n",
    "\n",
    "with\n",
    "\n",
    "$$\\begin{aligned} \\\\\n",
    "\\alpha &= \\frac{E_y}{E_x} e^{j(\\delta_y - \\delta_x)} \\\\\n",
    "&= \\tan(\\psi)e^{j\\delta} \\\\\n",
    "\\end{aligned}$$\n",
    "\n",
    "and \n",
    "\n",
    "$$\\begin{aligned} \\\\\n",
    "&\\delta = \\delta_y - \\delta_x \\\\\n",
    "&\\tan(\\psi) = \\frac{E_y}{E_x}. \\\\\n",
    "\\end{aligned}$$\n",
    "\n",
    "Note that $E_x$ and $E_y$ are real and $\\geq 0$. The range of $\\psi$ is $0 \\leq \\psi \\leq \\pi/2$. Also note that $\\delta$ is simply the phase difference between the y and x components of the electric field. $\\alpha$ is therefore a complex number with magnitude $E_y / E_x = \\tan(\\psi)$ and phase $\\delta$. The range of $\\delta$ is $-\\pi < \\delta \\leq \\pi$.\n",
    "\n",
    "If we are only interested in the polarization state, we can normalize the phasor. First we note that\n",
    "\n",
    "$$\\begin{aligned} \\\\\n",
    "|\\vec{E}| &= \\sqrt{\\vec{E} \\cdot \\vec{E}^*}  \\\\\n",
    "&= \\sqrt{E_x e^{j\\delta_x}(\\hat{x} + \\tan(\\psi)e^{j\\delta}\\hat{y})e^{-jkz} \\cdot E_x e^{-j\\delta_x}(\\hat{x} + \\tan(\\psi)e^{-j\\delta} \\hat{y})e^{jkz}} \\\\\n",
    "&= E_x \\sqrt{1 + \\tan^2(\\psi)} \\\\\n",
    "&= E_x \\sqrt{\\sec^2(\\psi)} \\\\\n",
    "&= E_x \\sec(\\psi) \\\\\n",
    "&= \\frac{E_x}{\\cos(\\psi)} \\\\\n",
    "\\end{aligned}$$\n",
    "\n",
    "With no loss of generality let's set $\\delta_x = 0$, which corresponds to shifting the origin of our coordinate system. The normalized phasor then becomes \n",
    "\n",
    "$$\\begin{aligned} \\\\\n",
    "\\vec{E}_n &= \\frac{\\vec{E}}{|\\vec{E}|} \\\\\n",
    "&= \\frac{\\cos(\\psi)\\vec{E}}{E_x} \\\\\n",
    "&= (\\hat{x}\\cos(\\psi) + \\hat{y}\\alpha\\cos(\\psi) )e^{-jkz} \\\\\n",
    "\\end{aligned}$$\n",
    "\n",
    "Note that \n",
    "\n",
    "$$\\begin{aligned} \\\\\n",
    "\\alpha\\cos(\\psi) &= \\tan(\\psi)e^{j\\delta}\\cos(\\psi) \\\\\n",
    "&= \\sin(\\psi)e^{j\\delta} \\\\\n",
    "\\end{aligned}$$\n",
    "\n",
    "The normalized complex amplitude vector is therefore\n",
    "\n",
    "$$\\vec{E}_n = (\\hat{x}\\cos(\\psi) + \\hat{y}\\sin(\\psi)e^{j\\delta} )e^{-jkz}$$\n",
    "\n",
    "\n",
    "We now calculate the (normalized) real electric field: \n",
    "\n",
    "$$\\begin{aligned} \\\\\n",
    "\\vec{\\mathscr{E}}(z,t) &= \\Re(\\vec{E}_n(z) e^{j\\omega t} ) \\\\\n",
    "&= \\hat{x}\\cos(\\psi)\\cos(\\omega t - k z) + \\hat{y}\\sin(\\psi)\\cos(\\omega t - k z + \\delta). \\\\\n",
    "\\end{aligned}$$\n",
    "\n",
    "To visualize the polarization ellipse, we choose the $z=0$ plane:\n",
    "\n",
    "$$\\begin{aligned} \\\\\n",
    "\\vec{\\mathscr{E}}(0,t) &= \\hat{x}\\cos(\\psi)\\cos(\\omega t) + \\hat{y}\\sin(\\psi)\\cos(\\omega t + \\delta) \\\\\n",
    "&= \\hat{x}\\cos(\\psi)\\cos(2\\pi \\frac{t}{T}) + \\hat{y}\\sin(\\psi)\\cos(2\\pi \\frac{t}{T} + \\delta) \\\\\n",
    "\\end{aligned}$$\n",
    "\n",
    "where we have used\n",
    "\n",
    "$$\\begin{aligned} \\\\\n",
    "\\omega t &= 2\\pi f t \\\\\n",
    "&= 2\\pi \\frac{t}{T} \\\\\n",
    "\\end{aligned}$$\n",
    "\n",
    "and $T = 1/f$.\n"
   ]
  },
  {
   "cell_type": "code",
   "execution_count": null,
   "metadata": {
    "collapsed": true
   },
   "outputs": [],
   "source": []
  }
 ],
 "metadata": {
  "kernelspec": {
   "display_name": "Python 2",
   "language": "python",
   "name": "python2"
  },
  "language_info": {
   "codemirror_mode": {
    "name": "ipython",
    "version": 2
   },
   "file_extension": ".py",
   "mimetype": "text/x-python",
   "name": "python",
   "nbconvert_exporter": "python",
   "pygments_lexer": "ipython2",
   "version": "2.7.9"
  }
 },
 "nbformat": 4,
 "nbformat_minor": 0
}
