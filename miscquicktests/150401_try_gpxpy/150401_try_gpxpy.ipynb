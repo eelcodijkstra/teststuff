{
 "cells": [
  {
   "cell_type": "code",
   "execution_count": 1,
   "metadata": {
    "collapsed": false
   },
   "outputs": [
    {
     "name": "stdout",
     "output_type": "stream",
     "text": [
      "File: 150328_Long_run.gpx\n",
      "    Length 2D: 23.433km\n",
      "    Length 3D: 23.608km\n",
      "    Moving time: 04:07:21\n",
      "    Stopped time: 00:01:08\n",
      "    Max speed: 2.68m/s = 9.63km/h\n",
      "    Total uphill: 1216.93m\n",
      "    Total downhill: 904.24m\n",
      "    Started: 2015-03-28 20:01:09.059000\n",
      "    Ended: 2015-03-29 00:27:23.068000\n",
      "    Points: 2184\n",
      "    Avg distance between points: 10.73m\n",
      "\n",
      "    Track #0, Segment #0\n",
      "        Length 2D: 23.433km\n",
      "        Length 3D: 23.608km\n",
      "        Moving time: 04:07:21\n",
      "        Stopped time: 00:01:08\n",
      "        Max speed: 2.68m/s = 9.63km/h\n",
      "        Total uphill: 1216.93m\n",
      "        Total downhill: 904.24m\n",
      "        Started: 2015-03-28 20:01:09.059000\n",
      "        Ended: 2015-03-29 00:27:23.068000\n",
      "        Points: 2184\n",
      "        Avg distance between points: 10.73m\n",
      "\n"
     ]
    }
   ],
   "source": [
    "%run gpxinfo 150328_Long_run.gpx"
   ]
  },
  {
   "cell_type": "code",
   "execution_count": null,
   "metadata": {
    "collapsed": true
   },
   "outputs": [],
   "source": []
  }
 ],
 "metadata": {
  "kernelspec": {
   "display_name": "Python 2",
   "language": "python",
   "name": "python2"
  },
  "language_info": {
   "codemirror_mode": {
    "name": "ipython",
    "version": 2
   },
   "file_extension": ".py",
   "mimetype": "text/x-python",
   "name": "python",
   "nbconvert_exporter": "python",
   "pygments_lexer": "ipython2",
   "version": "2.7.9"
  }
 },
 "nbformat": 4,
 "nbformat_minor": 0
}
