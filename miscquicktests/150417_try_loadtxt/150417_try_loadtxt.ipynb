{
 "cells": [
  {
   "cell_type": "code",
   "execution_count": 1,
   "metadata": {
    "collapsed": true
   },
   "outputs": [],
   "source": [
    "import numpy as np"
   ]
  },
  {
   "cell_type": "code",
   "execution_count": 2,
   "metadata": {
    "collapsed": false
   },
   "outputs": [
    {
     "name": "stdout",
     "output_type": "stream",
     "text": [
      "# test comment\r\n",
      "1.0,3.0,5.0\r\n",
      "2.0,4.0,6.0\r\n"
     ]
    }
   ],
   "source": [
    "!cat test.csv"
   ]
  },
  {
   "cell_type": "code",
   "execution_count": 3,
   "metadata": {
    "collapsed": false
   },
   "outputs": [
    {
     "data": {
      "text/plain": [
       "array([[ 1.,  3.,  5.],\n",
       "       [ 2.,  4.,  6.]])"
      ]
     },
     "execution_count": 3,
     "metadata": {},
     "output_type": "execute_result"
    }
   ],
   "source": [
    "temp = np.loadtxt('test.csv',delimiter=',')\n",
    "temp"
   ]
  },
  {
   "cell_type": "code",
   "execution_count": 4,
   "metadata": {
    "collapsed": false
   },
   "outputs": [
    {
     "name": "stdout",
     "output_type": "stream",
     "text": [
      "\u001b[34m.\u001b[m\u001b[m                        150417_try_loadtxt.ipynb test3.csv\r\n",
      "\u001b[34m..\u001b[m\u001b[m                       test.csv\r\n",
      "\u001b[34m.ipynb_checkpoints\u001b[m\u001b[m       test2.csv\r\n"
     ]
    }
   ],
   "source": [
    "!ls -a"
   ]
  },
  {
   "cell_type": "code",
   "execution_count": 10,
   "metadata": {
    "collapsed": false
   },
   "outputs": [
    {
     "name": "stdout",
     "output_type": "stream",
     "text": [
      "# First line is layer exposure time in seconds. Next lines are measured membrane thicknesses in pixels. 0 means there was no membrane.,,,\r\n",
      "2.00E+00,1.50E+00,1.00E+00,5.00E-01\r\n",
      "2.87E+02,2.13E+02,1.77E+02,7.70E+01\r\n",
      "3.11E+02,2.63E+02,1.61E+02,5.10E+01\r\n",
      "3.15E+02,2.20E+02,1.51E+02,6.40E+01\r\n",
      "3.11E+02,2.60E+02,1.76E+02,6.20E+01\r\n",
      "2.88E+02,2.42E+02,1.60E+02,5.90E+01\r\n",
      "3.02E+02,2.40E+02,1.45E+02,5.80E+01"
     ]
    }
   ],
   "source": [
    "!cat test2.csv"
   ]
  },
  {
   "cell_type": "code",
   "execution_count": 12,
   "metadata": {
    "collapsed": false
   },
   "outputs": [
    {
     "data": {
      "text/plain": [
       "array([[   2. ,    1.5,    1. ,    0.5],\n",
       "       [ 287. ,  213. ,  177. ,   77. ],\n",
       "       [ 311. ,  263. ,  161. ,   51. ],\n",
       "       [ 315. ,  220. ,  151. ,   64. ],\n",
       "       [ 311. ,  260. ,  176. ,   62. ],\n",
       "       [ 288. ,  242. ,  160. ,   59. ],\n",
       "       [ 302. ,  240. ,  145. ,   58. ]])"
      ]
     },
     "execution_count": 12,
     "metadata": {},
     "output_type": "execute_result"
    }
   ],
   "source": [
    "temp2 = np.loadtxt('test2.csv',delimiter=',')\n",
    "temp2"
   ]
  },
  {
   "cell_type": "code",
   "execution_count": 13,
   "metadata": {
    "collapsed": false
   },
   "outputs": [
    {
     "name": "stdout",
     "output_type": "stream",
     "text": [
      "# First line is layer exposure time in seconds. Next lines are measured membrane thicknesses in pixels. 0 means there was no membrane.\r\n",
      "# 2nd line\r\n",
      "# 3rd line\r\n",
      "# 4th line\r\n",
      "# 5th line\r\n",
      "# 6th line\r\n",
      "2.00E+00,1.50E+00,1.00E+00,5.00E-01\r\n",
      "2.87E+02,2.13E+02,1.77E+02,7.70E+01\r\n",
      "3.11E+02,2.63E+02,1.61E+02,5.10E+01\r\n",
      "3.15E+02,2.20E+02,1.51E+02,6.40E+01\r\n",
      "3.11E+02,2.60E+02,1.76E+02,6.20E+01\r\n",
      "2.88E+02,2.42E+02,1.60E+02,5.90E+01\r\n",
      "3.02E+02,2.40E+02,1.45E+02,5.81E+01"
     ]
    }
   ],
   "source": [
    "!cat test3.csv"
   ]
  },
  {
   "cell_type": "code",
   "execution_count": 14,
   "metadata": {
    "collapsed": false
   },
   "outputs": [
    {
     "data": {
      "text/plain": [
       "array([[   2. ,    1.5,    1. ,    0.5],\n",
       "       [ 287. ,  213. ,  177. ,   77. ],\n",
       "       [ 311. ,  263. ,  161. ,   51. ],\n",
       "       [ 315. ,  220. ,  151. ,   64. ],\n",
       "       [ 311. ,  260. ,  176. ,   62. ],\n",
       "       [ 288. ,  242. ,  160. ,   59. ],\n",
       "       [ 302. ,  240. ,  145. ,   58.1]])"
      ]
     },
     "execution_count": 14,
     "metadata": {},
     "output_type": "execute_result"
    }
   ],
   "source": [
    "temp3 = np.loadtxt('test3.csv',delimiter=',')\n",
    "temp3"
   ]
  },
  {
   "cell_type": "code",
   "execution_count": null,
   "metadata": {
    "collapsed": true
   },
   "outputs": [],
   "source": []
  }
 ],
 "metadata": {
  "kernelspec": {
   "display_name": "Python 2",
   "language": "python",
   "name": "python2"
  },
  "language_info": {
   "codemirror_mode": {
    "name": "ipython",
    "version": 2
   },
   "file_extension": ".py",
   "mimetype": "text/x-python",
   "name": "python",
   "nbconvert_exporter": "python",
   "pygments_lexer": "ipython2",
   "version": "2.7.9"
  }
 },
 "nbformat": 4,
 "nbformat_minor": 0
}
