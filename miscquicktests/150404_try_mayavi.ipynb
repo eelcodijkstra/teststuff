{
 "cells": [
  {
   "cell_type": "code",
   "execution_count": 1,
   "metadata": {
    "collapsed": false
   },
   "outputs": [
    {
     "name": "stderr",
     "output_type": "stream",
     "text": [
      "WARNING:traits.has_traits:DEPRECATED: traits.has_traits.wrapped_class, 'the 'implements' class advisor has been deprecated. Use the 'provides' class decorator.\n"
     ]
    }
   ],
   "source": [
    "from mayavi import mlab\n",
    "import numpy as np"
   ]
  },
  {
   "cell_type": "markdown",
   "metadata": {},
   "source": [
    "From the answer to [this stackoverflow question](http://stackoverflow.com/questions/20668818/python-3d-plotting-of-measurement-data):"
   ]
  },
  {
   "cell_type": "code",
   "execution_count": 2,
   "metadata": {
    "collapsed": true
   },
   "outputs": [],
   "source": [
    "r = 1.0\n",
    "phi, theta = np.mgrid[0:np.pi:200j, 0:2*np.pi:101j]\n",
    "\n",
    "x = r*np.sin(phi)*np.cos(theta)\n",
    "y = r*np.sin(phi)*np.sin(theta)\n",
    "z = r*np.cos(phi)\n",
    "\n",
    "intensity = phi * theta\n",
    "\n",
    "obj = mlab.mesh(x, y, z, scalars=intensity, colormap='jet')\n",
    "obj.enable_contours = True\n",
    "obj.contour.filled_contours = True\n",
    "obj.contour.number_of_contours = 20\n",
    "mlab.show()"
   ]
  },
  {
   "cell_type": "markdown",
   "metadata": {},
   "source": [
    "This is the corrected code in the question itself at [this stackoverflow question](http://stackoverflow.com/questions/20668818/python-3d-plotting-of-measurement-data):"
   ]
  },
  {
   "cell_type": "code",
   "execution_count": 5,
   "metadata": {
    "collapsed": true
   },
   "outputs": [],
   "source": [
    "def r(phi,theta):\n",
    "    r = np.sin(phi)**2\n",
    "    return r\n",
    "\n",
    "\n",
    "phi, theta = np.mgrid[0:2*np.pi:201j, 0:np.pi:101j]\n",
    "\n",
    "x = r(phi,theta)*np.sin(phi)*np.cos(theta)\n",
    "y = r(phi,theta)*np.sin(phi)*np.sin(theta)\n",
    "z = r(phi,theta)*np.cos(phi)\n",
    "\n",
    "intensity = phi * theta\n",
    "\n",
    "obj = mlab.mesh(x, y, z, scalars=intensity, colormap='jet')\n",
    "obj.enable_contours = True\n",
    "obj.contour.filled_contours = True\n",
    "obj.contour.number_of_contours = 20\n",
    "mlab.show()"
   ]
  },
  {
   "cell_type": "code",
   "execution_count": 3,
   "metadata": {
    "collapsed": false
   },
   "outputs": [
    {
     "name": "stdout",
     "output_type": "stream",
     "text": [
      "[[-10.  -10.  -10.  ..., -10.  -10.  -10. ]\n",
      " [ -9.8  -9.8  -9.8 ...,  -9.8  -9.8  -9.8]\n",
      " [ -9.6  -9.6  -9.6 ...,  -9.6  -9.6  -9.6]\n",
      " ..., \n",
      " [  9.6   9.6   9.6 ...,   9.6   9.6   9.6]\n",
      " [  9.8   9.8   9.8 ...,   9.8   9.8   9.8]\n",
      " [ 10.   10.   10.  ...,  10.   10.   10. ]]\n",
      "[[-10.   -9.8  -9.6 ...,   9.6   9.8  10. ]\n",
      " [-10.   -9.8  -9.6 ...,   9.6   9.8  10. ]\n",
      " [-10.   -9.8  -9.6 ...,   9.6   9.8  10. ]\n",
      " ..., \n",
      " [-10.   -9.8  -9.6 ...,   9.6   9.8  10. ]\n",
      " [-10.   -9.8  -9.6 ...,   9.6   9.8  10. ]\n",
      " [-10.   -9.8  -9.6 ...,   9.6   9.8  10. ]]\n"
     ]
    }
   ],
   "source": [
    "x, y = np.mgrid[-10:10:101j, -10:10:101j]\n",
    "print x\n",
    "print y"
   ]
  },
  {
   "cell_type": "code",
   "execution_count": 9,
   "metadata": {
    "collapsed": false
   },
   "outputs": [],
   "source": [
    "def r(phi,theta):\n",
    "    r = np.sin(phi)**2\n",
    "    return r\n",
    "\n",
    "\n",
    "phi, theta = np.mgrid[0:2*np.pi:201j, 0:np.pi:101j]\n",
    "\n",
    "x = r(phi,theta)*np.sin(phi)*np.cos(theta)\n",
    "y = r(phi,theta)*np.sin(phi)*np.sin(theta)\n",
    "z = r(phi,theta)*np.cos(phi)\n",
    "\n",
    "intensity = phi * theta\n",
    "\n",
    "obj = mlab.mesh(x, y, z)#, scalars=intensity, colormap='jet')\n",
    "#obj.enable_contours = True\n",
    "#obj.contour.filled_contours = True\n",
    "#obj.contour.number_of_contours = 20\n",
    "mlab.show()"
   ]
  },
  {
   "cell_type": "code",
   "execution_count": null,
   "metadata": {
    "collapsed": true
   },
   "outputs": [],
   "source": []
  }
 ],
 "metadata": {
  "kernelspec": {
   "display_name": "Python 2",
   "language": "python",
   "name": "python2"
  },
  "language_info": {
   "codemirror_mode": {
    "name": "ipython",
    "version": 2
   },
   "file_extension": ".py",
   "mimetype": "text/x-python",
   "name": "python",
   "nbconvert_exporter": "python",
   "pygments_lexer": "ipython2",
   "version": "2.7.9"
  }
 },
 "nbformat": 4,
 "nbformat_minor": 0
}
