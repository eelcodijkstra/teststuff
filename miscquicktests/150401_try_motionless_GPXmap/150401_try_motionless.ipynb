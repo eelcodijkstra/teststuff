{
 "cells": [
  {
   "cell_type": "code",
   "execution_count": 11,
   "metadata": {
    "collapsed": false
   },
   "outputs": [
    {
     "name": "stderr",
     "output_type": "stream",
     "text": [
      "ERROR: An unexpected error occurred while tokenizing input\n",
      "The following traceback may be corrupted or invalid\n",
      "The error message is: ('EOF in multi-line string', (1, 0))\n",
      "\n"
     ]
    },
    {
     "ename": "ValueError",
     "evalue": "Generated URL is 52639 characters in length. Maximum is 2048",
     "output_type": "error",
     "traceback": [
      "\u001b[0;31m---------------------------------------------------------------------------\u001b[0m",
      "\u001b[0;31mValueError\u001b[0m                                Traceback (most recent call last)",
      "\u001b[0;32m<ipython-input-11-f94da882c0ed>\u001b[0m in \u001b[0;36m<module>\u001b[0;34m()\u001b[0m\n\u001b[1;32m     36\u001b[0m \u001b[0;34m<\u001b[0m\u001b[0;34m/\u001b[0m\u001b[0mbody\u001b[0m\u001b[0;34m>\u001b[0m\u001b[0;34m\u001b[0m\u001b[0m\n\u001b[1;32m     37\u001b[0m \u001b[0;34m<\u001b[0m\u001b[0;34m/\u001b[0m\u001b[0mhtml\u001b[0m\u001b[0;34m>\u001b[0m\u001b[0;34m\u001b[0m\u001b[0m\n\u001b[0;32m---> 38\u001b[0;31m \"\"\" % run.generate_url()\n\u001b[0m\u001b[1;32m     39\u001b[0m \u001b[0;34m\u001b[0m\u001b[0m\n\u001b[1;32m     40\u001b[0m \u001b[0;34m\u001b[0m\u001b[0m\n",
      "\u001b[0;32m/Users/nordin/Documents/Python/git_github_teststuff/miscquicktests/150401_try_motionless_GPXmap/motionless.py\u001b[0m in \u001b[0;36mgenerate_url\u001b[0;34m(self)\u001b[0m\n\u001b[1;32m    348\u001b[0m                 \u001b[0murl\u001b[0m \u001b[0;34m=\u001b[0m \u001b[0;34m\"%s%s\"\u001b[0m \u001b[0;34m%\u001b[0m \u001b[0;34m(\u001b[0m\u001b[0murl\u001b[0m\u001b[0;34m,\u001b[0m \u001b[0;34m\"|\"\u001b[0m\u001b[0;34m.\u001b[0m\u001b[0mjoin\u001b[0m\u001b[0;34m(\u001b[0m\u001b[0mself\u001b[0m\u001b[0;34m.\u001b[0m\u001b[0mpath\u001b[0m\u001b[0;34m)\u001b[0m\u001b[0;34m)\u001b[0m\u001b[0;34m\u001b[0m\u001b[0m\n\u001b[1;32m    349\u001b[0m \u001b[0;34m\u001b[0m\u001b[0m\n\u001b[0;32m--> 350\u001b[0;31m         \u001b[0mself\u001b[0m\u001b[0;34m.\u001b[0m\u001b[0m_check_url\u001b[0m\u001b[0;34m(\u001b[0m\u001b[0murl\u001b[0m\u001b[0;34m)\u001b[0m\u001b[0;34m\u001b[0m\u001b[0m\n\u001b[0m\u001b[1;32m    351\u001b[0m \u001b[0;34m\u001b[0m\u001b[0m\n\u001b[1;32m    352\u001b[0m         \u001b[0;32mreturn\u001b[0m \u001b[0murl\u001b[0m\u001b[0;34m\u001b[0m\u001b[0m\n",
      "\u001b[0;32m/Users/nordin/Documents/Python/git_github_teststuff/miscquicktests/150401_try_motionless_GPXmap/motionless.py\u001b[0m in \u001b[0;36m_check_url\u001b[0;34m(self, url)\u001b[0m\n\u001b[1;32m    143\u001b[0m             raise ValueError(\n\u001b[1;32m    144\u001b[0m                 \u001b[0;34m\"Generated URL is %s characters in length. Maximum is %s\"\u001b[0m \u001b[0;34m%\u001b[0m\u001b[0;34m\u001b[0m\u001b[0m\n\u001b[0;32m--> 145\u001b[0;31m                 (len(url), Map.MAX_URL_LEN))\n\u001b[0m\u001b[1;32m    146\u001b[0m \u001b[0;34m\u001b[0m\u001b[0m\n\u001b[1;32m    147\u001b[0m \u001b[0;34m\u001b[0m\u001b[0m\n",
      "\u001b[0;31mValueError\u001b[0m: Generated URL is 52639 characters in length. Maximum is 2048"
     ]
    }
   ],
   "source": [
    "from motionless import AddressMarker, LatLonMarker,DecoratedMap, CenterMap, VisibleMap\n",
    "import xml.sax\n",
    "\n",
    "class GPXHandler(xml.sax.handler.ContentHandler):\n",
    "    \n",
    "    def __init__(self,gmap):\n",
    "        self.gmap = gmap\n",
    "        self.first = True \n",
    "        self.prev = None\n",
    "\n",
    "    def startElement(self, name, attrs):\n",
    "        if name == 'trkpt': \n",
    "\t    self.gmap.add_path_latlon(attrs['lat'],attrs['lon'])\n",
    "            self.prev = (attrs['lat'],attrs['lon'])\n",
    "            if self.first:\n",
    "                self.first = False\n",
    "                self.gmap.add_marker(LatLonMarker(attrs['lat'],attrs['lon'],color='green',label='S'))\n",
    "\n",
    "    def endElement(self,name):\n",
    "        if name == 'trk':\n",
    "            self.gmap.add_marker(LatLonMarker(self.prev[0],self.prev[1],color='red',label='E'))\n",
    "        \n",
    "run = DecoratedMap(size_x=640,size_y=640,pathweight=8,pathcolor='blue')\n",
    "parser = xml.sax.make_parser()\n",
    "parser.setContentHandler(GPXHandler(run))\n",
    "parser.feed(open('150328 Long run.gpx').read())\n",
    "\n",
    "htmlPage = \"\"\"\n",
    "<html>\n",
    "<body>\n",
    "<h2>Munich</h2>\n",
    "<i>3/29/15 long run. 150328 Long run.gpx file from MotionX on my iphone.</i>\n",
    "<p/>\n",
    "<p/>\n",
    "<img src=\"%s\"/>\n",
    "</body>\n",
    "</html>\t\n",
    "\"\"\" % run.generate_url()\n",
    "\n",
    "\n",
    "html = open(\"run.html\",\"w\")\n",
    "html.write(htmlPage)\n",
    "html.close()\n",
    "print \"run.html file created\""
   ]
  },
  {
   "cell_type": "code",
   "execution_count": 5,
   "metadata": {
    "collapsed": false
   },
   "outputs": [
    {
     "name": "stdout",
     "output_type": "stream",
     "text": [
      "/Users/nordin/Documents/Python/git_github_teststuff/miscquicktests/150401_try_motionless_GPXmap\r\n"
     ]
    }
   ],
   "source": [
    "!pwd"
   ]
  },
  {
   "cell_type": "code",
   "execution_count": 6,
   "metadata": {
    "collapsed": false
   },
   "outputs": [
    {
     "name": "stdout",
     "output_type": "stream",
     "text": [
      "150401_try_motionless.ipynb \u001b[31mmotionless.py\u001b[m\u001b[m\r\n",
      "\u001b[34mmotionless\u001b[m\u001b[m                  motionless.pyc\r\n"
     ]
    }
   ],
   "source": [
    "!ls"
   ]
  },
  {
   "cell_type": "code",
   "execution_count": 7,
   "metadata": {
    "collapsed": false
   },
   "outputs": [
    {
     "name": "stdout",
     "output_type": "stream",
     "text": [
      "\u001b[31mLICENSE\u001b[m\u001b[m       \u001b[31mREADME.md\u001b[m\u001b[m     \u001b[34mexamples\u001b[m\u001b[m      \u001b[31mmotionless.py\u001b[m\u001b[m \u001b[31msetup.py\u001b[m\u001b[m\r\n"
     ]
    }
   ],
   "source": [
    "!ls motionless"
   ]
  },
  {
   "cell_type": "code",
   "execution_count": 12,
   "metadata": {
    "collapsed": false
   },
   "outputs": [
    {
     "ename": "NameError",
     "evalue": "name 'motionless' is not defined",
     "output_type": "error",
     "traceback": [
      "\u001b[0;31m---------------------------------------------------------------------------\u001b[0m",
      "\u001b[0;31mNameError\u001b[0m                                 Traceback (most recent call last)",
      "\u001b[0;32m<ipython-input-12-6f93cfcf8f34>\u001b[0m in \u001b[0;36m<module>\u001b[0;34m()\u001b[0m\n\u001b[0;32m----> 1\u001b[0;31m \u001b[0mhelp\u001b[0m\u001b[0;34m(\u001b[0m\u001b[0mmotionless\u001b[0m\u001b[0;34m)\u001b[0m\u001b[0;34m\u001b[0m\u001b[0m\n\u001b[0m",
      "\u001b[0;31mNameError\u001b[0m: name 'motionless' is not defined"
     ]
    }
   ],
   "source": [
    "help(motionless)"
   ]
  },
  {
   "cell_type": "code",
   "execution_count": null,
   "metadata": {
    "collapsed": true
   },
   "outputs": [],
   "source": []
  }
 ],
 "metadata": {
  "kernelspec": {
   "display_name": "Python 2",
   "language": "python",
   "name": "python2"
  },
  "language_info": {
   "codemirror_mode": {
    "name": "ipython",
    "version": 2
   },
   "file_extension": ".py",
   "mimetype": "text/x-python",
   "name": "python",
   "nbconvert_exporter": "python",
   "pygments_lexer": "ipython2",
   "version": "2.7.9"
  }
 },
 "nbformat": 4,
 "nbformat_minor": 0
}
