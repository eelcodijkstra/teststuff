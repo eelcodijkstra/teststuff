{
 "cells": [
  {
   "cell_type": "code",
   "execution_count": 1,
   "metadata": {
    "collapsed": false
   },
   "outputs": [
    {
     "name": "stdout",
     "output_type": "stream",
     "text": [
      "/Users/nordin/anaconda/envs/python2test/bin/python\r\n"
     ]
    }
   ],
   "source": [
    "!which python"
   ]
  },
  {
   "cell_type": "code",
   "execution_count": 6,
   "metadata": {
    "collapsed": false
   },
   "outputs": [
    {
     "name": "stdout",
     "output_type": "stream",
     "text": [
      "Python 2.7.9 :: Anaconda 2.2.0 (x86_64)\r\n"
     ]
    }
   ],
   "source": [
    "!python -V"
   ]
  },
  {
   "cell_type": "code",
   "execution_count": 5,
   "metadata": {
    "collapsed": false
   },
   "outputs": [
    {
     "name": "stdout",
     "output_type": "stream",
     "text": [
      "3.1.0\r\n"
     ]
    }
   ],
   "source": [
    "!ipython -V"
   ]
  },
  {
   "cell_type": "markdown",
   "metadata": {},
   "source": [
    "Note the use of a python 2.7.9 environment so the change below doesn't affect all of my notebooks."
   ]
  },
  {
   "cell_type": "markdown",
   "metadata": {},
   "source": [
    "Here is the big info page: http://stackoverflow.com/questions/18823779/ipython-notebook-and-mathjax-labeled-equations. Modify ~/anaconda/envs/python2test/lib/python2.7/site-packages/IPython/html/static/notebook/js/mathjaxutils.js by adding the following line:\n",
    "\n",
    "    TeX: { equationNumbers: { autoNumber: \"AMS\", useLabelIds: true } },\n",
    "\n",
    "__NOTE: just refresh the page to reset the equation numbers! This also works to re-resolve latex labels__"
   ]
  },
  {
   "cell_type": "markdown",
   "metadata": {},
   "source": [
    "$$a = b$$"
   ]
  },
  {
   "cell_type": "markdown",
   "metadata": {},
   "source": [
    "$$ \\begin{equation}\n",
    "   E = mc^2\n",
    "\\end{equation} $$"
   ]
  },
  {
   "cell_type": "markdown",
   "metadata": {},
   "source": [
    "$$\\begin{align}\n",
    "   E = mc^2\n",
    "\\end{align}$$\n",
    "\n",
    "$$\\begin{align}\n",
    "   E = mc^2\n",
    "\\end{align}$$"
   ]
  },
  {
   "cell_type": "markdown",
   "metadata": {},
   "source": [
    "$$\\begin{equation}\n",
    "   E = mc^2\n",
    "\\end{equation}$$\n",
    "\n",
    "\\begin{align}\n",
    "   E &= mc^2 \\\\\n",
    "   &= x\n",
    "\\end{align}\n",
    "\n",
    "\\begin{align*} \n",
    "2x - 5y &=  8 \\\\ \n",
    "3x + 9y &=  -12\n",
    "\\end{align*}\n",
    "\n",
    "\\begin{align} \n",
    "2x - 5y &=  8 \\\\ \n",
    "3x + 9y &=  -12\n",
    "\\end{align}\n",
    "\n",
    "$$\\begin{equation}\n",
    "   E = mc^2\n",
    "\\end{equation}$$\n",
    "\n"
   ]
  },
  {
   "cell_type": "code",
   "execution_count": 2,
   "metadata": {
    "collapsed": false
   },
   "outputs": [
    {
     "name": "stdout",
     "output_type": "stream",
     "text": [
      "11\n"
     ]
    }
   ],
   "source": [
    "print 3+8"
   ]
  },
  {
   "cell_type": "markdown",
   "metadata": {},
   "source": [
    "$$\\begin{equation*}\n",
    "   E = mc^2\n",
    "\\end{equation*}$$\n",
    "\n",
    "$$\\begin{equation}\n",
    "   E = mc^2 \\label{eq:sample2}\n",
    "\\end{equation}$$\n"
   ]
  },
  {
   "cell_type": "markdown",
   "metadata": {},
   "source": [
    "The Eq. $\\ref{eq:sample2}$ is a typical power series."
   ]
  },
  {
   "cell_type": "markdown",
   "metadata": {},
   "source": [
    "__NOTE: when this notebook is rendered in nbviewer.ipython.org none of the equations are present and referencing a label is unresolved, showing ??? instead.__"
   ]
  },
  {
   "cell_type": "code",
   "execution_count": 4,
   "metadata": {
    "collapsed": false
   },
   "outputs": [
    {
     "name": "stdout",
     "output_type": "stream",
     "text": [
      "/Applications/Canopy.app/appdata/canopy-1.5.1.2730.macosx-x86_64/Canopy.app/Contents/lib/python2.7/site-packages/IPython/html/static/notebook/js/mathjaxutils.js\n",
      "/Users/nordin/Virtualenvs/envipython/lib/python2.7/site-packages/IPython/html/static/notebook/js/mathjaxutils.js\n",
      "/Users/nordin/anaconda/envs/python276/lib/python2.7/site-packages/IPython/html/static/notebook/js/mathjaxutils.js\n",
      "/Users/nordin/anaconda/envs/python27y/lib/python2.7/site-packages/IPython/html/static/notebook/js/mathjaxutils.js\n",
      "/Users/nordin/anaconda/envs/python34/lib/python3.4/site-packages/IPython/html/static/notebook/js/mathjaxutils.js\n",
      "/Users/nordin/anaconda/envs/test279/lib/python2.7/site-packages/IPython/html/static/notebook/js/mathjaxutils.js\n",
      "/Users/nordin/anaconda/lib/python2.7/site-packages/IPython/html/static/notebook/js/mathjaxutils.js\n",
      "/Users/nordin/anaconda/pkgs/ipython-2.1.0-py27_0/lib/python2.7/site-packages/IPython/html/static/notebook/js/mathjaxutils.js\n",
      "/Users/nordin/anaconda/pkgs/ipython-2.2.0-py27_1/lib/python2.7/site-packages/IPython/html/static/notebook/js/mathjaxutils.js\n",
      "/Users/nordin/anaconda/pkgs/ipython-2.2.0-py33_1/lib/python3.3/site-packages/IPython/html/static/notebook/js/mathjaxutils.js\n",
      "/Users/nordin/anaconda/pkgs/ipython-2.2.0-py34_1/lib/python3.4/site-packages/IPython/html/static/notebook/js/mathjaxutils.js\n",
      "/Users/nordin/anaconda/pkgs/ipython-2.3.1-py27_0/lib/python2.7/site-packages/IPython/html/static/notebook/js/mathjaxutils.js\n",
      "/Users/nordin/anaconda/pkgs/ipython-2.3.1-py33_0/lib/python3.3/site-packages/IPython/html/static/notebook/js/mathjaxutils.js\n",
      "/Users/nordin/anaconda/pkgs/ipython-2.3.1-py34_0/lib/python3.4/site-packages/IPython/html/static/notebook/js/mathjaxutils.js\n",
      "/Users/nordin/anaconda/pkgs/ipython-3.0.0-py27_0/lib/python2.7/site-packages/IPython/html/static/notebook/js/mathjaxutils.js\n",
      "/Users/nordin/anaconda/pkgs/ipython-3.1.0-py27_0/lib/python2.7/site-packages/IPython/html/static/notebook/js/mathjaxutils.js\n"
     ]
    }
   ],
   "source": [
    "!locate mathjaxutils.js"
   ]
  },
  {
   "cell_type": "code",
   "execution_count": null,
   "metadata": {
    "collapsed": true
   },
   "outputs": [],
   "source": []
  }
 ],
 "metadata": {
  "kernelspec": {
   "display_name": "Python 2",
   "language": "python",
   "name": "python2"
  },
  "language_info": {
   "codemirror_mode": {
    "name": "ipython",
    "version": 2
   },
   "file_extension": ".py",
   "mimetype": "text/x-python",
   "name": "python",
   "nbconvert_exporter": "python",
   "pygments_lexer": "ipython2",
   "version": "2.7.9"
  }
 },
 "nbformat": 4,
 "nbformat_minor": 0
}
