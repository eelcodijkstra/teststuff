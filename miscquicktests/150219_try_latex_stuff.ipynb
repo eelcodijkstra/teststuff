{
 "metadata": {
  "name": "",
  "signature": "sha256:d03b8aaeca44361a5cf1a998d4ec3ea00c2a1cf80e687ee4895f08319c910b8b"
 },
 "nbformat": 3,
 "nbformat_minor": 0,
 "worksheets": [
  {
   "cells": [
    {
     "cell_type": "markdown",
     "metadata": {},
     "source": [
      "#Table of Contents\n",
      "* [Align multiple lines at equal sign (=)](#Align-multiple-lines-at-equal-sign-%28=%29)\n",
      "* [Script Capital E Vector](#Script-Capital-E-Vector)\n",
      "* [Integral](#Integral)\n"
     ]
    },
    {
     "cell_type": "code",
     "collapsed": false,
     "input": [
      "%%javascript\n",
      "IPython.load_extensions('calico-document-tools');"
     ],
     "language": "python",
     "metadata": {},
     "outputs": [
      {
       "javascript": [
        "IPython.load_extensions('calico-document-tools');"
       ],
       "metadata": {},
       "output_type": "display_data",
       "text": [
        "<IPython.core.display.Javascript at 0x1046bad10>"
       ]
      }
     ],
     "prompt_number": 3
    },
    {
     "cell_type": "heading",
     "level": 1,
     "metadata": {},
     "source": [
      "Align multiple lines at equal sign (=)"
     ]
    },
    {
     "cell_type": "markdown",
     "metadata": {},
     "source": [
      "\\begin{aligned} \\\\\n",
      "\\vec{E} = \\vec{E}(z) &= (E_x e^{j\\delta_x} \\hat{x} + E_y e^{j\\delta_y} \\hat{y})e^{-jkz} \\\\\n",
      "&= E_x e^{j\\delta_x}(\\hat{x} + \\alpha \\hat{y})e^{-jkz} \\\\\n",
      "\\end{aligned}\n",
      "\n",
      "and \n",
      "\n",
      "\\begin{aligned} \\\\\n",
      "\\alpha &= \\frac{E_y}{E_x} e^{j(\\delta_y - \\delta_x)} \\\\\n",
      "&= \\tan(\\psi)e^{j\\delta} \\\\\n",
      "\\end{aligned}\n"
     ]
    },
    {
     "cell_type": "heading",
     "level": 1,
     "metadata": {},
     "source": [
      "Script Capital E Vector"
     ]
    },
    {
     "cell_type": "markdown",
     "metadata": {},
     "source": [
      "Use \\mathcal{} or \\mathscr{}\n",
      "\n",
      "$\\vec{\\mathcal{E}}(z,t)$ or $\\vec{\\mathscr{E}}(z,t)$\n",
      "\n",
      "$\\vec{\\mathcal{D}}(z,t)$ or $\\vec{\\mathscr{D}}(z,t)$\n",
      "\n",
      "$\\vec{\\mathcal{H}}(z,t)$ or $\\vec{\\mathscr{H}}(z,t)$\n",
      "\n",
      "$\\vec{\\mathcal{B}}(z,t)$ or $\\vec{\\mathscr{B}}(z,t)$\n",
      "\n",
      "**Result:** \\mathscr{} looks better"
     ]
    },
    {
     "cell_type": "code",
     "collapsed": false,
     "input": [],
     "language": "python",
     "metadata": {},
     "outputs": []
    },
    {
     "cell_type": "heading",
     "level": 1,
     "metadata": {},
     "source": [
      "Integral"
     ]
    },
    {
     "cell_type": "markdown",
     "metadata": {},
     "source": [
      "$$\\int_0^{T_0} x^2\\;dx = \\frac{T_0^3}{3}.$$"
     ]
    },
    {
     "cell_type": "markdown",
     "metadata": {},
     "source": [
      "\\[ \\int_0^{T_0} x^2\\;dx = \\frac{T_0^3}{3}.\\]"
     ]
    },
    {
     "cell_type": "code",
     "collapsed": false,
     "input": [
      "\\begin{equation} \\\\\n",
      "\\int_0^{T_0} x^2\\;dx = \\frac{T_0^3}{3}. \\\\\n",
      "\\end{equation}"
     ],
     "language": "python",
     "metadata": {},
     "outputs": [
      {
       "ename": "SyntaxError",
       "evalue": "unexpected character after line continuation character (<ipython-input-2-9d574b90014f>, line 1)",
       "output_type": "pyerr",
       "traceback": [
        "\u001b[0;36m  File \u001b[0;32m\"<ipython-input-2-9d574b90014f>\"\u001b[0;36m, line \u001b[0;32m1\u001b[0m\n\u001b[0;31m    \\begin{equation} \\\\int_0^{T_0} x^2\\;dx = \\frac{T_0^3}{3}. \\\\end{equation}\u001b[0m\n\u001b[0m                                                                             ^\u001b[0m\n\u001b[0;31mSyntaxError\u001b[0m\u001b[0;31m:\u001b[0m unexpected character after line continuation character\n"
       ]
      }
     ],
     "prompt_number": 2
    }
   ],
   "metadata": {}
  }
 ]
}