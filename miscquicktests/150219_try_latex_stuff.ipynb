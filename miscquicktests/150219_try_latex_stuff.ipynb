{
 "metadata": {
  "name": "",
  "signature": "sha256:50fe57eae509d191882af28037009c6c2ae62bdbde4b63ac16801eaef3f4e8c6"
 },
 "nbformat": 3,
 "nbformat_minor": 0,
 "worksheets": [
  {
   "cells": [
    {
     "cell_type": "markdown",
     "metadata": {},
     "source": [
      "$$\\int_0^{T_0} x^2\\;dx = \\frac{T_0^3}{3}.$$"
     ]
    },
    {
     "cell_type": "markdown",
     "metadata": {},
     "source": [
      "\\[ \\int_0^{T_0} x^2\\;dx = \\frac{T_0^3}{3}.\\]"
     ]
    },
    {
     "cell_type": "code",
     "collapsed": false,
     "input": [
      "\\begin{equation} \\\\\n",
      "\\int_0^{T_0} x^2\\;dx = \\frac{T_0^3}{3}. \\\\\n",
      "\\end{equation}"
     ],
     "language": "python",
     "metadata": {},
     "outputs": [
      {
       "ename": "SyntaxError",
       "evalue": "unexpected character after line continuation character (<ipython-input-2-9d574b90014f>, line 1)",
       "output_type": "pyerr",
       "traceback": [
        "\u001b[0;36m  File \u001b[0;32m\"<ipython-input-2-9d574b90014f>\"\u001b[0;36m, line \u001b[0;32m1\u001b[0m\n\u001b[0;31m    \\begin{equation} \\\\int_0^{T_0} x^2\\;dx = \\frac{T_0^3}{3}. \\\\end{equation}\u001b[0m\n\u001b[0m                                                                             ^\u001b[0m\n\u001b[0;31mSyntaxError\u001b[0m\u001b[0;31m:\u001b[0m unexpected character after line continuation character\n"
       ]
      }
     ],
     "prompt_number": 2
    },
    {
     "cell_type": "code",
     "collapsed": false,
     "input": [],
     "language": "python",
     "metadata": {},
     "outputs": []
    }
   ],
   "metadata": {}
  }
 ]
}