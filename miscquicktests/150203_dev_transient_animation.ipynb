{
 "metadata": {
  "name": "",
  "signature": "sha256:2fdd7aab0cdb5a46545e3f0faaefc6e777b8e00bd0e88a39d222880ea9be97bb"
 },
 "nbformat": 3,
 "nbformat_minor": 0,
 "worksheets": [
  {
   "cells": [
    {
     "cell_type": "code",
     "collapsed": false,
     "input": [
      "from IPython.html.widgets import interact, fixed\n",
      "import numpy as np\n",
      "import matplotlib.pyplot as plt\n",
      "%matplotlib inline"
     ],
     "language": "python",
     "metadata": {},
     "outputs": [],
     "prompt_number": 1
    },
    {
     "cell_type": "code",
     "collapsed": false,
     "input": [
      "nbounces = 4\n",
      "\n",
      "delta_voltages = np.zeros(nbounces)\n",
      "\n",
      "print delta_voltages"
     ],
     "language": "python",
     "metadata": {},
     "outputs": [
      {
       "output_type": "stream",
       "stream": "stdout",
       "text": [
        "[ 0.  0.  0.  0.]\n"
       ]
      }
     ],
     "prompt_number": 4
    },
    {
     "cell_type": "code",
     "collapsed": false,
     "input": [
      "v_g = 1.0\n",
      "Z_0 = 50.0\n",
      "Z_L = 150.0\n",
      "Z_g = 25.0\n",
      "loadreflcoeff = (Z_L - Z_0)/(Z_L + Z_0)\n",
      "genreflcoeff = (Z_g - Z_0)/(Z_g + Z_0)\n",
      "v1_plus = v_g * Z_0 / (Z_g + Z_0)\n",
      "print v_g, loadreflcoeff, genreflcoeff, v1_plus\n",
      "\n",
      "nbounces = 4\n",
      "\n",
      "delta_voltages = np.zeros(nbounces)\n",
      "delta_voltages[0] = v1_plus\n",
      "for i in range(1,nbounces):\n",
      "    if i%2 == 0:\n",
      "        delta_voltages[i] = delta_voltages[i-1] * genreflcoeff\n",
      "    else:\n",
      "        delta_voltages[i] = delta_voltages[i-1] * loadreflcoeff\n",
      "\n",
      "\n",
      "print delta_voltages"
     ],
     "language": "python",
     "metadata": {},
     "outputs": [
      {
       "output_type": "stream",
       "stream": "stdout",
       "text": [
        "1.0 0.5 -0.333333333333 0.666666666667\n",
        "[ 0.66666667  0.33333333 -0.11111111 -0.05555556]\n"
       ]
      }
     ],
     "prompt_number": 10
    },
    {
     "cell_type": "code",
     "collapsed": false,
     "input": [
      "v_g = 1.0\n",
      "Z_0 = 50.0\n",
      "Z_L = 150.0\n",
      "Z_g = 25.0\n",
      "loadreflcoeff = (Z_L - Z_0)/(Z_L + Z_0)\n",
      "genreflcoeff = (Z_g - Z_0)/(Z_g + Z_0)\n",
      "v1_plus = v_g * Z_0 / (Z_g + Z_0)\n",
      "print v_g, loadreflcoeff, genreflcoeff, v1_plus\n",
      "\n",
      "# Set up array with v1+, v1-, v2+, v1-, etc.\n",
      "def calc_delta_voltages(nbounces, v1_plus, loadreflcoeff, genreflcoeff):\n",
      "    delta_voltages = np.zeros(nbounces)\n",
      "    delta_voltages[0] = v1_plus\n",
      "    for i in range(1,nbounces):\n",
      "        if i%2 == 0:\n",
      "            delta_voltages[i] = delta_voltages[i-1] * genreflcoeff\n",
      "        else:\n",
      "            delta_voltages[i] = delta_voltages[i-1] * loadreflcoeff\n",
      "    return delta_voltages\n",
      "\n",
      "voltage_increment = calc_delta_voltages(4, v1_plus, loadreflcoeff, genreflcoeff)\n",
      "\n",
      "print voltage_increment"
     ],
     "language": "python",
     "metadata": {},
     "outputs": [
      {
       "output_type": "stream",
       "stream": "stdout",
       "text": [
        "1.0 0.5 -0.333333333333 0.666666666667\n",
        "[ 0.66666667  0.33333333 -0.11111111 -0.05555556]\n"
       ]
      }
     ],
     "prompt_number": 12
    },
    {
     "cell_type": "code",
     "collapsed": false,
     "input": [
      "tline_length = 30.0\n",
      "v_g = 1.0\n",
      "Z_0 = 50.0\n",
      "Z_L = 150.0\n",
      "Z_g = 25.0\n",
      "loadreflcoeff = (Z_L - Z_0)/(Z_L + Z_0)\n",
      "genreflcoeff = (Z_g - Z_0)/(Z_g + Z_0)\n",
      "v1_plus = v_g * Z_0 / (Z_g + Z_0)\n",
      "v_steadystate = v_g * float(Z_L) / (Z_L + Z_g)\n",
      "print v_g, loadreflcoeff, genreflcoeff, v1_plus, v_steadystate\n",
      "\n",
      "numpnts_in_plot = 101\n",
      "\n",
      "# Set up array with v1+, v1-, v2+, v1-, etc.\n",
      "def calc_delta_voltages(nbounces, v1_plus, loadreflcoeff, genreflcoeff):\n",
      "    delta_voltages = np.zeros(nbounces)\n",
      "    delta_voltages[0] = v1_plus\n",
      "    for i in range(1,nbounces):\n",
      "        if i%2 == 0:\n",
      "            delta_voltages[i] = delta_voltages[i-1] * genreflcoeff\n",
      "        else:\n",
      "            delta_voltages[i] = delta_voltages[i-1] * loadreflcoeff\n",
      "    return delta_voltages\n",
      "\n",
      "z = np.linspace(0,tline_length,num=numpnts_in_plot)\n",
      "v = np.zeros(numpnts_in_plot)\n",
      "\n",
      "def calc_voltage_on_tline(t_normalized,reflcoeff_load,reflcoeff_gen):\n",
      "    global v\n",
      "    nbounces, fractalongtline = divmod(t_normalized,1)\n",
      "    nbounces_int = int(nbounces)\n",
      "    delta_voltages = calc_delta_voltages(nbounces_int+1, v1_plus, loadreflcoeff, genreflcoeff)\n",
      "    basevoltage = 0.0\n",
      "    if nbounces_int != 0:\n",
      "        for i in range(nbounces_int):\n",
      "            basevoltage += delta_voltages[i]\n",
      "    v[:] = basevoltage\n",
      "    next_increment = delta_voltages[nbounces_int]\n",
      "    if nbounces_int % 2 == 0:\n",
      "        index = round(fractalongtline*numpnts_in_plot)\n",
      "        v[:index] += next_increment\n",
      "    else:\n",
      "        index = round((1.0 - fractalongtline)*numpnts_in_plot)\n",
      "        v[index:] += next_increment\n",
      "\n",
      "def plot_voltage_on_tline(t_normalized,reflcoeff_load,reflcoeff_gen):\n",
      "    calc_voltage_on_tline(t_normalized,reflcoeff_load,reflcoeff_gen)\n",
      "    text1 = 'v_steadystate = %.3f V\\n' % v_steadystate\n",
      "    text1 += '$\\Gamma_L$ = %.3f\\n' % loadreflcoeff\n",
      "    text1 += '$\\Gamma_g$ = %.3f' % genreflcoeff\n",
      "    text2 = 'v_g = %.3f V\\n' % v_g\n",
      "    text2 += '$Z_0$ = %.1f\\n' % Z_0\n",
      "    text2 += '$Z_L$ = %.1f\\n' % Z_L\n",
      "    text2 += '$Z_g$ = %.1f' % Z_g\n",
      "    fig = plt.figure(figsize=(10,6))\n",
      "    plt.plot(z,v)\n",
      "    plt.ylim(0,1.5*v_g)\n",
      "    plt.xlabel('z')\n",
      "    plt.ylabel('voltage')\n",
      "    plt.text(2,1.05*v_g,text2)\n",
      "    plt.text((float(tline_length)/2),1.1*v_g,text1)\n",
      "\n",
      "interact(plot_voltage_on_tline, t_normalized=(0.0,6.0), \n",
      "         reflcoeff_load=fixed(loadreflcoeff), reflcoeff_gen=fixed(genreflcoeff))\n"
     ],
     "language": "python",
     "metadata": {},
     "outputs": [
      {
       "metadata": {},
       "output_type": "display_data",
       "png": "[encoded data removed]",
       "text": [
        "<matplotlib.figure.Figure at 0x109320d90>"
       ]
      }
     ],
     "prompt_number": 31
    },
    {
     "cell_type": "code",
     "collapsed": false,
     "input": [],
     "language": "python",
     "metadata": {},
     "outputs": []
    }
   ],
   "metadata": {}
  }
 ]
}