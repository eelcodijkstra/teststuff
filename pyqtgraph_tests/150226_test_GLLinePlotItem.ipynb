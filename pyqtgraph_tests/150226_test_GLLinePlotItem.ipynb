{
 "cells": [
  {
   "cell_type": "markdown",
   "metadata": {},
   "source": [
    "# Need to do:"
   ]
  },
  {
   "cell_type": "markdown",
   "metadata": {},
   "source": [
    "- Shift origin to lefthand side of graph\n",
    "- Add xyz axes\n",
    "- Label xyz axes\n",
    "- Tick marks & labels on axes?\n",
    "- Show e-field on plot\n",
    "- How make animation?\n",
    "  - How fast is it?\n",
    "  - How long does it take to start?\n",
    "- How make an arrow?\n",
    "- Add 2d polarization plot in x-y plane\n",
    "- Add buttons to let user change parameters in real-time?"
   ]
  },
  {
   "cell_type": "markdown",
   "metadata": {},
   "source": [
    "# Status"
   ]
  },
  {
   "cell_type": "code",
   "execution_count": 3,
   "metadata": {
    "collapsed": false
   },
   "outputs": [
    {
     "name": "stdout",
     "output_type": "stream",
     "text": [
      "Fri Feb 27 18:04:52 MST 2015\r\n"
     ]
    }
   ],
   "source": [
    "!date"
   ]
  },
  {
   "cell_type": "markdown",
   "metadata": {},
   "source": [
    "master 7412f3d contains 150226_GLLinePlotItem.py that successfully codes a rotating helix.\n",
    "\n",
    "**Next**\n",
    "- Make visualization of propagating electric field with E & H vectors\n",
    "- Include math expressions too\n",
    "- Put these in separate pane in window?\n",
    "- Turn master 7412f3d code into a polarization helix\n",
    "- Put arrows every wavelength that travel with the helix\n",
    "- Put 2D plot at x=y=0 plane\n",
    "- Put rotating array in this plane too to represent electric field\n",
    "- Extend polarization helix to -z space?\n",
    "  - Or, shorten viewport in -z direction or move origin to left of view port\n",
    "  - Put a semi-opaque screen in part of x-y plane?\n",
    "- Put the graph in one part of a window and controls in the other\n",
    "- Hook controls to polarization helix"
   ]
  },
  {
   "cell_type": "code",
   "execution_count": 2,
   "metadata": {
    "collapsed": false
   },
   "outputs": [],
   "source": [
    "from pyqtgraph.Qt import QtCore, QtGui\n",
    "import pyqtgraph.opengl as gl\n",
    "import pyqtgraph as pg\n",
    "import numpy as np"
   ]
  },
  {
   "cell_type": "code",
   "execution_count": 3,
   "metadata": {
    "collapsed": false
   },
   "outputs": [],
   "source": [
    "app = QtGui.QApplication([])\n",
    "w = gl.GLViewWidget()\n",
    "w.opts['distance'] = 40\n",
    "w.show()\n",
    "w.setWindowTitle('pyqtgraph example: GLLinePlotItem')\n",
    "\n",
    "gx = gl.GLGridItem()\n",
    "gx.rotate(90, 0, 1, 0)\n",
    "gx.translate(-2, 0, 0)\n",
    "#w.addItem(gx)\n",
    "gy = gl.GLGridItem()\n",
    "gy.rotate(90, 1, 0, 0)\n",
    "gy.translate(0, -2, 0)\n",
    "#w.addItem(gy)\n",
    "gz = gl.GLGridItem()\n",
    "gz.translate(0, 0, -2)\n",
    "#w.addItem(gz)\n",
    "\n",
    "# Define a function generating the helix coordinates\n",
    "def helix(t):\n",
    "    x = np.cos(4*t)\n",
    "    y = np.sin(4*t)\n",
    "    z = t\n",
    "    return x, y, z\n",
    "    \n",
    "# Make a linear space from 0 to 4pi (i.e. 2 revolutions), get coords\n",
    "t = np.linspace(0, 4*np.pi, 200)\n",
    "x, y, z = helix(t)\n",
    "\n",
    "pts = np.vstack([x,z,y]).transpose()\n",
    "#plt = gl.GLLinePlotItem(pos=pts, color=pg.mkColor(0,0,255), width=2., antialias=True)\n",
    "plt = gl.GLLinePlotItem(pos=pts, width=2., antialias=True)\n",
    "w.addItem(plt)    \n",
    "\n",
    "\n",
    "## Start Qt event loop unless running in interactive mode.\n",
    "if __name__ == '__main__':\n",
    "    import sys\n",
    "    if (sys.flags.interactive != 1) or not hasattr(QtCore, 'PYQT_VERSION'):\n",
    "        QtGui.QApplication.instance().exec_()"
   ]
  },
  {
   "cell_type": "code",
   "execution_count": null,
   "metadata": {
    "collapsed": false
   },
   "outputs": [],
   "source": []
  },
  {
   "cell_type": "code",
   "execution_count": null,
   "metadata": {
    "collapsed": true
   },
   "outputs": [],
   "source": []
  }
 ],
 "metadata": {
  "kernelspec": {
   "display_name": "Python 2",
   "language": "python",
   "name": "python2"
  },
  "language_info": {
   "codemirror_mode": {
    "name": "ipython",
    "version": 2
   },
   "file_extension": ".py",
   "mimetype": "text/x-python",
   "name": "python",
   "nbconvert_exporter": "python",
   "pygments_lexer": "ipython2",
   "version": "2.7.10"
  }
 },
 "nbformat": 4,
 "nbformat_minor": 0
}
