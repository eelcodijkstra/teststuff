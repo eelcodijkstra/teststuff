{
 "metadata": {
  "name": "",
  "signature": "sha256:64897408e5003de11c4fcd24cb983702bca1c8d45f9ebf3aee6c9ca894e97846"
 },
 "nbformat": 3,
 "nbformat_minor": 0,
 "worksheets": [
  {
   "cells": [
    {
     "cell_type": "heading",
     "level": 1,
     "metadata": {},
     "source": [
      "Need to do:"
     ]
    },
    {
     "cell_type": "markdown",
     "metadata": {},
     "source": [
      "- Shift origin to lefthand side of graph\n",
      "- Add xyz axes\n",
      "- Label xyz axes\n",
      "- Tick marks & labels on axes?\n",
      "- Show e-field on plot\n",
      "- How make animation?\n",
      "  - How fast is it?\n",
      "  - How long does it take to start?\n",
      "- How make an arrow?\n",
      "- Add 2d polarization plot in x-y plane\n",
      "- Add buttons to let user change parameters in real-time?"
     ]
    },
    {
     "cell_type": "code",
     "collapsed": false,
     "input": [
      "from pyqtgraph.Qt import QtCore, QtGui\n",
      "import pyqtgraph.opengl as gl\n",
      "import pyqtgraph as pg\n",
      "import numpy as np"
     ],
     "language": "python",
     "metadata": {},
     "outputs": [
      {
       "output_type": "stream",
       "stream": "stderr",
       "text": [
        "Vendor:  Continuum Analytics, Inc.\n",
        "Package: mkl\n",
        "Message: trial mode expires in 30 days\n"
       ]
      }
     ],
     "prompt_number": 1
    },
    {
     "cell_type": "code",
     "collapsed": false,
     "input": [
      "app = QtGui.QApplication([])\n",
      "w = gl.GLViewWidget()\n",
      "w.opts['distance'] = 40\n",
      "w.show()\n",
      "w.setWindowTitle('pyqtgraph example: GLLinePlotItem')\n",
      "\n",
      "gx = gl.GLGridItem()\n",
      "gx.rotate(90, 0, 1, 0)\n",
      "gx.translate(-2, 0, 0)\n",
      "#w.addItem(gx)\n",
      "gy = gl.GLGridItem()\n",
      "gy.rotate(90, 1, 0, 0)\n",
      "gy.translate(0, -2, 0)\n",
      "#w.addItem(gy)\n",
      "gz = gl.GLGridItem()\n",
      "gz.translate(0, 0, -2)\n",
      "#w.addItem(gz)\n",
      "\n",
      "# Define a function generating the helix coordinates\n",
      "def helix(t):\n",
      "    x = np.cos(4*t)\n",
      "    y = np.sin(4*t)\n",
      "    z = t\n",
      "    return x, y, z\n",
      "    \n",
      "# Make a linear space from 0 to 4pi (i.e. 2 revolutions), get coords\n",
      "t = np.linspace(0, 4*np.pi, 200)\n",
      "x, y, z = helix(t)\n",
      "\n",
      "pts = np.vstack([x,z,y]).transpose()\n",
      "#plt = gl.GLLinePlotItem(pos=pts, color=pg.mkColor(0,0,255), width=2., antialias=True)\n",
      "plt = gl.GLLinePlotItem(pos=pts, width=2., antialias=True)\n",
      "w.addItem(plt)    \n",
      "\n",
      "\n",
      "## Start Qt event loop unless running in interactive mode.\n",
      "if __name__ == '__main__':\n",
      "    import sys\n",
      "    if (sys.flags.interactive != 1) or not hasattr(QtCore, 'PYQT_VERSION'):\n",
      "        QtGui.QApplication.instance().exec_()"
     ],
     "language": "python",
     "metadata": {},
     "outputs": [],
     "prompt_number": 2
    },
    {
     "cell_type": "code",
     "collapsed": false,
     "input": [],
     "language": "python",
     "metadata": {},
     "outputs": []
    }
   ],
   "metadata": {}
  }
 ]
}