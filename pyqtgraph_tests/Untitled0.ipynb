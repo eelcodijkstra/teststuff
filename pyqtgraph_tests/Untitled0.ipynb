{
 "metadata": {
  "name": "",
  "signature": "sha256:e19f8cb2e679b5948475037722378abc63bc0d426cb2f1243bb5e74580cffaf0"
 },
 "nbformat": 3,
 "nbformat_minor": 0,
 "worksheets": [
  {
   "cells": [
    {
     "cell_type": "code",
     "collapsed": false,
     "input": [
      "from PyQt4 import QtGui, QtCore\n",
      "import pyqtgraph as pg\n",
      "import pyqtgraph.opengl as gl\n",
      "import numpy as np"
     ],
     "language": "python",
     "metadata": {},
     "outputs": [
      {
       "output_type": "stream",
       "stream": "stderr",
       "text": [
        "Vendor:  Continuum Analytics, Inc.\n",
        "Package: mkl\n",
        "Message: trial mode expires in 29 days\n"
       ]
      }
     ],
     "prompt_number": 1
    },
    {
     "cell_type": "code",
     "collapsed": false,
     "input": [
      "dir(gl.GLMeshItem)"
     ],
     "language": "python",
     "metadata": {},
     "outputs": [
      {
       "metadata": {},
       "output_type": "pyout",
       "prompt_number": 3,
       "text": [
        "['__class__',\n",
        " '__delattr__',\n",
        " '__dict__',\n",
        " '__doc__',\n",
        " '__format__',\n",
        " '__getattr__',\n",
        " '__getattribute__',\n",
        " '__hash__',\n",
        " '__init__',\n",
        " '__module__',\n",
        " '__new__',\n",
        " '__reduce__',\n",
        " '__reduce_ex__',\n",
        " '__repr__',\n",
        " '__setattr__',\n",
        " '__sizeof__',\n",
        " '__str__',\n",
        " '__subclasshook__',\n",
        " '__weakref__',\n",
        " '_nextId',\n",
        " '_setView',\n",
        " 'applyTransform',\n",
        " 'blockSignals',\n",
        " 'childEvent',\n",
        " 'childItems',\n",
        " 'children',\n",
        " 'connect',\n",
        " 'connectNotify',\n",
        " 'customEvent',\n",
        " 'deleteLater',\n",
        " 'depthValue',\n",
        " 'destroyed',\n",
        " 'disconnect',\n",
        " 'disconnectNotify',\n",
        " 'dumpObjectInfo',\n",
        " 'dumpObjectTree',\n",
        " 'dynamicPropertyNames',\n",
        " 'emit',\n",
        " 'event',\n",
        " 'eventFilter',\n",
        " 'findChild',\n",
        " 'findChildren',\n",
        " 'hide',\n",
        " 'inherits',\n",
        " 'initializeGL',\n",
        " 'installEventFilter',\n",
        " 'isWidgetType',\n",
        " 'killTimer',\n",
        " 'mapFromParent',\n",
        " 'mapFromView',\n",
        " 'mapToParent',\n",
        " 'mapToView',\n",
        " 'meshDataChanged',\n",
        " 'metaObject',\n",
        " 'moveToThread',\n",
        " 'objectName',\n",
        " 'paint',\n",
        " 'parent',\n",
        " 'parentItem',\n",
        " 'parseMeshData',\n",
        " 'property',\n",
        " 'pyqtConfigure',\n",
        " 'receivers',\n",
        " 'removeEventFilter',\n",
        " 'resetTransform',\n",
        " 'rotate',\n",
        " 'scale',\n",
        " 'sender',\n",
        " 'senderSignalIndex',\n",
        " 'setColor',\n",
        " 'setDepthValue',\n",
        " 'setGLOptions',\n",
        " 'setMeshData',\n",
        " 'setObjectName',\n",
        " 'setParent',\n",
        " 'setParentItem',\n",
        " 'setProperty',\n",
        " 'setShader',\n",
        " 'setTransform',\n",
        " 'setVisible',\n",
        " 'setupGLState',\n",
        " 'shader',\n",
        " 'show',\n",
        " 'signalsBlocked',\n",
        " 'startTimer',\n",
        " 'staticMetaObject',\n",
        " 'thread',\n",
        " 'timerEvent',\n",
        " 'tr',\n",
        " 'trUtf8',\n",
        " 'transform',\n",
        " 'translate',\n",
        " 'update',\n",
        " 'updateGLOptions',\n",
        " 'view',\n",
        " 'viewTransform',\n",
        " 'visible']"
       ]
      }
     ],
     "prompt_number": 3
    },
    {
     "cell_type": "code",
     "collapsed": false,
     "input": [
      "help(gl.GLMeshItem.scale)"
     ],
     "language": "python",
     "metadata": {},
     "outputs": [
      {
       "output_type": "stream",
       "stream": "stdout",
       "text": [
        "Help on method scale in module pyqtgraph.opengl.GLGraphicsItem:\n",
        "\n",
        "scale(self, x, y, z, local=True) unbound pyqtgraph.opengl.items.GLMeshItem.GLMeshItem method\n",
        "    Scale the object by (*dx*, *dy*, *dz*) in its local coordinate system.\n",
        "    If *local* is False, then scale takes place in the parent's coordinates.\n",
        "\n"
       ]
      }
     ],
     "prompt_number": 5
    },
    {
     "cell_type": "code",
     "collapsed": false,
     "input": [],
     "language": "python",
     "metadata": {},
     "outputs": []
    }
   ],
   "metadata": {}
  }
 ]
}