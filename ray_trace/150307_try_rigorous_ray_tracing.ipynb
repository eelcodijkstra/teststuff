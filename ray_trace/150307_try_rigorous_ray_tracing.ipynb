{
 "metadata": {
  "name": "",
  "signature": "sha256:cc134cfade9e48243c4f661c116a852aa8d4f9b7acfc2104bde935c98e1d5a3a"
 },
 "nbformat": 3,
 "nbformat_minor": 0,
 "worksheets": [
  {
   "cells": [
    {
     "cell_type": "code",
     "collapsed": false,
     "input": [
      "import numpy as np\n",
      "import matplotlib.pyplot as plt\n",
      "%matplotlib inline\n",
      "\n",
      "degtorad = np.pi/180."
     ],
     "language": "python",
     "metadata": {},
     "outputs": [],
     "prompt_number": 2
    },
    {
     "cell_type": "code",
     "collapsed": false,
     "input": [
      "class rayThroughPlanarInterfaces():\n",
      "    def __init__(self, h, angle):\n",
      "        self.x = np.array(h)\n",
      "        self.y = np.array(angle)\n",
      "        \n",
      "test = rayThroughPlanarInterfaces(h=0.0, angle=10.0*degtorad)\n",
      "print test, test.x, test.y"
     ],
     "language": "python",
     "metadata": {},
     "outputs": [
      {
       "output_type": "stream",
       "stream": "stdout",
       "text": [
        " <__main__.rayThroughPlanarInterfaces instance at 0x109f43098> 0.0 0.174532925199\n"
       ]
      }
     ],
     "prompt_number": 7
    },
    {
     "cell_type": "code",
     "collapsed": false,
     "input": [],
     "language": "python",
     "metadata": {},
     "outputs": []
    }
   ],
   "metadata": {}
  }
 ]
}