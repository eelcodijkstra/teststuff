{
 "cells": [
  {
   "cell_type": "markdown",
   "metadata": {},
   "source": [
    "From https://github.com/adamhajari/spyre"
   ]
  },
  {
   "cell_type": "code",
   "execution_count": null,
   "metadata": {
    "collapsed": false
   },
   "outputs": [
    {
     "name": "stderr",
     "output_type": "stream",
     "text": [
      "INFO:cherrypy.error:[08/May/2015:23:33:33] ENGINE Listening for SIGHUP.\n",
      "INFO:cherrypy.error:[08/May/2015:23:33:33] ENGINE Listening for SIGTERM.\n",
      "INFO:cherrypy.error:[08/May/2015:23:33:33] ENGINE Listening for SIGUSR1.\n",
      "INFO:cherrypy.error:[08/May/2015:23:33:33] ENGINE Bus STARTING\n",
      "INFO:cherrypy.error:[08/May/2015:23:33:33] ENGINE Started monitor thread 'Autoreloader'.\n",
      "INFO:cherrypy.error:[08/May/2015:23:33:33] ENGINE Started monitor thread '_TimeoutMonitor'.\n",
      "INFO:cherrypy.error:[08/May/2015:23:33:33] ENGINE Serving on http://127.0.0.1:8080\n",
      "INFO:cherrypy.error:[08/May/2015:23:33:33] ENGINE Bus STARTED\n"
     ]
    }
   ],
   "source": [
    "from spyre import server\n",
    "\n",
    "import matplotlib.pyplot as plt\n",
    "import numpy as np\n",
    "\n",
    "class SimpleSineApp(server.App):\n",
    "    title = \"Simple Sine App\"\n",
    "    inputs = [{ \"input_type\":\"text\",\n",
    "                \"variable_name\":\"freq\",\n",
    "                \"value\":5,\n",
    "                \"action_id\":\"sine_wave_plot\"}]\n",
    "\n",
    "    outputs = [{\"output_type\":\"plot\",\n",
    "                \"output_id\":\"sine_wave_plot\",\n",
    "                \"on_page_load\":True }]\n",
    "\n",
    "    def getPlot(self, params):\n",
    "        f = float(params['freq'])\n",
    "        print f\n",
    "        x = np.arange(0,2*np.pi,np.pi/150)\n",
    "        y = np.sin(f*x)\n",
    "        fig = plt.figure()\n",
    "        splt1 = fig.add_subplot(1,1,1)\n",
    "        splt1.plot(x,y)\n",
    "        return fig\n",
    "\n",
    "app = SimpleSineApp()\n",
    "app.launch()"
   ]
  },
  {
   "cell_type": "code",
   "execution_count": null,
   "metadata": {
    "collapsed": true
   },
   "outputs": [],
   "source": []
  }
 ],
 "metadata": {
  "kernelspec": {
   "display_name": "Python 2",
   "language": "python",
   "name": "python2"
  },
  "language_info": {
   "codemirror_mode": {
    "name": "ipython",
    "version": 2
   },
   "file_extension": ".py",
   "mimetype": "text/x-python",
   "name": "python",
   "nbconvert_exporter": "python",
   "pygments_lexer": "ipython2",
   "version": "2.7.9"
  }
 },
 "nbformat": 4,
 "nbformat_minor": 0
}
