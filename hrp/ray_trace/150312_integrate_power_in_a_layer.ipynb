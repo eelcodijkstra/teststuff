{
 "cells": [
  {
   "cell_type": "markdown",
   "metadata": {},
   "source": [
    "#Table of Contents\n",
    "* [Imports and function definitions from 150311_calc_power_in_a_layer.ipynb](#Imports-and-function-definitions-from-150311_calc_power_in_a_layer.ipynb)\n",
    "* [Problem with calculation formulation](#Problem-with-calculation-formulation)\n",
    "\t* &nbsp;\n",
    "\t\t* [RESTART KERNEL](#RESTART-KERNEL)\n",
    "* [Fix problem - Use these functions!](#Fix-problem---Use-these-functions!)\n",
    "\t* [Test fixed  power_in_specified_direction function](#Test-fixed--power_in_specified_direction-function)\n",
    "* [Try integrating to get the power in a layer (this neglects all multiple-reflected components)](#Try-integrating-to-get-the-power-in-a-layer-%28this-neglects-all-multiple-reflected-components%29)\n",
    "* [Calculate power for fluorophore on detector](#Calculate-power-for-fluorophore-on-detector)\n",
    "* [Calculate power for imaging light source to detector](#Calculate-power-for-imaging-light-source-to-detector)\n",
    "* [Need to do](#Need-to-do)\n"
   ]
  },
  {
   "cell_type": "code",
   "execution_count": 1,
   "metadata": {
    "collapsed": false
   },
   "outputs": [
    {
     "data": {
      "application/javascript": [
       "IPython.load_extensions('calico-document-tools');"
      ],
      "text/plain": [
       "<IPython.core.display.Javascript object>"
      ]
     },
     "metadata": {},
     "output_type": "display_data"
    }
   ],
   "source": [
    "%%javascript\n",
    "IPython.load_extensions('calico-document-tools');"
   ]
  },
  {
   "cell_type": "markdown",
   "metadata": {},
   "source": [
    "#Imports and function definitions from 150311_calc_power_in_a_layer.ipynb "
   ]
  },
  {
   "cell_type": "code",
   "execution_count": 2,
   "metadata": {
    "collapsed": true
   },
   "outputs": [],
   "source": [
    "import numpy as np\n",
    "import matplotlib.pyplot as plt\n",
    "import matplotlib.colors as colors\n",
    "import matplotlib.cm as cmx\n",
    "%matplotlib inline\n",
    "from IPython.display import Image\n",
    "from __future__ import division\n",
    "from __future__ import print_function\n",
    "\n",
    "degtorad = np.pi/180.\n",
    "\n",
    "# Angle units are assumed to be in radians\n",
    "\n",
    "def cos_angle2(angle1, n1, n2): # From Snell's law\n",
    "    return np.sqrt(1 - (np.sin(angle1)*n1/n2)**2)\n",
    "\n",
    "def reflectance_TE(angle1, n1, n2):\n",
    "    c1 = np.cos(angle1)\n",
    "    c2 = cos_angle2(angle1, n1, n2)\n",
    "    temp = (n1*c1 - n2*c2) / (n1*c1 + n2*c2)\n",
    "    return temp**2\n",
    "\n",
    "def transmittance_TE(angle1, n1, n2):\n",
    "    return 1.0 - reflectance_TE(angle1, n1, n2)\n",
    "\n",
    "def reflectance_TM(angle1, n1, n2):\n",
    "    c1 = np.cos(angle1)\n",
    "    c2 = cos_angle2(angle1, n1, n2)\n",
    "    temp = (n1*c2 - n2*c1) / (n1*c2 + n2*c1)\n",
    "    return temp**2\n",
    "\n",
    "def transmittance_TM(angle1, n1, n2):\n",
    "    return 1.0 - reflectance_TM(angle1, n1, n2)\n",
    "\n",
    "def reflectance_Unpol(angle1, n1, n2):\n",
    "    rTE = reflectance_TE(angle1, n1, n2)\n",
    "    rTM = reflectance_TM(angle1, n1, n2)\n",
    "    return 0.5 * (rTE + rTM)\n",
    "\n",
    "def transmittance_Unpol(angle1, n1, n2):\n",
    "    return 1.0 - reflectance_Unpol(angle1, n1, n2)\n",
    "\n",
    "# Given a list of refractive indices of layers, calculate the propagation angle\n",
    "# in any given layer. Incidence medium is layer 0, exit medium is layer\n",
    "# len(refr_indices)-1. All angles are in radians.\n",
    "\n",
    "def maxindex(a):\n",
    "    return len(a) - 1\n",
    "\n",
    "def incidence_angle_in_layer_i(i, angle0, refr_indices):\n",
    "    if i > maxindex(refr_indices):\n",
    "        print('INDEX OUT OF RANGE in function incidence_angle_in_layer_i')\n",
    "        return\n",
    "    elif i == 0:\n",
    "        return angle0\n",
    "    else:\n",
    "        return np.arcsin( np.sin(angle0) * refr_indices[0] / refr_indices[i] )\n",
    "\n",
    "# Calculate power for ray angle specified direction in layer 0 once\n",
    "# ray reaches the layer given by \"layerindex\"\n",
    "\n",
    "def power_in_specified_direction(angle0, refr_indices, layerindex):\n",
    "    if layerindex > maxindex(refr_indices):\n",
    "        print('LAYERINDEX OUT OF RANGE in function power_in_specified_direction')\n",
    "        return\n",
    "    temp = 1.0\n",
    "    for i in range(1,layerindex+1):\n",
    "        angle = incidence_angle_in_layer_i(i, angle0, refr_indices)\n",
    "        temp *= transmittance_Unpol(angle, refr_indices[i-1], refr_indices[i])\n",
    "    return temp"
   ]
  },
  {
   "cell_type": "code",
   "execution_count": 3,
   "metadata": {
    "collapsed": false
   },
   "outputs": [
    {
     "name": "stdout",
     "output_type": "stream",
     "text": [
      "1 1.5 41.7791042687 0.952918658155 0.952918658155\n",
      "2 2.0 29.9798507651 0.97853066309 0.932460126436\n",
      "3 2.5 23.5629464258 0.987393631132 0.920705190127\n",
      "4 3.0 19.4588810158 0.991650843665 0.913018078556\n",
      "5 3.5 16.5911438044 0.994049771163 0.907585412056\n",
      "6 4.0 14.4685004425 0.995540836183 0.903538340026\n"
     ]
    }
   ],
   "source": [
    "refr_indices = [1.0, 1.5, 2.0, 2.5, 3.0, 3.5, 4.0]\n",
    "\n",
    "angle0 = 88.0\n",
    "for i in range(1,len(refr_indices)):\n",
    "    angle = incidence_angle_in_layer_i(i, angle0*degtorad, refr_indices)\n",
    "    print(i, refr_indices[i], angle/degtorad, \n",
    "          transmittance_Unpol(angle, refr_indices[i-1], refr_indices[i]), \n",
    "          power_in_specified_direction(angle0*degtorad, refr_indices, i))"
   ]
  },
  {
   "cell_type": "markdown",
   "metadata": {},
   "source": [
    "#Problem with calculation formulation "
   ]
  },
  {
   "cell_type": "markdown",
   "metadata": {},
   "source": [
    "There is a problem with calculating the power in the direction of a particular ray for unpolarized light. The correct approach is to calculate the TE and TM power individually to that layer, and then average them instead of calculating the average in each layer and using that to get the power in the subsequent layers."
   ]
  },
  {
   "cell_type": "markdown",
   "metadata": {},
   "source": [
    "###RESTART KERNEL"
   ]
  },
  {
   "cell_type": "markdown",
   "metadata": {},
   "source": [
    "# Fix problem - Use these functions!"
   ]
  },
  {
   "cell_type": "code",
   "execution_count": 15,
   "metadata": {
    "collapsed": true
   },
   "outputs": [],
   "source": [
    "import numpy as np\n",
    "import matplotlib.pyplot as plt\n",
    "import matplotlib.colors as colors\n",
    "import matplotlib.cm as cmx\n",
    "%matplotlib inline\n",
    "from IPython.display import Image\n",
    "from __future__ import division\n",
    "from __future__ import print_function\n",
    "\n",
    "degtorad = np.pi/180.\n",
    "\n",
    "# Angle units are assumed to be in radians\n",
    "\n",
    "def cos_angle2(angle1, n1, n2): # From Snell's law\n",
    "    return np.sqrt(1 - (np.sin(angle1)*n1/n2)**2)\n",
    "\n",
    "def reflectance_TE(angle1, n1, n2):\n",
    "    c1 = np.cos(angle1)\n",
    "    c2 = cos_angle2(angle1, n1, n2)\n",
    "    temp = (n1*c1 - n2*c2) / (n1*c1 + n2*c2)\n",
    "    return temp**2\n",
    "\n",
    "def transmittance_TE(angle1, n1, n2):\n",
    "    return 1.0 - reflectance_TE(angle1, n1, n2)\n",
    "\n",
    "def reflectance_TM(angle1, n1, n2):\n",
    "    c1 = np.cos(angle1)\n",
    "    c2 = cos_angle2(angle1, n1, n2)\n",
    "    temp = (n1*c2 - n2*c1) / (n1*c2 + n2*c1)\n",
    "    return temp**2\n",
    "\n",
    "def transmittance_TM(angle1, n1, n2):\n",
    "    return 1.0 - reflectance_TM(angle1, n1, n2)\n",
    "\n",
    "def reflectance_Unpol(angle1, n1, n2):\n",
    "    rTE = reflectance_TE(angle1, n1, n2)\n",
    "    rTM = reflectance_TM(angle1, n1, n2)\n",
    "    return 0.5 * (rTE + rTM)\n",
    "\n",
    "def transmittance_Unpol(angle1, n1, n2):\n",
    "    return 1.0 - reflectance_Unpol(angle1, n1, n2)\n",
    "\n",
    "# Given a list of refractive indices of layers, calculate the propagation angle\n",
    "# in any given layer. Incidence medium is layer 0, exit medium is layer\n",
    "# len(refr_indices)-1. All angles are in radians.\n",
    "\n",
    "def maxindex(a):\n",
    "    return len(a) - 1\n",
    "\n",
    "def incidence_angle_in_layer_i(i, angle0, refr_indices):\n",
    "    if i > maxindex(refr_indices):\n",
    "        print('INDEX OUT OF RANGE in function incidence_angle_in_layer_i')\n",
    "        return\n",
    "    elif i == 0:\n",
    "        return angle0\n",
    "    else:\n",
    "        return np.arcsin( np.sin(angle0) * refr_indices[0] / refr_indices[i] )\n",
    "\n",
    "# Calculate power for ray angle specified direction in layer 0 once\n",
    "# ray reaches the layer given by \"layerindex\"\n",
    "\n",
    "def power_in_specified_direction(angle0, refr_indices, layerindex, pol='Unpol'):\n",
    "    if layerindex > maxindex(refr_indices):\n",
    "        print('LAYERINDEX OUT OF RANGE in function power_in_specified_direction')\n",
    "        return\n",
    "    powerTE = 1.0\n",
    "    powerTM = 1.0\n",
    "    for i in range(1,layerindex+1):\n",
    "        angle = incidence_angle_in_layer_i(i, angle0, refr_indices)\n",
    "        powerTE *= transmittance_TE(angle, refr_indices[i-1], refr_indices[i])\n",
    "        powerTM *= transmittance_TM(angle, refr_indices[i-1], refr_indices[i])\n",
    "    if pol == 'Unpol':\n",
    "        temp = 0.5 * (powerTE + powerTM)\n",
    "    elif pol == 'TE':\n",
    "        temp = powerTE\n",
    "    elif pol == 'TM':\n",
    "        temp = powerTM\n",
    "    else:\n",
    "        print('INVALID POLARIZATION SPECIFIED in function incidence_angle_in_layer_i')\n",
    "    return temp"
   ]
  },
  {
   "cell_type": "markdown",
   "metadata": {},
   "source": [
    "##Test fixed  power_in_specified_direction function"
   ]
  },
  {
   "cell_type": "code",
   "execution_count": 5,
   "metadata": {
    "collapsed": false
   },
   "outputs": [
    {
     "name": "stdout",
     "output_type": "stream",
     "text": [
      "Unpolarized\n",
      "1 1.5 41.7791042687 0.952918658155 0.952918658155\n",
      "2 2.0 29.9798507651 0.97853066309 0.932791249894\n",
      "3 2.5 23.5629464258 0.987393631132 0.921188956815\n",
      "4 3.0 19.4588810158 0.991650843665 0.913575440212\n",
      "5 3.5 16.5911438044 0.994049771163 0.90818144936\n",
      "6 4.0 14.4685004425 0.995540836183 0.904156237246\n",
      "\n",
      "TE polarized\n",
      "1 1.5 41.7791042687 0.918051239769 0.918051239769\n",
      "2 2.0 29.9798507651 0.969034019119 0.88962288263\n",
      "3 2.5 23.5629464258 0.983760936549 0.875176240192\n",
      "4 3.0 19.4588810158 0.989963614195 0.866392633798\n",
      "5 3.5 16.5911438044 0.993159784313 0.860466321313\n",
      "6 4.0 14.4685004425 0.995027000314 0.856187222567\n",
      "\n",
      "TM polarized\n",
      "1 1.5 41.7791042687 0.987786076542 0.987786076542\n",
      "2 2.0 29.9798507651 0.988027307061 0.975959617158\n",
      "3 2.5 23.5629464258 0.991026325714 0.967201673438\n",
      "4 3.0 19.4588810158 0.993338073136 0.960758246626\n",
      "5 3.5 16.5911438044 0.994939758012 0.955896577407\n",
      "6 4.0 14.4685004425 0.996054672052 0.952125251924\n"
     ]
    }
   ],
   "source": [
    "refr_indices = [1.0, 1.5, 2.0, 2.5, 3.0, 3.5, 4.0]\n",
    "\n",
    "angle0 = 88.0\n",
    "print('Unpolarized')\n",
    "for i in range(1,len(refr_indices)):\n",
    "    angle = incidence_angle_in_layer_i(i, angle0*degtorad, refr_indices)\n",
    "    print(i, refr_indices[i], angle/degtorad, \n",
    "          transmittance_Unpol(angle, refr_indices[i-1], refr_indices[i]), \n",
    "          power_in_specified_direction(angle0*degtorad, refr_indices, i))\n",
    "    \n",
    "print('\\nTE polarized')\n",
    "for i in range(1,len(refr_indices)):\n",
    "    angle = incidence_angle_in_layer_i(i, angle0*degtorad, refr_indices)\n",
    "    print(i, refr_indices[i], angle/degtorad, \n",
    "          transmittance_TE(angle, refr_indices[i-1], refr_indices[i]), \n",
    "          power_in_specified_direction(angle0*degtorad, refr_indices, i, pol='TE'))\n",
    "    \n",
    "print('\\nTM polarized')\n",
    "for i in range(1,len(refr_indices)):\n",
    "    angle = incidence_angle_in_layer_i(i, angle0*degtorad, refr_indices)\n",
    "    print(i, refr_indices[i], angle/degtorad, \n",
    "          transmittance_TM(angle, refr_indices[i-1], refr_indices[i]), \n",
    "          power_in_specified_direction(angle0*degtorad, refr_indices, i, pol='TM'))\n"
   ]
  },
  {
   "cell_type": "code",
   "execution_count": 6,
   "metadata": {
    "collapsed": false
   },
   "outputs": [
    {
     "name": "stdout",
     "output_type": "stream",
     "text": [
      "0.904156237245\n"
     ]
    }
   ],
   "source": [
    "print( 0.5 * (0.856187222567 + 0.952125251924) )"
   ]
  },
  {
   "cell_type": "code",
   "execution_count": 7,
   "metadata": {
    "collapsed": false
   },
   "outputs": [
    {
     "name": "stdout",
     "output_type": "stream",
     "text": [
      "0.904156237246\n",
      "0.904136322245\n",
      "0.904129671381\n"
     ]
    }
   ],
   "source": [
    "print(power_in_specified_direction(88*degtorad, refr_indices, 6))\n",
    "print(power_in_specified_direction(89*degtorad, refr_indices, 6))\n",
    "print(power_in_specified_direction(90*degtorad, refr_indices, 6))"
   ]
  },
  {
   "cell_type": "markdown",
   "metadata": {},
   "source": [
    "#Try integrating to get the power in a layer (this neglects all multiple-reflected components) "
   ]
  },
  {
   "cell_type": "code",
   "execution_count": 8,
   "metadata": {
    "collapsed": true
   },
   "outputs": [],
   "source": [
    "from scipy.integrate import quad"
   ]
  },
  {
   "cell_type": "code",
   "execution_count": 13,
   "metadata": {
    "collapsed": false
   },
   "outputs": [
    {
     "name": "stdout",
     "output_type": "stream",
     "text": [
      "1 (1.5043223525667713, 1.9587089269956402e-13)\n",
      "2 (1.4732424089832075, 1.7526722805746963e-13)\n",
      "3 (1.455002064515572, 1.7131312143660704e-13)\n",
      "4 (1.4429751269093913, 1.697270687643733e-13)\n",
      "5 (1.4344425075282496, 1.6884777273496434e-13)\n",
      "6 (1.4280730037356477, 1.681909176795365e-13)\n"
     ]
    }
   ],
   "source": [
    "refr_indices = [1.0, 1.5, 2.0, 2.5, 3.0, 3.5, 4.0]\n",
    "for i in range(1,len(refr_indices)):\n",
    "    powerinlayer = quad(power_in_specified_direction, 0*degtorad, 90*degtorad, args=(refr_indices,i))\n",
    "    print(i,powerinlayer)"
   ]
  },
  {
   "cell_type": "code",
   "execution_count": 22,
   "metadata": {
    "collapsed": false
   },
   "outputs": [
    {
     "name": "stdout",
     "output_type": "stream",
     "text": [
      "1 0.478840676829\n",
      "2 0.468947623525\n",
      "3 0.463141541553\n",
      "4 0.459313248413\n",
      "5 0.456597231309\n",
      "6 0.454569755281\n"
     ]
    }
   ],
   "source": [
    "angles = np.linspace(0,90,91)\n",
    "for i in range(1,len(refr_indices)):\n",
    "    powervsangle = power_in_specified_direction(angles*degtorad, refr_indices,i)\n",
    "    powerinlayer = 0.5*np.trapz(powervsangle/(np.pi/2.), angles*degtorad)\n",
    "    print(i,powerinlayer)"
   ]
  },
  {
   "cell_type": "code",
   "execution_count": 20,
   "metadata": {
    "collapsed": false
   },
   "outputs": [
    {
     "name": "stdout",
     "output_type": "stream",
     "text": [
      "1.57079632679\n"
     ]
    }
   ],
   "source": [
    "print(np.pi/2.)"
   ]
  },
  {
   "cell_type": "markdown",
   "metadata": {},
   "source": [
    "It looks like I need to normalize the integrated power by the range of integration, which is 0 to $\\pi/2$. I need to sit down and confirm this."
   ]
  },
  {
   "cell_type": "markdown",
   "metadata": {},
   "source": [
    "#Calculate power for fluorophore on detector "
   ]
  },
  {
   "cell_type": "markdown",
   "metadata": {},
   "source": [
    "Assume light source in water on top of silicon dioxide layer on top of silicon & calculate how much light makes it into the silicon"
   ]
  },
  {
   "cell_type": "code",
   "execution_count": 25,
   "metadata": {
    "collapsed": false
   },
   "outputs": [
    {
     "name": "stdout",
     "output_type": "stream",
     "text": [
      "1 0.496512709033\n",
      "2 0.407677870852\n"
     ]
    }
   ],
   "source": [
    "refr_indices = [1.33, 1.46, 3.6]\n",
    "angles = np.linspace(0,90,91)\n",
    "for i in range(1,len(refr_indices)):\n",
    "    powervsangle = power_in_specified_direction(angles*degtorad, refr_indices,i)\n",
    "    powerinlayer = 0.5*np.trapz(powervsangle/(np.pi/2.), angles*degtorad)\n",
    "    print(i,powerinlayer)"
   ]
  },
  {
   "cell_type": "markdown",
   "metadata": {},
   "source": [
    "#Calculate power for imaging light source to detector"
   ]
  },
  {
   "cell_type": "markdown",
   "metadata": {},
   "source": [
    "Assume light source emits into air (neglect reflection losses for light coming out of solution into air, which is $~0.96^2$ = 0.92), and is imaged onto detector and must make it into the silicon layer. Assume the imaging optics accepts light in a cone angle of 10$^{\\circ}$."
   ]
  },
  {
   "cell_type": "code",
   "execution_count": 34,
   "metadata": {
    "collapsed": false
   },
   "outputs": [
    {
     "name": "stdout",
     "output_type": "stream",
     "text": [
      "Fractional solid angle: 0.0138184829173\n",
      "1 0.0536129677085\n",
      "2 0.0440234605386\n"
     ]
    }
   ],
   "source": [
    "refr_indices = [1.0, 1.46, 3.6]\n",
    "coneangle = 10\n",
    "angles = np.linspace(0,coneangle,91)\n",
    "print('Fractional solid angle:', np.sin(coneangle*degtorad)/(4*np.pi))\n",
    "for i in range(1,len(refr_indices)):\n",
    "    powervsangle = power_in_specified_direction(angles*degtorad, refr_indices,i)\n",
    "    powerinlayer = 0.5*np.trapz(powervsangle/(np.pi/2.), angles*degtorad)\n",
    "    print(i,powerinlayer)"
   ]
  },
  {
   "cell_type": "code",
   "execution_count": 27,
   "metadata": {
    "collapsed": false
   },
   "outputs": [
    {
     "name": "stdout",
     "output_type": "stream",
     "text": [
      "0.9216 0.0405720212324\n"
     ]
    }
   ],
   "source": [
    "print(0.96**2, 0.0440234605386 * 0.96**2)"
   ]
  },
  {
   "cell_type": "code",
   "execution_count": 28,
   "metadata": {
    "collapsed": false
   },
   "outputs": [
    {
     "name": "stdout",
     "output_type": "stream",
     "text": [
      "10.048251442\n"
     ]
    }
   ],
   "source": [
    "print(0.407677870852/0.0405720212324)"
   ]
  },
  {
   "cell_type": "markdown",
   "metadata": {},
   "source": [
    "# Need to do"
   ]
  },
  {
   "cell_type": "markdown",
   "metadata": {},
   "source": [
    "- confirm that I'm calculating the fractional solid angle correctly above\n",
    "- what should the normalization factor be for the integral in the imaging case?\n",
    "- confirm that the normalization factor should be pi/2 for the fluorophore-on-detector case\n",
    "- look at typical NA for fluorescence imaging system"
   ]
  },
  {
   "cell_type": "code",
   "execution_count": null,
   "metadata": {
    "collapsed": true
   },
   "outputs": [],
   "source": []
  }
 ],
 "metadata": {
  "kernelspec": {
   "display_name": "Python 2",
   "language": "python",
   "name": "python2"
  },
  "language_info": {
   "codemirror_mode": {
    "name": "ipython",
    "version": 2
   },
   "file_extension": ".py",
   "mimetype": "text/x-python",
   "name": "python",
   "nbconvert_exporter": "python",
   "pygments_lexer": "ipython2",
   "version": "2.7.9"
  }
 },
 "nbformat": 4,
 "nbformat_minor": 0
}
