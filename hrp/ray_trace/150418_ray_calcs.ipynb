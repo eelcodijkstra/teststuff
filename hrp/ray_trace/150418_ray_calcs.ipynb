{
 "cells": [
  {
   "cell_type": "code",
   "execution_count": 1,
   "metadata": {
    "collapsed": false
   },
   "outputs": [
    {
     "data": {
      "application/javascript": [
       "IPython.load_extensions('calico-document-tools');"
      ],
      "text/plain": [
       "<IPython.core.display.Javascript object>"
      ]
     },
     "metadata": {},
     "output_type": "display_data"
    }
   ],
   "source": [
    "%%javascript\n",
    "IPython.load_extensions('calico-document-tools');"
   ]
  },
  {
   "cell_type": "markdown",
   "metadata": {},
   "source": [
    "# Imports"
   ]
  },
  {
   "cell_type": "code",
   "execution_count": 2,
   "metadata": {
    "collapsed": true
   },
   "outputs": [],
   "source": [
    "# Main imports\n",
    "import numpy as np\n",
    "import matplotlib.pyplot as plt\n",
    "import matplotlib.colors as colors\n",
    "import matplotlib.cm as cmx\n",
    "%matplotlib inline\n",
    "from __future__ import division\n",
    "from __future__ import print_function\n",
    "\n",
    "# Needed for LineCollections helper functions\n",
    "from matplotlib.collections import LineCollection\n",
    "\n",
    "# Angle unit conversion\n",
    "degtorad = np.pi/180."
   ]
  },
  {
   "cell_type": "markdown",
   "metadata": {},
   "source": [
    "# Define functions and classes to calculate and plot rays"
   ]
  },
  {
   "cell_type": "code",
   "execution_count": 12,
   "metadata": {
    "collapsed": true
   },
   "outputs": [],
   "source": [
    "#--------------------------------------------------------------------\n",
    "# Main computational class for general rays\n",
    "#--------------------------------------------------------------------\n",
    "\n",
    "class rayThroughPlanarInterfaces():\n",
    "    \n",
    "    def __init__(self, ray_dist_from_axis=0.0, angle_rad=0.0, refr_index=1.0, start_location_on_axis=0.0):\n",
    "        self.h = np.array([ray_dist_from_axis])\n",
    "        self.ang_rad = np.array([angle_rad])\n",
    "        self.refr_index = np.array([refr_index])\n",
    "        self.location_on_axis = np.array([start_location_on_axis])\n",
    "        self.normpower_in_rayTE = np.array([1.0])\n",
    "        self.normpower_in_rayTM = np.array([1.0])\n",
    "        self.normpower_in_rayUnpol = np.array([1.0])\n",
    "        \n",
    "    def propagate_to_and_thru_new_surface(self,l,new_refr_index):\n",
    "        self.normpower_in_rayTE = np.append(self.normpower_in_rayTE, \n",
    "                                          self.normpower_in_rayTE[-1] * \n",
    "                                          transmittance_TE(self.ang_rad[-1],self.refr_index[-1],new_refr_index))\n",
    "        self.normpower_in_rayTM = np.append(self.normpower_in_rayTM, \n",
    "                                          self.normpower_in_rayTM[-1] * \n",
    "                                          transmittance_TM(self.ang_rad[-1],self.refr_index[-1],new_refr_index))\n",
    "        self.normpower_in_rayUnpol = 0.5 * (self.normpower_in_rayTE[-1] + self.normpower_in_rayTM[-1])\n",
    "        self.location_on_axis = np.append(self.location_on_axis, self.location_on_axis[-1] + l)\n",
    "        delta_h = l*np.tan(self.ang_rad[-1])\n",
    "        self.h = np.append(self.h, self.h[-1] + delta_h)\n",
    "        new_angle = np.arcsin(np.sin(self.ang_rad[-1])*self.refr_index[-1]/new_refr_index)\n",
    "        self.ang_rad = np.append(self.ang_rad, new_angle)\n",
    "        self.refr_index = np.append(self.refr_index, new_refr_index)\n",
    "        \n",
    "    def print_values(self):\n",
    "        print('location_on_axis:', self.location_on_axis)\n",
    "        print('               h:', self.h)\n",
    "        print('         ang_rad:', self.ang_rad)\n",
    "        print('      refr_index:', self.refr_index)\n",
    "        print('normalized power')\n",
    "        print('              TE:', self.normpower_in_rayTE)\n",
    "        print('              TM:', self.normpower_in_rayTM)\n",
    "        print('     Unpolarized:', self.normpower_in_rayUnpol)\n",
    "\n",
    "#--------------------------------------------------------------------\n",
    "# Utility functions to calculate reflectance/transmittance.\n",
    "# Angle units are assumed to be in radians\n",
    "#--------------------------------------------------------------------\n",
    "\n",
    "def cos_angle2(angle1, n1, n2): # From Snell's law\n",
    "    return np.sqrt(1 - (np.sin(angle1)*n1/n2)**2)\n",
    "\n",
    "def reflectance_TE(angle1, n1, n2):\n",
    "    c1 = np.cos(angle1)\n",
    "    c2 = cos_angle2(angle1, n1, n2)\n",
    "    temp = (n1*c1 - n2*c2) / (n1*c1 + n2*c2)\n",
    "    return temp**2\n",
    "\n",
    "def transmittance_TE(angle1, n1, n2):\n",
    "    return 1.0 - reflectance_TE(angle1, n1, n2)\n",
    "\n",
    "def reflectance_TM(angle1, n1, n2):\n",
    "    c1 = np.cos(angle1)\n",
    "    c2 = cos_angle2(angle1, n1, n2)\n",
    "    temp = (n1*c2 - n2*c1) / (n1*c2 + n2*c1)\n",
    "    return temp**2\n",
    "\n",
    "def transmittance_TM(angle1, n1, n2):\n",
    "    return 1.0 - reflectance_TM(angle1, n1, n2)\n",
    "\n",
    "def reflectance_Unpol(angle1, n1, n2):\n",
    "    rTE = reflectance_TE(angle1, n1, n2)\n",
    "    rTM = reflectance_TM(angle1, n1, n2)\n",
    "    return 0.5 * (rTE + rTM)\n",
    "\n",
    "def transmittance_Unpol(angle1, n1, n2):\n",
    "    return 1.0 - reflectance_Unpol(angle1, n1, n2)\n",
    "\n",
    "#--------------------------------------------------------------------\n",
    "# Helper functions to make a LineCollection\n",
    "#   Topics: line, color, LineCollection, cmap, colorline, codex\n",
    "#   From: http://nbviewer.ipython.org/github/dpsanders/matplotlib-examples/blob/master/colorline.ipynb\n",
    "#--------------------------------------------------------------------\n",
    "\n",
    "'''\n",
    "Defines a function colorline that draws a (multi-)colored 2D line with coordinates x and y.\n",
    "The color is taken from optional data in z, and creates a LineCollection.\n",
    "\n",
    "z can be:\n",
    "- empty, in which case a default coloring will be used based on the position along the input arrays\n",
    "- a single number, for a uniform color [this can also be accomplished with the usual plt.plot]\n",
    "- an array of the length of at least the same length as x, to color according to this data\n",
    "- an array of a smaller length, in which case the colors are repeated along the curve\n",
    "\n",
    "The function colorline returns the LineCollection created, which can be modified afterwards.\n",
    "\n",
    "See also: plt.streamplot\n",
    "'''\n",
    "\n",
    "# Data manipulation:\n",
    "\n",
    "def make_segments(x, y):\n",
    "    '''\n",
    "    Create list of line segments from x and y coordinates, in the correct format for LineCollection:\n",
    "    an array of the form   numlines x (points per line) x 2 (x and y) array\n",
    "    '''\n",
    "\n",
    "    points = np.array([x, y]).T.reshape(-1, 1, 2)\n",
    "    segments = np.concatenate([points[:-1], points[1:]], axis=1)\n",
    "    \n",
    "    return segments\n",
    "\n",
    "\n",
    "# Interface to LineCollection:\n",
    "\n",
    "def colorline(ax, x, y, z=None, cmap=plt.get_cmap('copper'), norm=plt.Normalize(0.0, 1.0), linewidth=3, alpha=1.0):\n",
    "    '''\n",
    "    Plot a colored line with coordinates x and y\n",
    "    Optionally specify colors in the array z\n",
    "    Optionally specify a colormap, a norm function and a line width\n",
    "    '''\n",
    "    \n",
    "    # Default colors equally spaced on [0,1]:\n",
    "    if z is None:\n",
    "        z = np.linspace(0.0, 1.0, len(x))\n",
    "           \n",
    "    # Special case if a single number:\n",
    "    if not hasattr(z, \"__iter__\"):  # to check for numerical input -- this is a hack\n",
    "        z = np.array([z])\n",
    "        \n",
    "    z = np.asarray(z)\n",
    "    \n",
    "    segments = make_segments(x, y)\n",
    "    lc = LineCollection(segments, array=z, cmap=cmap, norm=norm, linewidth=linewidth, alpha=alpha)\n",
    "    \n",
    "    #ax = plt.gca()\n",
    "    ax.add_collection(lc)\n",
    "    \n",
    "    return lc\n",
    "        \n",
    "    \n",
    "def clear_frame(ax=None): \n",
    "    # Taken from a post by Tony S Yu\n",
    "    if ax is None: \n",
    "        ax = plt.gca() \n",
    "    ax.xaxis.set_visible(False) \n",
    "    ax.yaxis.set_visible(False) \n",
    "    for spine in ax.spines.itervalues(): \n",
    "        spine.set_visible(False) "
   ]
  },
  {
   "cell_type": "markdown",
   "metadata": {},
   "source": [
    "#Define parameters, calculate rays "
   ]
  },
  {
   "cell_type": "code",
   "execution_count": 13,
   "metadata": {
    "collapsed": true
   },
   "outputs": [],
   "source": [
    "thicknesses = np.array([0.01, 7.7, 4.0, 0.001])\n",
    "refractive_indices = np.array([1.33, 1.46, 3.6, 3.6])\n",
    "initial_refr_index = 1.33\n",
    "start_location_on_axis = 0.0\n",
    "array_of_rays = []\n",
    "for i, angle in enumerate(range(-85,90,5)):\n",
    "    array_of_rays.append(rayThroughPlanarInterfaces(ray_dist_from_axis = 0.0, \n",
    "                                                    angle_rad = angle*degtorad, \n",
    "                                                    refr_index = refractive_indices[0], \n",
    "                                                    start_location_on_axis = start_location_on_axis))\n",
    "    for l,n in zip(thicknesses, refractive_indices):\n",
    "        array_of_rays[i].propagate_to_and_thru_new_surface(l, n)"
   ]
  },
  {
   "cell_type": "code",
   "execution_count": 14,
   "metadata": {
    "collapsed": false
   },
   "outputs": [
    {
     "name": "stdout",
     "output_type": "stream",
     "text": [
      "location_on_axis: [  0.00000000e+00   1.00000000e-02   7.71000000e+00   1.17100000e+01\n",
      "   1.17110000e+01]\n",
      "               h: [  0.          -0.11430052 -88.12570325 -96.76708031 -96.76747613]\n",
      "         ang_rad: [-1.48352986 -1.48352986 -1.1372756  -0.37689867 -0.37689867]\n",
      "      refr_index: [ 1.33  1.33  1.46  3.6   3.6 ]\n",
      "normalized power\n",
      "              TE: [ 1.          1.          0.53476985  0.27994383  0.27994383]\n",
      "              TM: [ 1.          1.          0.60438031  0.6026235   0.6026235 ]\n",
      "     Unpolarized: 0.441283664751\n"
     ]
    }
   ],
   "source": [
    "array_of_rays[0].print_values()"
   ]
  },
  {
   "cell_type": "code",
   "execution_count": null,
   "metadata": {
    "collapsed": true
   },
   "outputs": [],
   "source": []
  }
 ],
 "metadata": {
  "kernelspec": {
   "display_name": "Python 2",
   "language": "python",
   "name": "python2"
  },
  "language_info": {
   "codemirror_mode": {
    "name": "ipython",
    "version": 2
   },
   "file_extension": ".py",
   "mimetype": "text/x-python",
   "name": "python",
   "nbconvert_exporter": "python",
   "pygments_lexer": "ipython2",
   "version": "2.7.9"
  }
 },
 "nbformat": 4,
 "nbformat_minor": 0
}
