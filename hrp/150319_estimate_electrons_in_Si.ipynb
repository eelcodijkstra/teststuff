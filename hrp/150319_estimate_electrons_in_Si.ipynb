{
 "cells": [
  {
   "cell_type": "code",
   "execution_count": 1,
   "metadata": {
    "collapsed": true
   },
   "outputs": [],
   "source": [
    "import numpy as np\n",
    "import matplotlib.pyplot as plt\n",
    "%matplotlib inline\n",
    "from __future__ import division\n",
    "from __future__ import print_function"
   ]
  },
  {
   "cell_type": "code",
   "execution_count": 10,
   "metadata": {
    "collapsed": false
   },
   "outputs": [
    {
     "name": "stdout",
     "output_type": "stream",
     "text": [
      "1e-06 1.01859163579e-08 0.25 100.0 2.54647908947e-13 4.24413181578e-15 3.37737278808e-16\n"
     ]
    }
   ],
   "source": [
    "unit_amnioantipyrine = 1.0e-6 # 1 uM H2O2 per minute at 25C and 7.0 pH\n",
    "units_per_um2 = 2.0e-5/(np.pi*(50.0/2.0)**2) # From paper\n",
    "photons_per_unit = 0.25 # Just an arbitrary guess\n",
    "pixel_area_um2 = 10.0**2\n",
    "convert_permin_to_persec = 1.0/60.0\n",
    "photons_per_pixel_per_second = pixel_area_um2 * units_per_um2 * photons_per_unit * \\\n",
    "                               unit_amnioantipyrine * convert_permin_to_persec\n",
    "photons_per_pixel_per_second_per_sr = photons_per_pixel_per_second/(4*np.pi)\n",
    "    \n",
    "print(unit_amnioantipyrine, units_per_um2, photons_per_unit, pixel_area_um2, photons_per_pixel, \n",
    "      photons_per_pixel_per_second, photons_per_pixel_per_second_per_sr)"
   ]
  },
  {
   "cell_type": "code",
   "execution_count": 13,
   "metadata": {
    "collapsed": false
   },
   "outputs": [
    {
     "name": "stdout",
     "output_type": "stream",
     "text": [
      "1.37688014732e-16 6.88440073659e-17\n"
     ]
    }
   ],
   "source": [
    "integrated_normalized_power_in_Si = 0.407677870852 # calculated in 150312_integrate_power_in_a_layer.ipynb\n",
    "photons_in_Si_per_sec = integrated_normalized_power_in_Si * photons_per_pixel_per_second_per_sr\n",
    "quantum_efficiency = 0.5\n",
    "electrons_in_Si_per_sec = photons_in_Si_per_sec * quantum_efficiency\n",
    "print(photons_in_Si_per_sec, electrons_in_Si_per_sec)"
   ]
  },
  {
   "cell_type": "code",
   "execution_count": null,
   "metadata": {
    "collapsed": true
   },
   "outputs": [],
   "source": []
  }
 ],
 "metadata": {
  "kernelspec": {
   "display_name": "Python 2",
   "language": "python",
   "name": "python2"
  },
  "language_info": {
   "codemirror_mode": {
    "name": "ipython",
    "version": 2
   },
   "file_extension": ".py",
   "mimetype": "text/x-python",
   "name": "python",
   "nbconvert_exporter": "python",
   "pygments_lexer": "ipython2",
   "version": "2.7.9"
  }
 },
 "nbformat": 4,
 "nbformat_minor": 0
}
