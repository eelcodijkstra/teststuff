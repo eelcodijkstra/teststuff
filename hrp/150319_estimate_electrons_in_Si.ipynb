{
 "cells": [
  {
   "cell_type": "code",
   "execution_count": 1,
   "metadata": {
    "collapsed": true
   },
   "outputs": [],
   "source": [
    "import numpy as np\n",
    "import matplotlib.pyplot as plt\n",
    "%matplotlib inline\n",
    "from __future__ import division\n",
    "from __future__ import print_function"
   ]
  },
  {
   "cell_type": "markdown",
   "metadata": {},
   "source": [
    "Definition of a unit:\n",
    "\n",
    "1 Worthington unit = 1 aminoantipyrine unit = decomposition of one micromole of hydrogen peroxide per minute at 25°C and pH 7.0 from [here](http://www.worthington-biochem.com/hpo/cat.html)\n",
    "\n",
    "From paper Analytical Biochemistry 2001 Zhou.pdf (\"Imaging Localized Horseradish Peroxidase on a Glass Surface with Scanning Electrochemical/Chemiluminescence Microscopy\", Huafang Zhou, Shigenobu Kasai, and Tomokazu Matsue, Analytical Biochemistry 290, 83-88 (2001)), just under Fig. 5: \n",
    "\n",
    "$2\\times10^{-5}$ units in 50 $\\mu m$ spot."
   ]
  },
  {
   "cell_type": "code",
   "execution_count": 27,
   "metadata": {
    "collapsed": false
   },
   "outputs": [
    {
     "name": "stdout",
     "output_type": "stream",
     "text": [
      "                unit_amnioantipyrine: 1e-06 uM/min\n",
      "            photons_per_unit_per_min: 6.0221413e+16\n",
      "                       units_per_um2: 1.018592e-08\n",
      "                      pixel_area_um2: 100.0\n",
      "        photons_per_pixel_per_second: 1.022350e+09\n",
      "   integrated_normalized_power_in_Si: 4.076779e-01\n",
      " photons_per_pixel_per_second_per_sr: 8.135606e+07\n",
      "               photons_in_Si_per_sec: 3.316707e+07\n",
      "                  quantum_efficiency: 0.5\n",
      "             electrons_in_Si_per_sec: 1.658353e+07\n"
     ]
    }
   ],
   "source": [
    "unit_amnioantipyrine = 1.0e-6 # 1 uM H2O2 per minute at 25C and 7.0 pH\n",
    "N_A = 6.0221413e+23 # Avogodro's number\n",
    "fraction_of_H2O2_converted_to_photons = 0.1 # Just an arbitrary guess\n",
    "photons_per_unit_per_min = N_A * unit_amnioantipyrine * fraction_of_H2O2_converted_to_photons\n",
    "units_per_um2 = 2.0e-5/(np.pi*(50.0/2.0)**2) # From paper\n",
    "pixel_area_um2 = 10.0**2\n",
    "convert_per_min_to_per_sec = 1.0/60.0\n",
    "photons_per_pixel_per_second = pixel_area_um2 * units_per_um2 * photons_per_unit_per_min * convert_per_min_to_per_sec\n",
    "photons_per_pixel_per_second_per_sr = photons_per_pixel_per_second/(4*np.pi)\n",
    "\n",
    "integrated_normalized_power_in_Si = 0.407677870852 # calculated in 150312_integrate_power_in_a_layer.ipynb\n",
    "photons_in_Si_per_sec = integrated_normalized_power_in_Si * photons_per_pixel_per_second_per_sr\n",
    "quantum_efficiency = 0.5\n",
    "electrons_in_Si_per_sec = photons_in_Si_per_sec * quantum_efficiency\n",
    "\n",
    "print('                unit_amnioantipyrine: {0} uM/min'.format(unit_amnioantipyrine))\n",
    "print('            photons_per_unit_per_min: {0}'.format(photons_per_unit_per_min))\n",
    "print('                       units_per_um2: {:e}'.format(units_per_um2))\n",
    "print('                      pixel_area_um2: {0}'.format(pixel_area_um2))\n",
    "print('        photons_per_pixel_per_second: {:e}'.format(photons_per_pixel_per_second))\n",
    "print('   integrated_normalized_power_in_Si: {:e}'.format(integrated_normalized_power_in_Si))\n",
    "print(' photons_per_pixel_per_second_per_sr: {:e}'.format(photons_per_pixel_per_second_per_sr))\n",
    "print('               photons_in_Si_per_sec: {:e}'.format(photons_in_Si_per_sec))\n",
    "print('                  quantum_efficiency: {0}'.format(quantum_efficiency))\n",
    "print('             electrons_in_Si_per_sec: {:e}'.format(electrons_in_Si_per_sec))\n"
   ]
  },
  {
   "cell_type": "code",
   "execution_count": null,
   "metadata": {
    "collapsed": true
   },
   "outputs": [],
   "source": []
  }
 ],
 "metadata": {
  "kernelspec": {
   "display_name": "Python 2",
   "language": "python",
   "name": "python2"
  },
  "language_info": {
   "codemirror_mode": {
    "name": "ipython",
    "version": 2
   },
   "file_extension": ".py",
   "mimetype": "text/x-python",
   "name": "python",
   "nbconvert_exporter": "python",
   "pygments_lexer": "ipython2",
   "version": "2.7.9"
  }
 },
 "nbformat": 4,
 "nbformat_minor": 0
}
